{
 "cells": [
  {
   "cell_type": "markdown",
   "id": "6068fcee",
   "metadata": {},
   "source": [
    "# Problem Set 4\n",
    "\n",
    "_Heliconius_ butterflies are isolated by geography and display striking differences in adaptive wing patterns, which is facilitated by Müllerian mimicry between distantly related species and coupled with divergence between closely related species. _Heliconius_ butterflies frequently hybridize when their respective species ranges overlap and it has been hypothesised that introgression might play an important role in speciation and adaptive radiation. For the final problem set we will first look at global patterns of population structure and differentiation between _Heliconius_ butterflies subspecies and then assess claims about natural selection and introgression at the _optix_ gene—a gene that controls the extreme red wing pattern variation across multiple species of _Heliconius_ and has be implicated as one of the central genes involved in wing pattern mimicry [Jiggins et al. 2017](https://doi.org/10.1098/rstb.2015.0485). To accomplish this we will look at the chromosome 18 data from [Martin et al. 2020](https://doi.org/10.1371/journal.pbio.2006288) which has been already pre-filtered for you __and contains some missing data—i. e. you will need to properly account for missing data throughout all analyses in this problem set.__\n",
    "\n",
    "![butterflies](data/butterflies.jpg)\n",
    "\n",
    "__ASSIGNMENT__\n",
    "- There are four problems all with multiple parts. __NOTE: Problem 4 will require you to move files to and from OSCAR and submit code to the `SLURM` scheduler__\n",
    "- Do not alter the code in the `Data Processing` section except for changing file paths.\n",
    "- For all analyses you must write your own code (i. e. you can't use published packages to perform the analyses) like we have done in class.\n",
    "\n",
    "__HELPFUL HINTS__\n",
    "- Feel free to add more cells if needed!\n",
    "- Make sure that you put the images in your `data` directory otherwise a lot of the questions won't make sense!\n",
    "- Don't forget to consider ploidy and missing genotypes.\n",
    "- The following papers on [butterfly speciation](https://doi.org/10.1371/journal.pbio.2006288) and [wing pattern evolution](https://doi.org/10.1098/rstb.2015.0485) may be helpful if you are struggling to interpret the results.\n",
    "- To properly account for missing data during your PCA analyses use `M_mat[np.isnan(M_mat)] = 0` to convert all the `np.nan`'s to 0's in your $M$ matrix.\n",
    "- Below I have included a list of `numpy` functions that can properly account for missing data that I used to complete the problem set. \n",
    "- Take a deep breath, and remember that you are very capable!\n",
    "\n",
    "__`np.nan` FUNCTIONS__\n",
    "- [`np.isnan()`](https://numpy.org/doc/stable/reference/generated/numpy.isnan.html)\n",
    "- [`np.nansum()`](https://numpy.org/doc/stable/reference/generated/numpy.nansum.html)\n",
    "- [`np.nanmean()`](https://numpy.org/doc/stable/reference/generated/numpy.nanmean.html)\n",
    "- [`np.nanstd()`](https://numpy.org/doc/stable/reference/generated/numpy.nanstd.html)"
   ]
  },
  {
   "cell_type": "code",
   "execution_count": 2,
   "id": "8ecab7f9",
   "metadata": {},
   "outputs": [],
   "source": [
    "# Import modules.\n",
    "import allel\n",
    "import h5py\n",
    "from matplotlib import pyplot as plt\n",
    "from mpl_toolkits.axes_grid1 import make_axes_locatable\n",
    "import numpy as np\n",
    "import pandas as pd\n",
    "from scipy.stats import norm"
   ]
  },
  {
   "cell_type": "markdown",
   "id": "cd70c158",
   "metadata": {},
   "source": [
    "## Data Processing \n",
    "\n",
    "First, I will load the converted vcf file as a HDF5 file and extract the necessary information needed to complete this problem set."
   ]
  },
  {
   "cell_type": "code",
   "execution_count": 3,
   "id": "6b89483a",
   "metadata": {},
   "outputs": [],
   "source": [
    "# Load the hdf5 data.\n",
    "heli_data = h5py.File('./biol1435/data/heli_chr18.h5', mode='r')\n",
    "# Extract the genotypes.\n",
    "heli_gt = allel.GenotypeArray(heli_data['calldata/GT'][:])\n",
    "# Extract the variable positions array.\n",
    "heli_pos = allel.SortedIndex(heli_data['variants/POS'][:])\n",
    "# Extract the samples array.\n",
    "heli_samps = np.array([samp.decode() for samp in heli_data['samples'][:]])"
   ]
  },
  {
   "cell_type": "markdown",
   "id": "ef618e19",
   "metadata": {},
   "source": [
    "For the selection analyses you will need to perform computations in non-overlapping 50 kb windows. In the cell below I generate a dictionary where the keys correspond to the 50 kb window index and the values correspond to an array of indices that correspond to the window's location in the alternative allele count matrix. I also provide the indices for the _optix_ gene and some helper arrays for plotting."
   ]
  },
  {
   "cell_type": "code",
   "execution_count": 4,
   "id": "8aee5c65",
   "metadata": {},
   "outputs": [],
   "source": [
    "# Adjust the total chromosome length for 50kb windows.\n",
    "chr18_adj_len = (16803890 // 50_000) * 50_000\n",
    "# Intialize a dicctionary with the start and stop position for each window.\n",
    "wind_dicc = {}\n",
    "# Intialize a midpoint list.\n",
    "mid_points = []\n",
    "# Intialize a window index counter.\n",
    "index = 0\n",
    "# For all 50kb window...\n",
    "for window_start in range(1, 16803890, 50_000):\n",
    "    # If this is the last window...\n",
    "    if window_start == 16800001:\n",
    "        # Break the for loop since there are too few sites in the last window.\n",
    "        break\n",
    "    # Else...\n",
    "    else:\n",
    "        # Fill the dictionary with the position indices.\n",
    "        wind_dicc[index] = np.where(((window_start <= heli_pos) & (heli_pos < (window_start + 50_000))))[0]\n",
    "        # Append the midpoint list.\n",
    "        mid_points.append(window_start + 25_000)\n",
    "        # Move the window index forward.\n",
    "        index += 1\n",
    "# Determine the optix gene indices.\n",
    "optix_idx = np.where(((1058778 <= heli_pos) & (heli_pos <= 1159581)))[0]\n",
    "# Intialize the windows the optix gene is in.\n",
    "optix_wind = np.array([21, 22, 23])\n",
    "# Intialize the x-axis ticks.\n",
    "x_ticks = np.arange(0, 350, 30)\n",
    "# Intialize the x-axis tick labels.\n",
    "x_labels = (np.arange(0, chr18_adj_len, 1_500_000) / 1_000_000).astype(str)"
   ]
  },
  {
   "cell_type": "markdown",
   "id": "f957a139",
   "metadata": {},
   "source": [
    "Next, I build a metadata dataframe and extract all the sample indices for each of our species."
   ]
  },
  {
   "cell_type": "code",
   "execution_count": 5,
   "id": "ddca974c",
   "metadata": {},
   "outputs": [],
   "source": [
    "# Extract the species id from samples labels.\n",
    "species_id = [sample.split('.')[0] for sample in heli_samps]\n",
    "# Create a metadata dataframe.\n",
    "heli_meta_df = pd.DataFrame({'samples': heli_samps, 'species': species_id})\n",
    "# Extract the unique sample ids.\n",
    "heli_species = heli_meta_df['species'].unique()\n",
    "# Subset the focal species.\n",
    "focal_heli_species = heli_species[:-1]\n",
    "# Intialize a dictionary to store sample ids.\n",
    "heli_idx_dicc = {}\n",
    "# For every species...\n",
    "for spc in heli_species:\n",
    "    # Fill the dictionary.\n",
    "    heli_idx_dicc[spc] = heli_meta_df[heli_meta_df['species'] == spc].index.values"
   ]
  },
  {
   "cell_type": "markdown",
   "id": "3d5d1dae",
   "metadata": {},
   "source": [
    "Now, I convert the 3D matrix of genotypes to a 2D matrix (sites X samples) of alternative allele counts and encode missing genotypes as `np.nan`'s. Additionally, I provide you with species specific alternative allele count matrix and alternative allele frequency array in the form of dictionaries, where the keys correspond to the species id and the values correspond the species specific matrix/array."
   ]
  },
  {
   "cell_type": "code",
   "execution_count": 6,
   "id": "ca19be7e",
   "metadata": {},
   "outputs": [],
   "source": [
    "# Convert the genotypes to an alternative allele count matrix.\n",
    "heli_aac = heli_gt.to_n_alt(fill=np.nan, dtype=np.float64)\n",
    "# Intialize an allele count matrix dictionary.\n",
    "heli_aac_dicc = {}\n",
    "# intialize a alternative allele frequency dictionary.\n",
    "heli_freq_dicc = {}\n",
    "# For every species...\n",
    "for spc in heli_species:\n",
    "    # Fill the dictionary with the subsetted alternative allele count matrix.\n",
    "    heli_aac_dicc[spc] = heli_aac[:, heli_idx_dicc[spc]]\n",
    "    # Determine the number of chromosomes with allele calls.\n",
    "    called_chroms = np.count_nonzero(~np.isnan(heli_aac_dicc[spc]), axis=1) * 2\n",
    "    # Determine the allele counts of the derived/alternative allele.\n",
    "    per_site_aac = np.nansum(heli_aac_dicc[spc], axis=1)\n",
    "    # Fill the frequency dictionary.\n",
    "    heli_freq_dicc[spc] = per_site_aac / called_chroms"
   ]
  },
  {
   "cell_type": "markdown",
   "id": "02d76185",
   "metadata": {},
   "source": [
    "Lastly, I provide a butterfly species name dictionary for easier plotting as well as a summary of the number of samples we will be analyzing."
   ]
  },
  {
   "cell_type": "code",
   "execution_count": 7,
   "id": "4b6fabfc",
   "metadata": {},
   "outputs": [
    {
     "data": {
      "text/html": [
       "<div>\n",
       "<style scoped>\n",
       "    .dataframe tbody tr th:only-of-type {\n",
       "        vertical-align: middle;\n",
       "    }\n",
       "\n",
       "    .dataframe tbody tr th {\n",
       "        vertical-align: top;\n",
       "    }\n",
       "\n",
       "    .dataframe thead tr th {\n",
       "        text-align: left;\n",
       "    }\n",
       "\n",
       "    .dataframe thead tr:last-of-type th {\n",
       "        text-align: right;\n",
       "    }\n",
       "</style>\n",
       "<table border=\"1\" class=\"dataframe\">\n",
       "  <thead>\n",
       "    <tr>\n",
       "      <th></th>\n",
       "      <th>species</th>\n",
       "    </tr>\n",
       "    <tr>\n",
       "      <th></th>\n",
       "      <th>value_counts</th>\n",
       "    </tr>\n",
       "    <tr>\n",
       "      <th>species</th>\n",
       "      <th></th>\n",
       "    </tr>\n",
       "  </thead>\n",
       "  <tbody>\n",
       "    <tr>\n",
       "      <th>ros</th>\n",
       "      <td>10</td>\n",
       "    </tr>\n",
       "    <tr>\n",
       "      <th>mal</th>\n",
       "      <td>10</td>\n",
       "    </tr>\n",
       "    <tr>\n",
       "      <th>ama</th>\n",
       "      <td>10</td>\n",
       "    </tr>\n",
       "    <tr>\n",
       "      <th>chi</th>\n",
       "      <td>10</td>\n",
       "    </tr>\n",
       "    <tr>\n",
       "      <th>flo</th>\n",
       "      <td>10</td>\n",
       "    </tr>\n",
       "    <tr>\n",
       "      <th>nu_sil</th>\n",
       "      <td>2</td>\n",
       "    </tr>\n",
       "  </tbody>\n",
       "</table>\n",
       "</div>"
      ],
      "text/plain": [
       "             species\n",
       "        value_counts\n",
       "species             \n",
       "ros               10\n",
       "mal               10\n",
       "ama               10\n",
       "chi               10\n",
       "flo               10\n",
       "nu_sil             2"
      ]
     },
     "execution_count": 7,
     "metadata": {},
     "output_type": "execute_result"
    }
   ],
   "source": [
    "# Intialize a species id dictionary.\n",
    "heli_name_dicc = {\n",
    "    'ros': r'$H. \\; mel. \\; rosina$',\n",
    "    'mal': r'$H. \\; mel. \\; malleti$',\n",
    "    'ama': r'$H. \\; mel. \\; amaryllis$',\n",
    "    'chi': r'$H. \\; cyd. \\; chioneus$',\n",
    "    'flo': r'$H. \\; tim. \\; florencia$',\n",
    "    'nu_sil': r'$H. \\; numata$',\n",
    "}\n",
    "# Summarize the samples.\n",
    "heli_meta_df[['species']].aggregate(['value_counts'])"
   ]
  },
  {
   "cell_type": "markdown",
   "id": "6d0433c4",
   "metadata": {},
   "source": [
    "## Population Structure & Differentiation\n",
    "Our dataset includes the following five focal species:\n",
    "- _H. melpomene malleti_ (mal; n=10)\n",
    "- _H. melpomene rosina_ (ros; n=10)\n",
    "- _H. melpomene amaryllis_ (ama; n=10)\n",
    "- _H. timareta florencia_ (flo; n=10)\n",
    "- _H. cydno chioneus_ (chi; n=10)\n",
    "\n",
    "as well as two samples from an outgroup species—_H. numata_ (nu_sil; n=2)—which we will use for our introgression analyses later on. The following image shows the geographic distribution of these species as well as the species tree describing the overall evolutionary relationships:\n",
    "\n",
    "![heli_species](./data/heli_species.png)\n",
    "\n",
    "In this section you will validate the species-level relationships described in the diagram above, but first spend a few minutes to understand the relationships between the different butterfly species and how they are geographically distributed.\n",
    "\n",
    "### PCA\n",
    "\n",
    "__(1a)__ Perform a PCA on all samples excluding the two _H. numata_ samples and plot the samples in PC-space. In three sentences or less please interpret your plot being sure to answer the following questions: Does the PCA reflect the overall species-level relationships from the diagram above? Are there any species that seem less distinguishable? __NOTE: since we have missing genotypes that are encode as `np.nan` in our alternative allele count matrix you will need to set all `np.nan`'s to 0 after finding the standernized allele count matrix—if you don't your covariance matrix will be all `np.nan`'s and you won't be able to perform eigendecomposition.__"
   ]
  },
  {
   "cell_type": "code",
   "execution_count": 8,
   "id": "56529d11",
   "metadata": {},
   "outputs": [
    {
     "name": "stdout",
     "output_type": "stream",
     "text": [
      "[[0. 0. 0. ... 0. 0. 0.]\n",
      " [0. 0. 0. ... 0. 0. 0.]\n",
      " [0. 0. 0. ... 0. 0. 0.]\n",
      " ...\n",
      " [0. 0. 0. ... 0. 0. 0.]\n",
      " [0. 0. 0. ... 0. 0. 0.]\n",
      " [0. 0. 0. ... 0. 0. 0.]]\n",
      "[0.         0.         0.16666667 ... 0.         0.         0.        ]\n"
     ]
    }
   ],
   "source": [
    "print(np.nan_to_num(heli_aac_dicc['ros'], nan=0))\n",
    "print(heli_freq_dicc['ros'])"
   ]
  },
  {
   "cell_type": "code",
   "execution_count": 9,
   "id": "5644ee52",
   "metadata": {},
   "outputs": [],
   "source": [
    "ros_aac = np.nan_to_num(heli_aac_dicc['ros'], nan=0)\n",
    "mal_aac = np.nan_to_num(heli_aac_dicc['mal'], nan=0)\n",
    "ama_aac = np.nan_to_num(heli_aac_dicc['ama'], nan=0)\n",
    "chi_aac = np.nan_to_num(heli_aac_dicc['chi'], nan=0)\n",
    "flo_aac = np.nan_to_num(heli_aac_dicc['flo'], nan=0)\n",
    "\n",
    "all_aac = np.concatenate((ros_aac, mal_aac, ama_aac, chi_aac, flo_aac), axis=1)"
   ]
  },
  {
   "cell_type": "code",
   "execution_count": 10,
   "id": "49e99c81",
   "metadata": {},
   "outputs": [],
   "source": [
    "\n",
    "# Calculate the column mean vector.\n",
    "mu_vec = np.mean(all_aac, axis=0)\n",
    "# Calculate the column allele frequency vector.\n",
    "p_vec = mu_vec / 2\n",
    "# Calculate the standard deviation vector.\n",
    "std_vec = np.sqrt(((all_aac.shape[0] * 2) * p_vec * (1 - p_vec)))\n",
    "# Convert the C matrix to a zero centered M matrix.\n",
    "M_mat = (all_aac - mu_vec) / std_vec"
   ]
  },
  {
   "cell_type": "code",
   "execution_count": 11,
   "id": "ef915f81",
   "metadata": {},
   "outputs": [],
   "source": [
    "# STEP 2: Final, computing the covariance matrix\n",
    "# Compute the covariance matrix.\n",
    "# X_mat = np.dot(M_mat, M_mat.T) / (M_mat.shape[0] - 1)\n",
    "\n",
    "X_mat = np.cov(M_mat, rowvar=False)"
   ]
  },
  {
   "cell_type": "code",
   "execution_count": 12,
   "id": "9bc4bb35",
   "metadata": {},
   "outputs": [],
   "source": [
    "# STEP 3: Compute the eigen -values and -vectors.\n",
    "eig_vals, eig_vecs = np.linalg.eig(X_mat)\n",
    "# Sort the -values and -vectors.\n",
    "\n",
    "# STEP 4: Sort the eigen vales and pick the corresponding eigen vectors (Principal components)\n",
    "eig_idx = np.argsort(eig_vals)[::-1]\n",
    "eig_vals = eig_vals[eig_idx]\n",
    "eig_vecs = eig_vecs[:, eig_idx]"
   ]
  },
  {
   "cell_type": "code",
   "execution_count": 28,
   "id": "af64ab93",
   "metadata": {},
   "outputs": [
    {
     "data": {
      "image/png": "[encoded data removed]",
      "text/plain": [
       "<Figure size 2400x1200 with 1 Axes>"
      ]
     },
     "metadata": {},
     "output_type": "display_data"
    }
   ],
   "source": [
    "# STEP 5: Plot your first two principal components\n",
    "# Intialize the figure.\n",
    "fig = plt.figure(figsize=(8, 4), constrained_layout=True, dpi=300)\n",
    "# Intialize the axes.\n",
    "ax = fig.add_subplot(111)\n",
    "# Plot the simulated results.\n",
    "ax.scatter(\n",
    "    eig_vecs[:10, 0], eig_vecs[:10, 1],\n",
    "    color='mistyrose', label='rosina',\n",
    ")\n",
    "# Plot the analytical solutions.\n",
    "ax.scatter(\n",
    "    eig_vecs[10:20, 0], eig_vecs[10:20, 1],\n",
    "    color='salmon', label='malleti',\n",
    ")\n",
    "ax.scatter(\n",
    "    eig_vecs[20:30, 0], eig_vecs[20:30, 1],\n",
    "    color='orangered', label='amaryllis',\n",
    ")\n",
    "ax.scatter(\n",
    "    eig_vecs[20:30, 0], eig_vecs[20:30, 1],\n",
    "    color='lightsteelblue', label='chioneus',\n",
    "    s=5,\n",
    ")\n",
    "ax.scatter(\n",
    "    eig_vecs[40:50, 0], eig_vecs[40:50, 1],\n",
    "    color='royalblue', label='florencia',\n",
    ")\n",
    "# Despine the axes.\n",
    "ax.spines['top'].set_visible(False)\n",
    "ax.spines['right'].set_visible(False)\n",
    "# Plot the legend.\n",
    "ax.legend(loc='center left', bbox_to_anchor=(1.0, 0.5), frameon=False)\n",
    "# Label the axes.\n",
    "plt.xlabel('PC1')\n",
    "plt.ylabel('PC2', rotation=0)\n",
    "# Show!\n",
    "plt.show()"
   ]
  },
  {
   "cell_type": "markdown",
   "id": "1c71c913",
   "metadata": {},
   "source": [
    "__(1b)__ If you performed your PCA analyses correctly you will notice that _H. melpomene malleti_ and _H. melpomene amaryllis_ cluster together on the PCA despite being geographically distinct \"subspecies\" with distinct wing patterns—ie they _should_ seperate into different clusters in PC-space. Perform a PCA on just the _H. melpomene malleti_ and _H. melpomene amaryllis_ samples and plot the samples in PC-space. In three sentences or less please interpret your plot being sure to answer the following questions: Do the two subspecies still cluster together? How and why is the PCA different (or not) from your previous PCA?"
   ]
  },
  {
   "cell_type": "code",
   "execution_count": null,
   "id": "ef684bf3",
   "metadata": {},
   "outputs": [],
   "source": []
  },
  {
   "cell_type": "code",
   "execution_count": null,
   "id": "ba06b9d5",
   "metadata": {},
   "outputs": [],
   "source": []
  },
  {
   "cell_type": "code",
   "execution_count": null,
   "id": "56673f7a",
   "metadata": {},
   "outputs": [],
   "source": []
  },
  {
   "cell_type": "code",
   "execution_count": null,
   "id": "c802908c",
   "metadata": {},
   "outputs": [],
   "source": []
  },
  {
   "cell_type": "code",
   "execution_count": null,
   "id": "e8850258",
   "metadata": {},
   "outputs": [],
   "source": []
  },
  {
   "cell_type": "markdown",
   "id": "ff170cc0",
   "metadata": {},
   "source": [
    "### $F_{ST}$\n",
    "\n",
    "__(2)__ Compute $F_{ST}$ between all pairwise combinations of species (excluding _H. numata_) and plot the results as a heatmap. In three sentences or less please interpret your plot being sure to address if the pairwise estimates of $F_{ST}$ reflect the species level relationships represented in the diagram above. "
   ]
  },
  {
   "cell_type": "code",
   "execution_count": null,
   "id": "f9ae1a8a",
   "metadata": {},
   "outputs": [],
   "source": []
  },
  {
   "cell_type": "code",
   "execution_count": null,
   "id": "e988b596",
   "metadata": {},
   "outputs": [],
   "source": []
  },
  {
   "cell_type": "code",
   "execution_count": null,
   "id": "8e586efd",
   "metadata": {},
   "outputs": [],
   "source": []
  },
  {
   "cell_type": "code",
   "execution_count": null,
   "id": "afa095bf",
   "metadata": {},
   "outputs": [],
   "source": []
  },
  {
   "cell_type": "code",
   "execution_count": null,
   "id": "a7daeef8",
   "metadata": {},
   "outputs": [],
   "source": []
  },
  {
   "cell_type": "markdown",
   "id": "f4198c6c",
   "metadata": {},
   "source": [
    "## Selection & Introgression\n",
    "\n",
    "In the diagram from the previous section you should notice that different butterfly species have different wing patterning and colors. A species' wing patterning is adapted to its enviornment as it signals their distastefulness to local predators. One of the focal genes responsible for the red wing patterning is known as _optix_:\n",
    "\n",
    "![optix](./data/optix.png)\n",
    "\n",
    "In this section we will utilize the fact that _H. melpomene malleti_ and _H. melpomene amaryllis_ have different wing patternings to first assess if the gene _optix_ exhibits signtaures consistent with natural selection and then test for signatures of introgression at this gene. To test for local introgression we will use the $D+$ statistic which is conceptually similar _Patterson's D_ except it incorporates both patterns of ancestral and derived allele sharing to assess claims of introgression — read the `\"Introduction\"` and `\"New Approaches\"` sections from this [paper](https://www.biorxiv.org/content/10.1101/2022.12.02.518851v1.full) to learn more.\n",
    "\n",
    "\\begin{equation}\n",
    "D+ \\left(P1, P2, P3, P4 \\right) = \\frac{\n",
    "    \\left(\\sum_{i = 1}^{n} C_{ABBA}(i) - C_{BABA}(i) \\right) + \\left(\\sum_{i = 1}^{n} C_{BAAA}(i) - C_{ABAA}(i) \\right)\n",
    "    }{\n",
    "    \\left(\\sum_{i = 1}^{n} C_{ABBA}(i) + C_{BABA}(i) \\right) + \\left(\\sum_{i = 1}^{n} C_{BAAA}(i) + C_{ABAA}(i) \\right)\n",
    "    }\n",
    "\\end{equation}\n",
    "\n",
    "\\begin{equation}\n",
    "D+ = \\frac{\\sum_{i=1}^{n} [(1 - p_{i1}) p_{i2} p_{i3} (1 - p_{i4}) - p_{i1} (1 - p_{i2}) p_{i3} (1 - p_{i4})] + [p_{i1} (1 - p_{i2}) (1 - p_{i3}) (1 - p_{i4}) - (1 - p_{i1}) p_{i2} (1 - p_{i3}) (1 - p_{i4})]}{\\sum_{i=1}^{n} [(1 - p_{i1}) p_{i2} p_{i3} (1 - p_{i4}) + p_{i1} (1 - p_{i2}) p_{i3} (1 - p_{i4})] + [p_{i1} (1 - p_{i2}) (1 - p_{i3}) (1 - p_{i4}) + (1 - p_{i1}) p_{i2} (1 - p_{i3}) (1 - p_{i4})]} \n",
    "\\end{equation}\n",
    "\n",
    "__(3a)__ Compute nucleotide diversity (ie [$\\pi_{pixy}$](https://doi.org/10.1111/1755-0998.13326)) for both _H. melpomene malleti_ and _H. melpomene amaryllis_, $F_{ST}$ between _H. melpomene malleti_ and _H. melpomene amaryllis_, and $D+$ (see below for the two configurations) in non-overlapping 50 kb windows and then plot all of the results being sure to highlight the _optix_ region (chr18:1058778-1159581). I have included functions to calculate $D+$ and $\\pi_{pixy}$ below as well as a skeleton outline for how to iterate through the windows to perform the computations, and subsequent code to plot the windowed results—feel free not to use any of my code but know that it is there :)\n",
    "\n",
    "_H. melpomene malleti_ $D+$ Configuration\n",
    "- P1 = _H. cydno chioneus_\n",
    "- P2 = _H. timareta florencia_\n",
    "- P3 = _H. melpomene malleti_\n",
    "- P4 = _H. numata_\n",
    "\n",
    "_H. melpomene amaryllis_ $D+$  Configuration\n",
    "- P1 = _H. cydno chioneus_\n",
    "- P2 = _H. timareta florencia_\n",
    "- P3 = _H. melpomene amaryllis_\n",
    "- P4 = _H. numata_"
   ]
  },
  {
   "cell_type": "code",
   "execution_count": null,
   "id": "fb760174",
   "metadata": {},
   "outputs": [],
   "source": [
    "# Define a function to calculate D+.\n",
    "def dplus(p1, p2, p3, p4):\n",
    "    \"\"\"Returns the D+ value for a given configuration.\n",
    "    \n",
    "    pX -- numpy array of alternative allele frequencies.\n",
    "    \"\"\"\n",
    "    # Polarize the alternative allele frequency arrays.\n",
    "    p1 = np.where(p4 > 0, np.abs(p1 - 1), p1)\n",
    "    p2 = np.where(p4 > 0, np.abs(p2 - 1), p2)\n",
    "    p3 = np.where(p4 > 0, np.abs(p3 - 1), p3)\n",
    "    p4 = np.where(p4 > 0, np.abs(p4 - 1), p4)\n",
    "    # Calculate site pattern counts.\n",
    "    abba = np.nansum((1 - p1) * (p2) * (p3) * (1 - p4))\n",
    "    baba = np.nansum((p1) * (1 - p2) * (p3) * (1 - p4))\n",
    "    baaa = np.nansum((p1) * (1 - p2) * (1 - p3) * (1 - p4))\n",
    "    abaa = np.nansum((1 - p1) * (p2) * (1 - p3) * (1 - p4))\n",
    "    # If the denominator is undefined...\n",
    "    if ((abba + baba) + (baaa + abaa)) == 0:\n",
    "        # Set D+ to np.nan.\n",
    "        dplus = np.nan\n",
    "    # Else...\n",
    "    else:\n",
    "        # Claculate D+.\n",
    "        dplus = (((abba - baba) + (baaa - abaa)) / ((abba + baba) + (baaa + abaa)))\n",
    "    return dplus"
   ]
  },
  {
   "cell_type": "code",
   "execution_count": null,
   "id": "222c795b-5fd6-4987-a28d-8e79ea33889e",
   "metadata": {},
   "outputs": [],
   "source": [
    "# Define a function to calculate nucleotide diversity per site.\n",
    "def pixy(genotype_matrix):\n",
    "    \"\"\"Returns an of array nucleotide diversity for a genotype\n",
    "       matrix with missing data.\n",
    "\n",
    "    genotype_matrix -- numpy matrix with a shape of (sites x chromosomes).\n",
    "    \"\"\"\n",
    "    # Determine the number of called genotypes for each site.\n",
    "    called_genotypes = np.count_nonzero(~np.isnan(genotype_matrix), axis=1) * 2\n",
    "    # Create a mask where there are no called genotypes.\n",
    "    mask = called_genotypes == 0\n",
    "    # Determine the allele counts of the derived/alternative allele.\n",
    "    derived_allele_count = np.nansum(genotype_matrix, axis=1)\n",
    "    # Determine the allele counts of the ancestral/reference allele.\n",
    "    ancestral_allele_count = called_genotypes - derived_allele_count\n",
    "    # Determine the number of comparisons per site.\n",
    "    nC2 = np.array([((n * (n - 1)) / 2) for n in called_genotypes])\n",
    "    # Calculate the numerator.\n",
    "    numerator = np.nanmean(\n",
    "        (derived_allele_count[~mask] * ancestral_allele_count[~mask])\n",
    "    )\n",
    "    # Calculate the denominator.\n",
    "    denominator = np.nanmean(nC2[~mask])\n",
    "    # Calculate pixy.\n",
    "    pi_pixy = numerator / denominator\n",
    "    return pi_pixy"
   ]
  },
  {
   "cell_type": "code",
   "execution_count": null,
   "id": "133b280b",
   "metadata": {},
   "outputs": [],
   "source": [
    "### SKELETON FOR PERFORMING COMPUTATIONS IN WINDOWS ###\n",
    "\n",
    "# Intialize a dictionary to store the results.\n",
    "results_dicc = {\n",
    "    'pi_mal': [], 'pi_ama': [],\n",
    "    'fst': [], 'dplus_mal': [], 'dplus_ama': [],\n",
    "}\n",
    "\n",
    "# For every window...\n",
    "for idx in wind_dicc.keys():\n",
    "    # Identify the variable sites indices for the current window.\n",
    "    wind_sites_idx = wind_dicc[idx]\n",
    "    \n",
    "    # Compute pi_{pixy}.\n",
    "    \n",
    "    \n",
    "    \n",
    "    # Compute Fst.\n",
    "    \n",
    "\n",
    "    \n",
    "    # Compute D+.\n",
    "    \n",
    "    \n",
    "    \n",
    "    # Fill the dictionary.\n",
    "    results_dicc['pi_mal'].append()\n",
    "    results_dicc['pi_ama'].append()\n",
    "    results_dicc['fst'].append()\n",
    "    results_dicc['dplus_mal'].append()\n",
    "    results_dicc['dplus_ama'].append()"
   ]
  },
  {
   "cell_type": "code",
   "execution_count": null,
   "id": "d485543a",
   "metadata": {},
   "outputs": [],
   "source": [
    "### PLOTTING CODE IF YOU USED MY CODE FROM ABOVE ###\n",
    "\n",
    "# Intialize the figure and axes.\n",
    "fig, axes = plt.subplots(\n",
    "    3, 1, figsize=(12, 9), sharex=True, sharey=False, \n",
    "    constrained_layout=True, dpi=300,\n",
    ")\n",
    "# Plot nucleotide diversity.\n",
    "axes[0].plot(\n",
    "    results_dicc['pi_mal'], color='tab:blue',\n",
    "    label=heli_name_dicc['mal'],\n",
    ")\n",
    "axes[0].plot(\n",
    "    results_dicc['pi_ama'], color='tab:orange',\n",
    "    label=heli_name_dicc['ama'],\n",
    ")\n",
    "# Plot fst.\n",
    "axes[1].plot(results_dicc['fst'], color='black')\n",
    "# Plot D+.\n",
    "axes[2].plot(results_dicc['dplus_mal'], color='tab:blue')\n",
    "axes[2].plot(results_dicc['dplus_ama'], color='tab:orange')\n",
    "axes[2].text(\n",
    "    90, 0.5, '((({0}, {1}), P3), {2})'.format(\n",
    "        heli_name_dicc['chi'], heli_name_dicc['flo'], heli_name_dicc['nu_sil'],\n",
    "    ),\n",
    ")\n",
    "# Plot the optix gene region.\n",
    "axes[0].axvline(\n",
    "    21, linewidth=15, color='red',\n",
    "    label=r'$optix$', alpha=0.5,\n",
    ")\n",
    "axes[1].axvline(21, linewidth=15, color='red',alpha=0.5)\n",
    "axes[2].axvline(21, linewidth=15, color='red',alpha=0.5)\n",
    "# Add the legend.\n",
    "fig.legend(loc='center left', bbox_to_anchor=(1.0, 0.5))\n",
    "# Set the x-axis.\n",
    "axes[2].set_xticks(x_ticks)\n",
    "axes[2].set_xticklabels(x_labels)\n",
    "axes[2].set_xlabel('Chromosme 18 Position (Mb)')\n",
    "# Label the y-axes.\n",
    "axes[0].set_ylabel(r'$\\pi$')\n",
    "axes[1].set_ylabel(r'$F_{ST}$')\n",
    "axes[2].set_ylabel(r'$D+$')\n",
    "# Show the plot.\n",
    "plt.show()"
   ]
  },
  {
   "cell_type": "markdown",
   "id": "504952fd",
   "metadata": {},
   "source": [
    "__(3b)__ From your window based plot in three sentences or less explain the overall trends you observe for nucleotide diversity, $F_{ST}$, and $D+$ and then contrast them to what you observe in the _optix_ region. Are the trends you are seeing in the _optix_ region consistent with signatures of natural selction and introgression? Why or why not?"
   ]
  },
  {
   "cell_type": "code",
   "execution_count": null,
   "id": "44411edf",
   "metadata": {},
   "outputs": [],
   "source": []
  },
  {
   "cell_type": "markdown",
   "id": "b70b285a",
   "metadata": {},
   "source": [
    "__(4a)__ Using your command line skills securely copy `heli_chr18_100kb_bootstrapping.py` and `perform_heli_bootstrapping.sh` from your local computer to personal directory in our course directory on OSCAR (ie `/gpfs/data/biol1435/`), log on to OSCAR and navigate to your personal directory, using your editor of choice type your email in the `SLURM` header in the `perform_heli_bootstrapping.sh` shell script, and then submit `perform_heli_bootstrapping.sh` to the `SLURM` scheduler. This python script will sample with replacement 1000 bootstrapped windows of 100 kb from chromosome 18 (roughly the size of _optix_) and computes $F_{ST}$ and $D+$ for all bootstrapped windows. After about two minutes or so securley copy the output files (ie `heli_chr18_fst_100kb_bs.csv.gz`, `heli_chr18_dplus_mal_100kb_bs.csv.gz`, and `heli_chr18_dplus_ama_100kb_bs.csv.gz`) from your personal directory to your local computer, and then upload the files to your `data` directory on the Jupyter Hub. Using the `optix_idx` variable that I created for you in the `Data Processing` section compute the observed $F_{ST}$ and $D+$ values for the optix gene and then use the bootstrap distibutions to compute the p-values. __NOTE: For $F_{ST}$ the p-value represents the proportion of bootstrapped replicates with a larger $F_{ST}$ value than what we observed and for $D+$ the p-value represents if our observed $D+$ value is statistically different from 0 after correcting for the mean and standard deviation from our bootstrap distribution (hint: use `scipy.stats.norm.sf()` for $D+$).__"
   ]
  },
  {
   "cell_type": "code",
   "execution_count": null,
   "id": "908faccd",
   "metadata": {},
   "outputs": [],
   "source": []
  },
  {
   "cell_type": "code",
   "execution_count": null,
   "id": "8e28b231",
   "metadata": {},
   "outputs": [],
   "source": []
  },
  {
   "cell_type": "code",
   "execution_count": null,
   "id": "a12194e4",
   "metadata": {},
   "outputs": [],
   "source": []
  },
  {
   "cell_type": "code",
   "execution_count": null,
   "id": "76df7518",
   "metadata": {},
   "outputs": [],
   "source": []
  },
  {
   "cell_type": "code",
   "execution_count": null,
   "id": "9ef87784",
   "metadata": {},
   "outputs": [],
   "source": []
  },
  {
   "cell_type": "markdown",
   "id": "0fd5d92b",
   "metadata": {},
   "source": [
    "__(4c)__ Plot the bootstrap distibutions for $F_{ST}$ and $D+$, being sure to include a line to designate the observed value for _optix_ as well as the p-value you just computed rounded to three decimal places. Using a significance threshold of 0.05 assess if _optix_ is more differntiated than expected between _H. melpomene malleti_ and _H. melpomene amaryllis_ and if any of our two $D+$ tests are consistent with gene flow between _H. timareta florencia_. Using the references provided in this notebook and the diagram from the first section, why does it make sense that _optix_ is a target of natural selection? Why does it make sense that _optix_ would exhibit signatures of introgression in _H. melpomene malleti_ or _H. melpomene amaryllis_ but not in both configurations? Lastly, do you think _optix_ is a candidate gene for adaptive introgression, why or why not? __Hint: When constructing your final interpretations think back to _optix_'s function and its role in butterfly evolution.__"
   ]
  },
  {
   "cell_type": "code",
   "execution_count": null,
   "id": "bf422ad0",
   "metadata": {},
   "outputs": [],
   "source": []
  },
  {
   "cell_type": "code",
   "execution_count": null,
   "id": "12626337",
   "metadata": {},
   "outputs": [],
   "source": []
  },
  {
   "cell_type": "code",
   "execution_count": null,
   "id": "2e1d0779",
   "metadata": {},
   "outputs": [],
   "source": []
  },
  {
   "cell_type": "code",
   "execution_count": null,
   "id": "68213543",
   "metadata": {},
   "outputs": [],
   "source": []
  },
  {
   "cell_type": "code",
   "execution_count": null,
   "id": "3cac6f06",
   "metadata": {},
   "outputs": [],
   "source": []
  }
 ],
 "metadata": {
  "kernelspec": {
   "display_name": "Python 3",
   "language": "python",
   "name": "biol1435"
  },
  "language_info": {
   "codemirror_mode": {
    "name": "ipython",
    "version": 3
   },
   "file_extension": ".py",
   "mimetype": "text/x-python",
   "name": "python",
   "nbconvert_exporter": "python",
   "pygments_lexer": "ipython3",
   "version": "3.9.21"
  }
 },
 "nbformat": 4,
 "nbformat_minor": 5
}
