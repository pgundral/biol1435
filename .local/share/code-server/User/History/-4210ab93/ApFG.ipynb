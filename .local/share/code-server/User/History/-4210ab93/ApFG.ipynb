{
 "cells": [
  {
   "cell_type": "markdown",
   "id": "f17c9619",
   "metadata": {},
   "source": [
    "# Problem Set 1\n",
    "\n",
    "For this problem set we will look at patterns of genetic diversity at the _LCT_ and _MCM6_ genes. Studies have shown that this locus exhibits signals consistent with positive selection in European populations and is associated with lactase persistence—a trait unique among mammals and is thought to be a result of cattle domestication and the incorporation of milk into the adult diets of several human populations (Enattah et al. 2002; Marnetto and Huerta-Sánchez 2017; Smith et al. 2018).\n",
    "\n",
    "__ASSIGNMENT__\n",
    "- There are five coding problems, one interpretation problem, and one extra credit coding problem.\n",
    "- The following python modules are required to complete this problem set, however, you can use other modules at your own risk.\n",
    "- Do not alter the code in the `Data Processing` section except for changing file paths.\n",
    "- You may not work with other students, but you may ask the instructor questions by email or by coming to office hours, reference package documentation, reference coding exercises from previous lectures, and refernce the course GitHub.\n",
    "\n",
    "__HELPFUL HINTS__\n",
    "- Feel free to add more cells if needed!\n",
    "- Don't forget to consider ploidy.\n",
    "- Remember the bounds for the site frequency spectrum.\n",
    "- Take a deep breath, and remember that you are very capable!"
   ]
  },
  {
   "cell_type": "code",
   "execution_count": 1,
   "id": "a8044d1a",
   "metadata": {},
   "outputs": [],
   "source": [
    "# Import modules.\n",
    "import h5py\n",
    "from matplotlib import pyplot as plt\n",
    "import numpy as np\n",
    "import pandas as pd"
   ]
  },
  {
   "cell_type": "markdown",
   "id": "18d16a01",
   "metadata": {},
   "source": [
    "## Data Processing \n",
    "\n",
    "First, I will load the converted vcf file as a HDF5 file and extract the necessary information needed to complete this problem set."
   ]
  },
  {
   "cell_type": "code",
   "execution_count": 46,
   "id": "3dfc8078",
   "metadata": {},
   "outputs": [
    {
     "data": {
      "text/plain": [
       "'\\n(1) The genotypes (a,b) for each of 2504 (+1) individuals at 2464 sites is extracted\\n    * the last entry (+1) being the reference sequence\\n(2) The genotypes are summed across that last dimension (axis=2) to get single numbers \\n    ex. (1,1) becomes (2)\\n(3) Variable positions array ??\\n'"
      ]
     },
     "execution_count": 46,
     "metadata": {},
     "output_type": "execute_result"
    }
   ],
   "source": [
    "# Load the hdf5 data.\n",
    "lct_mcm6_h5 = h5py.File(\n",
    "    \"./data/tgp_lct_mcm6_biallelic_snps_anc_calls_filtered.h5\", mode=\"r\"\n",
    ")\n",
    "# Extract the genotypes.\n",
    "lct_mcm6_gt = lct_mcm6_h5[\"calldata/GT\"][:]\n",
    "# Convert the genotypes to an alternative allele count matrix.\n",
    "lct_mcm6_aac_mat = np.sum(lct_mcm6_gt, axis=2)\n",
    "# Extract the variable positions array.\n",
    "lct_mcm6_pos = lct_mcm6_h5[\"variants/POS\"][:]\n",
    "\n",
    "'''\n",
    "(1) The genotypes (a,b) for each of 2504 (+1) individuals at 2464 sites is extracted\n",
    "    * the last entry (+1) being the reference sequence\n",
    "(2) The genotypes are summed across that last dimension (axis=2) to get single numbers \n",
    "    ex. (1,1) becomes (2)\n",
    "(3) Variable positions array ??\n",
    "'''"
   ]
  },
  {
   "cell_type": "markdown",
   "id": "41b3e4e9",
   "metadata": {},
   "source": [
    "Next, I will define a function to polarize the allele count matrix and subsequently convert the alternative allele count matrix to the derived allele count matrix."
   ]
  },
  {
   "cell_type": "code",
   "execution_count": 47,
   "id": "dbb3be32",
   "metadata": {},
   "outputs": [],
   "source": [
    "# Define a function to convert genotypes to derived allele counts.\n",
    "def aac_2_dac(aac):\n",
    "    \"\"\"Returns a derived allele count matrix where an individual can have\n",
    "       the following possible genotype entries:\n",
    "\n",
    "       0 = homozygous for the ancestral allele\n",
    "       1 = heterozygous\n",
    "       2 = homozygous for the derived allele\n",
    "\n",
    "    aac -- alternative allele count matrix with the outgroup encoded in\n",
    "           the last column of the matrix.\n",
    "    \"\"\"\n",
    "    # Intialize a derived allele count matrix.\n",
    "    dac = np.empty_like(aac[:, 0:-1])\n",
    "    # For every site...\n",
    "    for site in range(aac.shape[0]):\n",
    "        # Extract the tgp samples and ancestor.\n",
    "        tgp = aac[site, 0:-1]\n",
    "        anc = aac[site, -1]\n",
    "        # If the alternative allele is the derived allele...\n",
    "        if anc > 0:\n",
    "            # Polarize the tgp.\n",
    "            p_tgp = np.abs(tgp - 2)\n",
    "            # Fill the derived allele count matrix.\n",
    "            dac[site, :] = p_tgp\n",
    "        # Else...\n",
    "        else:\n",
    "            # Fill the derived allele count matrix.\n",
    "            dac[site, :] = tgp\n",
    "    return dac\n",
    "\n",
    "'''\n",
    "(1) An aac (like the one above) is input\n",
    "(2) A placeholder dac matrix is initialized with all 0 and (-1) less row (excludes ancestor reference)\n",
    "(3) For EACH site in aac.shape[0] (2464 sites), we get\n",
    "    * tgp (all other individuals' genotypes)\n",
    "    * anc (JUST the last row, the reference)\n",
    "    (a) IF the ancestral genotype is anything other than (0,0), so (1,0)/(0,1) or (1,1)\n",
    "    then we take our tgp's and -2, then ABS.\n",
    "        ** This essentially makes any genotypes=2 into 0 (b/c they are NOT derived given they match the ancestor)\n",
    "        ** This also makes any genotypes=1 into 1, b/c they only half match the ancestor\n",
    "'''"
   ]
  },
  {
   "cell_type": "code",
   "execution_count": 43,
   "id": "957c448d",
   "metadata": {},
   "outputs": [
    {
     "name": "stdout",
     "output_type": "stream",
     "text": [
      "(2464, 2504)\n"
     ]
    }
   ],
   "source": [
    "# Convert the alternative allele count matrix to\n",
    "# the derived allele count matrix.\n",
    "lct_mcm6_dac_mat = aac_2_dac(lct_mcm6_aac_mat)"
   ]
  },
  {
   "cell_type": "markdown",
   "id": "380ba70f",
   "metadata": {},
   "source": [
    "As, a sanity check let's make sure there are the same number of sites in the positions array as in the derived allele count matrix. Note: If the size of the positions array and the size of the first dimension in the derived allele count matrix is not 2464 contact the instructor ASAP."
   ]
  },
  {
   "cell_type": "code",
   "execution_count": 6,
   "id": "78591aef",
   "metadata": {},
   "outputs": [
    {
     "data": {
      "text/plain": [
       "2464"
      ]
     },
     "execution_count": 6,
     "metadata": {},
     "output_type": "execute_result"
    }
   ],
   "source": [
    "# Show the size of posistions array.\n",
    "lct_mcm6_pos.size"
   ]
  },
  {
   "cell_type": "code",
   "execution_count": 7,
   "id": "86804160",
   "metadata": {},
   "outputs": [
    {
     "data": {
      "text/plain": [
       "(2464, 2504)"
      ]
     },
     "execution_count": 7,
     "metadata": {},
     "output_type": "execute_result"
    }
   ],
   "source": [
    "# Show the shape of the derived allele count matrix.\n",
    "lct_mcm6_dac_mat.shape"
   ]
  },
  {
   "cell_type": "markdown",
   "id": "5af175a8",
   "metadata": {},
   "source": [
    "Great, the positions array and the derived allele count matrix are in agreement. Throughout this problem set you will run analyses on each super-population from the 1000 Genome's Project (TGP), so the last thing I will do for you is subset the original derived allele count matrix by super-population—however feel free to work from the original derived allele count matrix if you wish!"
   ]
  },
  {
   "cell_type": "code",
   "execution_count": 8,
   "id": "79ccd14a",
   "metadata": {},
   "outputs": [],
   "source": [
    "# Load the tgp metadata as a pandas dataframe.\n",
    "meta_df = pd.read_csv(\n",
    "    \"./data/tgp_meta_data.txt\",\n",
    "    sep=\"\\t\",\n",
    "    names=[\"Individual\", \"Population\", \"Super-Population\"],\n",
    ")\n",
    "# Intialize a super population list.\n",
    "superpop_list = [\"AFR\", \"SAS\", \"EAS\", \"EUR\", \"AMR\"]\n",
    "# Intialize a dictionary to store indicies.\n",
    "superpop_idx_dicc = {}\n",
    "# For every super population...\n",
    "for superpop in superpop_list:\n",
    "    # Fill the dictionary.\n",
    "    superpop_idx_dicc[superpop] = meta_df[\n",
    "        meta_df[\"Super-Population\"] == superpop\n",
    "    ].index.values\n",
    "# Extract the derived allele count matrix for each super population.\n",
    "afr_dac_mat = lct_mcm6_dac_mat[:, superpop_idx_dicc[\"AFR\"]]\n",
    "sas_dac_mat = lct_mcm6_dac_mat[:, superpop_idx_dicc[\"SAS\"]]\n",
    "eas_dac_mat = lct_mcm6_dac_mat[:, superpop_idx_dicc[\"EAS\"]]\n",
    "eur_dac_mat = lct_mcm6_dac_mat[:, superpop_idx_dicc[\"EUR\"]]\n",
    "amr_dac_mat = lct_mcm6_dac_mat[:, superpop_idx_dicc[\"AMR\"]]"
   ]
  },
  {
   "cell_type": "code",
   "execution_count": 30,
   "id": "11e9a863",
   "metadata": {},
   "outputs": [
    {
     "name": "stdout",
     "output_type": "stream",
     "text": [
      "2504\n",
      "(2464, 2504)\n"
     ]
    }
   ],
   "source": [
    "print(np.sum([afr_dac_mat.shape[1],sas_dac_mat.shape[1],\n",
    "eas_dac_mat.shape[1],eur_dac_mat.shape[1],amr_dac_mat.shape[1]]))\n",
    "print(lct_mcm6_dac_mat.shape)"
   ]
  },
  {
   "cell_type": "markdown",
   "id": "cc0ee5a5",
   "metadata": {},
   "source": [
    "## Segregating Sites ($S$)\n",
    "\n",
    "In the `Data Processing` section we determined how many segrgating sites were observed among all individuals in the TGP.\n",
    "\n",
    "__(1) Compute the number of segregating sites observed in each super-population.__"
   ]
  },
  {
   "cell_type": "code",
   "execution_count": 31,
   "id": "35c65cc0",
   "metadata": {},
   "outputs": [],
   "source": [
    "def count_seg_site(dac_mat):\n",
    "    \"\"\"Returns segregating site count by checking for\n",
    "    sites with only genotype 0 (0 0) or 2 (1 1) across\n",
    "    the pop\"\"\"\n",
    "\n",
    "    # Find sum of all genotypes per site (row, axis=1)\n",
    "    sum_der = np.sum(dac_mat, axis = 1)\n",
    "\n",
    "    seg_site = 0\n",
    "    \n",
    "    for site in sum_der:\n",
    "        # Checks for sums of 0 (all geno-0) or .shape[1]*2 (sites*2, all geno-2)\n",
    "        # Either case is NOT a segregating site. \n",
    "        if site != 0 and site != dac_mat.shape[1]*2:\n",
    "            seg_site += 1\n",
    "\n",
    "    return seg_site"
   ]
  },
  {
   "cell_type": "code",
   "execution_count": 10,
   "id": "32b4bcd4",
   "metadata": {},
   "outputs": [],
   "source": [
    "afr_seg_site = count_seg_site(afr_dac_mat)\n",
    "sas_seg_site = count_seg_site(sas_dac_mat)\n",
    "eas_seg_site = count_seg_site(eas_dac_mat)\n",
    "eur_seg_site = count_seg_site(eur_dac_mat)\n",
    "amr_seg_site = count_seg_site(amr_dac_mat)"
   ]
  },
  {
   "cell_type": "code",
   "execution_count": 12,
   "id": "b0227f52",
   "metadata": {},
   "outputs": [
    {
     "name": "stdout",
     "output_type": "stream",
     "text": [
      "AFR: afr_seg_site = 1193\n",
      "SAS: sas_seg_site = 732\n",
      "EAS: eas_seg_site = 722\n",
      "EUR: eur_seg_site = 546\n",
      "AMR: amr_seg_site = 772\n"
     ]
    }
   ],
   "source": [
    "print(f\"AFR: {afr_seg_site = }\")\n",
    "print(f\"SAS: {sas_seg_site = }\")\n",
    "print(f\"EAS: {eas_seg_site = }\")\n",
    "print(f\"EUR: {eur_seg_site = }\")\n",
    "print(f\"AMR: {amr_seg_site = }\")"
   ]
  },
  {
   "cell_type": "markdown",
   "id": "3012649c",
   "metadata": {},
   "source": [
    "## Nucleotide Diversity ($\\pi$)\n",
    "\n",
    "__(2) Compute the average nucleotide diversity—do not normalize by the number of sites—for each super-population.__"
   ]
  },
  {
   "cell_type": "code",
   "execution_count": 13,
   "id": "fe04db91-2282-4eca-850d-32eb646da2a7",
   "metadata": {},
   "outputs": [],
   "source": [
    "import math\n",
    "def nuc_d(dac_mat):\n",
    "    \"\"\"Calculate pairwise differences\"\"\"\n",
    "    pw_diff = 0\n",
    "    \n",
    "    # Loop over each site\n",
    "    for i in range(dac_mat.shape[1]):\n",
    "        # Loop over each 'other' site\n",
    "        for j in range(i+1, dac_mat.shape[1]):\n",
    "            # if i != j, then adds to count, for all individuals\n",
    "            pw_diff += np.count_nonzero((dac_mat[:,i] != dac_mat[:,j]))\n",
    "\n",
    "    denom = math.comb(dac_mat.shape[1], 2)\n",
    "    pi = pw_diff/denom\n",
    "    return pi"
   ]
  },
  {
   "cell_type": "code",
   "execution_count": 14,
   "id": "a36c517e-7edf-47c6-98dc-4e102fbf9460",
   "metadata": {},
   "outputs": [
    {
     "name": "stdout",
     "output_type": "stream",
     "text": [
      "AFR: afr_pi = 128.8993994407005\n",
      "SAS: sas_pi = 86.60023802340005\n",
      "EAS: eas_pi = 101.43701284357348\n",
      "EUR: eur_pi = 76.61852787656531\n",
      "AMR: amr_pi = 90.7628558578068\n"
     ]
    }
   ],
   "source": [
    "regions = ['AFR', 'SAS', 'EAS', 'EUR', 'AMR']\n",
    "MATS = [afr_dac_mat, sas_dac_mat, eas_dac_mat, eur_dac_mat, amr_dac_mat]\n",
    "\n",
    "PIS = []\n",
    "for i in MATS: \n",
    "    PIS.append(nuc_d(i))\n",
    "\n",
    "for i in range(len(PIS)):\n",
    "    print(f\"{regions[i]}: {regions[i].lower()+'_pi ='} {PIS[i]}\")"
   ]
  },
  {
   "cell_type": "markdown",
   "id": "ee5ba893",
   "metadata": {},
   "source": [
    "## Derived Allele Frequency Spectrum (aka Unfolded SFS)\n",
    "\n",
    "__(3) Compute the derived allele frequency spectrum for each super-population.__"
   ]
  },
  {
   "cell_type": "code",
   "execution_count": 22,
   "id": "4973a40f",
   "metadata": {},
   "outputs": [],
   "source": [
    "def unfolded_sfs(dac_mat):\n",
    "    freqs = np.sum(dac_mat, axis=1)\n",
    "    return freqs"
   ]
  },
  {
   "cell_type": "code",
   "execution_count": 24,
   "id": "b552ee51-9888-4c0e-b6cd-bb6a480e097b",
   "metadata": {},
   "outputs": [
    {
     "name": "stdout",
     "output_type": "stream",
     "text": [
      "[ 459    0    1 ...    0    0 1003]\n"
     ]
    },
    {
     "data": {
      "image/png": "[encoded data removed]",
      "text/plain": [
       "<Figure size 640x480 with 1 Axes>"
      ]
     },
     "metadata": {},
     "output_type": "display_data"
    }
   ],
   "source": [
    "print(unfolded_sfs(afr_dac_mat))\n",
    "#help(plt.hist)\n",
    "plt.hist(unfolded_sfs(afr_dac_mat), bins=450)\n",
    "plt.xlim(0, 400)\n",
    "plt.show()"
   ]
  },
  {
   "cell_type": "code",
   "execution_count": null,
   "id": "67852906",
   "metadata": {},
   "outputs": [],
   "source": []
  },
  {
   "cell_type": "markdown",
   "id": "704a87dd",
   "metadata": {},
   "source": [
    "## Interpretation\n",
    "\n",
    "__(4) Generate a table displaying the number of segregating sites and average nucleotide diversity for each super-population__"
   ]
  },
  {
   "cell_type": "code",
   "execution_count": null,
   "id": "3d260d1a-1321-4e5e-912c-6abd62f69d5c",
   "metadata": {},
   "outputs": [],
   "source": []
  },
  {
   "cell_type": "code",
   "execution_count": null,
   "id": "24557a69-3eec-4b99-b8a9-0eab52d63ed3",
   "metadata": {},
   "outputs": [],
   "source": []
  },
  {
   "cell_type": "code",
   "execution_count": null,
   "id": "a3cef929-ae34-42b4-9cb4-de14d9ccdc1d",
   "metadata": {},
   "outputs": [],
   "source": []
  },
  {
   "cell_type": "markdown",
   "id": "e69c726c-1ef1-4961-b07b-0f0993f3dc1f",
   "metadata": {},
   "source": [
    "__(5) Plot the derived allele frequency spectrum for a population (other than KHV). Plot the derived allele frequency spectrum for two super-populations__\n",
    "\n",
    "For example, if we wanted to plot the derived allele frequency spectrum for the KHV (Kinh in Ho Chi Minh City) population, we would first subset the original data to only include the KHV individuals (take a look at the middle column in `data/tgp_meta_data.txt` to find other population codes) and find the SFS for these individuals:"
   ]
  },
  {
   "cell_type": "code",
   "execution_count": null,
   "id": "220c7c62-7ede-4c1b-948e-012b047dc720",
   "metadata": {},
   "outputs": [],
   "source": [
    "# Extract the population indicies.\n",
    "khv_indices = meta_df[meta_df[\"Population\"] == \"KHV\"].index.values\n",
    "# Subset the genotype matrix.\n",
    "khv_dac_mat = lct_mcm6_dac_mat[:, khv_indices]\n",
    "# Determine the derived allele count per site.\n",
    "khv_per_site_dac = np.sum(khv_dac_mat, axis=1)\n",
    "# Determine the number of chromosomes.\n",
    "khv_chroms = khv_dac_mat.shape[1] * 2\n",
    "# Bin the derived allele count and extract the unfolded sfs.\n",
    "khv_sfs = np.bincount(khv_per_site_dac, minlength=khv_chroms)[1:-1]"
   ]
  },
  {
   "cell_type": "code",
   "execution_count": null,
   "id": "88ebb652-3667-4527-8db1-be83b679e6fb",
   "metadata": {},
   "outputs": [],
   "source": []
  },
  {
   "cell_type": "code",
   "execution_count": null,
   "id": "4c35d55a-6e43-436a-817c-509fb3e20239",
   "metadata": {},
   "outputs": [],
   "source": []
  },
  {
   "cell_type": "code",
   "execution_count": null,
   "id": "cc09fe98-ec71-41de-9e7b-f757d252061f",
   "metadata": {},
   "outputs": [],
   "source": []
  },
  {
   "cell_type": "markdown",
   "id": "5269819b-c009-433c-8be3-c2f79a81c789",
   "metadata": {},
   "source": [
    "Now we can plot the derived allele frequency spectrum by creating a plotting canvas using the `matplotlib` library"
   ]
  },
  {
   "cell_type": "code",
   "execution_count": null,
   "id": "530f45ed-b7d2-46e9-8b73-455a8e0eb0de",
   "metadata": {},
   "outputs": [],
   "source": [
    "# Intialize the figure.\n",
    "fig = plt.figure(figsize=(8, 4), constrained_layout=True, dpi=300)\n",
    "# Intialize the axes.\n",
    "ax = fig.add_subplot(111)\n",
    "# Plot the SFS.\n",
    "ax.bar(\n",
    "    np.arange(1, khv_chroms), # X axis: [1, (n-1)/n]\n",
    "    khv_sfs, # Y axis    \n",
    ")\n",
    "# Set the x-axis tick positions and labels.\n",
    "xtick_positions = np.unique(\n",
    "    np.concatenate([\n",
    "        [1],  # Always include the first bin\n",
    "        np.arange(10, khv_chroms - 1, 10),  # Label every 10^th bin.\n",
    "        [khv_chroms - 1]  # Always include the last bin\n",
    "    ])\n",
    ")\n",
    "ax.set_xticks(xtick_positions)\n",
    "ax.set_xticklabels(\n",
    "    xtick_positions.astype(str),\n",
    "    rotation=45, ha='right',\n",
    "    rotation_mode='anchor',\n",
    ")\n",
    "ax.set_xticks(xtick_positions)\n",
    "# Label the axes and set the title.\n",
    "ax.set_xlabel('Derived Allele Count')\n",
    "ax.set_ylabel('Number of Segregating Sites')\n",
    "ax.set_title('Site Frequency Spectrum (KHV)', fontweight='bold')\n",
    "# Despine the axes.\n",
    "ax.spines['top'].set_visible(False)\n",
    "ax.spines['right'].set_visible(False)\n",
    "# Show!\n",
    "plt.show()"
   ]
  },
  {
   "cell_type": "markdown",
   "id": "04b397c5-e2d8-43f2-950c-0cea6a50425d",
   "metadata": {},
   "source": [
    "__(6) Interpret your plots from question (5)__ (Hint: Reflect on our conversations about the assigned reading: 1000 Genomes Project Consortium. \"A global reference for human genetic variation.\" _Nature_ 526.7571 (2015): 68.)"
   ]
  },
  {
   "cell_type": "markdown",
   "id": "46898728-b5b4-4ee7-ae4c-2bd59683ae31",
   "metadata": {},
   "source": []
  },
  {
   "cell_type": "markdown",
   "id": "27e1b782",
   "metadata": {},
   "source": [
    "## EXTRA CREDIT: Gene Diversity ($H$)\n",
    "\n",
    "__(E1) Compute the average gene diversity for each super-population.__"
   ]
  },
  {
   "cell_type": "code",
   "execution_count": null,
   "id": "3749dcd2",
   "metadata": {},
   "outputs": [],
   "source": []
  },
  {
   "cell_type": "code",
   "execution_count": null,
   "id": "a3a0e759-5c0b-40f4-b1f5-c564857a0f14",
   "metadata": {},
   "outputs": [],
   "source": []
  },
  {
   "cell_type": "code",
   "execution_count": null,
   "id": "6abc2330-29bf-429a-92e0-f2ca8db40ff2",
   "metadata": {},
   "outputs": [],
   "source": []
  }
 ],
 "metadata": {
  "kernelspec": {
   "display_name": "biol1435",
   "language": "python",
   "name": "python3"
  },
  "language_info": {
   "codemirror_mode": {
    "name": "ipython",
    "version": 3
   },
   "file_extension": ".py",
   "mimetype": "text/x-python",
   "name": "python",
   "nbconvert_exporter": "python",
   "pygments_lexer": "ipython3",
   "version": "3.9.21"
  }
 },
 "nbformat": 4,
 "nbformat_minor": 5
}
