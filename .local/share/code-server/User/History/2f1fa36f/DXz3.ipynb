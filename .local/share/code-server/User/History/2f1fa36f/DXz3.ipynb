{
 "cells": [
  {
   "cell_type": "markdown",
   "id": "3d39f479",
   "metadata": {},
   "source": [
    "# Diversity and Variation In Class Exercise\n",
    "Module: Introduction to BIOL 1435 & Evolutionary Genetics \\\n",
    "Topic: Describing variation and patterns of diversity."
   ]
  },
  {
   "cell_type": "code",
   "execution_count": 1,
   "id": "76ae662b",
   "metadata": {},
   "outputs": [
    {
     "name": "stdout",
     "output_type": "stream",
     "text": [
      "demes 0.2.3\n",
      "demesdraw 0.4.0\n",
      "msprime 1.3.3\n",
      "numpy 1.26.4\n",
      "scipy 1.13.1\n"
     ]
    }
   ],
   "source": [
    "# Import modules.\n",
    "import demes\n",
    "import demesdraw\n",
    "from matplotlib import pyplot as plt\n",
    "import math\n",
    "import msprime\n",
    "import numpy as np\n",
    "import pandas as pd\n",
    "import scipy\n",
    "#import toyplot\n",
    "# Print versions.\n",
    "print('demes', demes.__version__)\n",
    "print('demesdraw', demesdraw.__version__)\n",
    "print('msprime', msprime.__version__)\n",
    "print('numpy', np.__version__)\n",
    "print('scipy', scipy.__version__)\n",
    "#print('toyplot', toyplot.__version__)"
   ]
  },
  {
   "cell_type": "markdown",
   "id": "d6e0d282",
   "metadata": {},
   "source": [
    "First, lets initialize the genotype matrix we'll be using for this exercise."
   ]
  },
  {
   "cell_type": "code",
   "execution_count": 2,
   "id": "ec52db5a",
   "metadata": {},
   "outputs": [
    {
     "name": "stdout",
     "output_type": "stream",
     "text": [
      "The genotype matrix has genotype information for 5 haploid individuals across 6 sites.\n"
     ]
    },
    {
     "data": {
      "text/plain": [
       "array([[0, 0, 0, 0, 1],\n",
       "       [0, 1, 1, 0, 1],\n",
       "       [0, 1, 0, 1, 1],\n",
       "       [0, 0, 0, 0, 1],\n",
       "       [1, 1, 1, 1, 1],\n",
       "       [1, 1, 1, 1, 1]])"
      ]
     },
     "execution_count": 2,
     "metadata": {},
     "output_type": "execute_result"
    }
   ],
   "source": [
    "# Intialize the example matrix,\n",
    "# which has a shape of 5 sites x 5 chromosomes.\n",
    "geno_mat = np.array([\n",
    "    [0, 0, 0, 0, 1],\n",
    "    [0, 1, 1, 0, 1],\n",
    "    [0, 1, 0, 1, 1],\n",
    "    [0, 0, 0, 0, 1],\n",
    "    [1, 1, 1, 1, 1],\n",
    "    [1, 1, 1, 1, 1]\n",
    "])\n",
    "# Double check the dimensions.\n",
    "print(\n",
    "    f'The genotype matrix has genotype information for {geno_mat.shape[1]}'\n",
    "    f' haploid individuals across {geno_mat.shape[0]} sites.'\n",
    ")\n",
    "# Show the genotype matrix.\n",
    "geno_mat"
   ]
  },
  {
   "cell_type": "code",
   "execution_count": 4,
   "id": "2e25e035-6626-4344-8ffb-5adf0516dd39",
   "metadata": {},
   "outputs": [
    {
     "name": "stdout",
     "output_type": "stream",
     "text": [
      "[1 3 3 1 5 5]\n",
      "4\n"
     ]
    }
   ],
   "source": [
    "num_der = np.sum(geno_mat, axis=1)\n",
    "print(num_der)\n",
    "seg_site = 0\n",
    "\n",
    "# for a GENOtype matrix 2N, \n",
    "\n",
    "for count in num_der:\n",
    "    if count != 0 and count != geno_mat.shape[1]: # *2 for diploid GENOtype\n",
    "        seg_site += 1\n",
    "\n",
    "print(seg_site)"
   ]
  },
  {
   "cell_type": "markdown",
   "id": "0d927df0",
   "metadata": {},
   "source": [
    "To check the dimensions we use the `<numpy_array>.shape` which returns a tuple where the first entry corresponds to the size of the first dimension and the second entry corresponds to the size of the second dimension etc etc.\n",
    "\n",
    "__Gene Diversity ($h$ & $H$)__ \\\n",
    "\\\n",
    "$h = 1 - \\left(p^{2} + q^{2} \\right)$ \\\n",
    "$H = \\frac{1}{L} \\sum_{j = 1}^{L} h_j$\n",
    "\n",
    "Variables:\n",
    "- $p$ is the frequency of the derived/alternate allele\n",
    "- $q = \\left(1 - p \\right)$ which is the frequency of the ancestral/reference allele\n",
    "- $h_j$ is the gene diversity for site $j$ and $L$ is the total number of sites\n",
    "\n",
    "First, let's calculate the derived allele frequency per site."
   ]
  },
  {
   "cell_type": "code",
   "execution_count": 4,
   "id": "199e4b6d",
   "metadata": {},
   "outputs": [
    {
     "data": {
      "text/plain": [
       "array([0.2, 0.6, 0.6, 0.2, 1. , 1. ])"
      ]
     },
     "execution_count": 4,
     "metadata": {},
     "output_type": "execute_result"
    }
   ],
   "source": [
    "# Calculate the derived allele frequency.\n",
    "der_freqs = np.sum(geno_mat, axis=1) / geno_mat.shape[1]\n",
    "# Show the derived allele frequency array.\n",
    "der_freqs"
   ]
  },
  {
   "cell_type": "markdown",
   "id": "23aa38ff",
   "metadata": {},
   "source": [
    "Note that the `axis=1` in `np.sum(geno_mat, axis=1)` means for each row (site) we sum all the entries along the columns (chromosomes) similarly the `.shape[1]` in  `geno_mat.shape[1]` means to extract the number of columns (aka extract the number of chromosomes).\n",
    "\n",
    "Now, that we have our derived allele frequency array let's calculate gene diversity per site."
   ]
  },
  {
   "cell_type": "code",
   "execution_count": 5,
   "id": "37319f8a",
   "metadata": {},
   "outputs": [
    {
     "data": {
      "text/plain": [
       "array([0.32, 0.48, 0.48, 0.32, 0.  , 0.  ])"
      ]
     },
     "execution_count": 5,
     "metadata": {},
     "output_type": "execute_result"
    }
   ],
   "source": [
    "# Calculate gene diversity for site.\n",
    "h = 1 - ((der_freqs ** 2) + ((1 - der_freqs) ** 2))\n",
    "# Show the per site gene diversity array.\n",
    "h"
   ]
  },
  {
   "cell_type": "markdown",
   "id": "285effff",
   "metadata": {},
   "source": [
    "Now, let's calculate the overall gene diversity for our genotype matrix."
   ]
  },
  {
   "cell_type": "code",
   "execution_count": 7,
   "id": "c521277a",
   "metadata": {},
   "outputs": [
    {
     "data": {
      "text/plain": [
       "0.26667"
      ]
     },
     "execution_count": 7,
     "metadata": {},
     "output_type": "execute_result"
    }
   ],
   "source": [
    "# Calculate gene diversity for the genotype matrix.\n",
    "H = round(np.sum(h) / h.size, 5)\n",
    "# Show the overall gene diversity for the genotype matrix.\n",
    "H"
   ]
  },
  {
   "cell_type": "markdown",
   "id": "7eb0f9bd",
   "metadata": {},
   "source": [
    "Note that `np.sum(h) / h.size` will return `0.31999999999999995` which is a rounding error due to how floating point math works, which you can read more about [here](https://docs.python.org/3/tutorial/floatingpoint.html), but for most things we will do in the class rounding to five decimal places will be sufficient.\n",
    "\n",
    "However, it is not good practice to hardcode things like we did so here is an example of a function to do the same work we just did, but for an arbitrary genotype matrix."
   ]
  },
  {
   "cell_type": "code",
   "execution_count": 8,
   "id": "2dfa1fd8",
   "metadata": {},
   "outputs": [],
   "source": [
    "# Define a function to calculate gene diversity per site.\n",
    "def gene_diversity(genotype_matrix):\n",
    "    \"\"\"Returns an of array gene diversity per site.\n",
    "    \n",
    "    genotype_matrix -- numpy matrix with a shape of (sites x chromosomes).\n",
    "    \"\"\"\n",
    "    # Determine the frequency of the alternative/derived allele per site.\n",
    "    frequency_array = np.sum(genotype_matrix, axis=1) / genotype_matrix.shape[1]\n",
    "    # Calculate the per site gene diversity.\n",
    "    per_site_h = 1 - ((frequency_array ** 2) + ((1 - frequency_array) ** 2))\n",
    "    return per_site_h"
   ]
  },
  {
   "cell_type": "code",
   "execution_count": 9,
   "id": "0c689589",
   "metadata": {},
   "outputs": [
    {
     "data": {
      "text/plain": [
       "array([0.32, 0.48, 0.48, 0.32, 0.  , 0.  ])"
      ]
     },
     "execution_count": 9,
     "metadata": {},
     "output_type": "execute_result"
    }
   ],
   "source": [
    "# Calculate per site gene diversity.\n",
    "new_h = gene_diversity(geno_mat)\n",
    "# Show the per site gene diversity.\n",
    "new_h"
   ]
  },
  {
   "cell_type": "code",
   "execution_count": 10,
   "id": "361cab84",
   "metadata": {},
   "outputs": [
    {
     "data": {
      "text/plain": [
       "0.26667"
      ]
     },
     "execution_count": 10,
     "metadata": {},
     "output_type": "execute_result"
    }
   ],
   "source": [
    "# Calculate the average gene diversity for this locus.\n",
    "new_H = round(new_h.sum() / new_h.size, 5)\n",
    "# Show the average gene diversity for this locus.\n",
    "new_H"
   ]
  },
  {
   "cell_type": "markdown",
   "id": "d82617df",
   "metadata": {},
   "source": [
    "__Nucleotide Diversity ($\\Pi$ & $\\pi$)__ \\\n",
    "\\\n",
    "$\\Pi = \\frac{\\sum_{i < j} k_{ij}}{\\binom{n}{2}}$ \\\n",
    "$\\pi = \\frac{\\Pi}{L}$\n",
    "\n",
    "Variables:\n",
    "- $k_{ij}$ is the number of nucleotide differences between the $i^{th}$ and $j^{th}$ sample\n",
    "- $n$ the number of chromosomes\n",
    "- $L$ is to the total number of sites\n",
    "\n",
    "First, we will calculate the number of pairwise differences."
   ]
  },
  {
   "cell_type": "code",
   "execution_count": 11,
   "id": "b463ddb7",
   "metadata": {},
   "outputs": [
    {
     "data": {
      "text/plain": [
       "20"
      ]
     },
     "execution_count": 11,
     "metadata": {},
     "output_type": "execute_result"
    }
   ],
   "source": [
    "# Intialize a variable to store the number of pairwise differences.\n",
    "pw_diff = 0\n",
    "# For every sequence...\n",
    "for i in range(geno_mat.shape[1]):\n",
    "    # For every other sequence we haven't compared sequence i to...\n",
    "    for j in range(i+1, geno_mat.shape[1]):\n",
    "        # Update the total number of pairwise differences.\n",
    "        pw_diff += np.count_nonzero((geno_mat[:, i] != geno_mat[:, j]))\n",
    "# Show the total number of pairwise differnces.\n",
    "pw_diff"
   ]
  },
  {
   "cell_type": "markdown",
   "id": "c9cabb74",
   "metadata": {},
   "source": [
    "Now, let's calculate 5 choose 2 and our average nucleotide diversity."
   ]
  },
  {
   "cell_type": "code",
   "execution_count": 12,
   "id": "2550236f",
   "metadata": {},
   "outputs": [
    {
     "data": {
      "text/plain": [
       "2.0"
      ]
     },
     "execution_count": 12,
     "metadata": {},
     "output_type": "execute_result"
    }
   ],
   "source": [
    "# Calculate 5C2 .\n",
    "five_choose_two = (geno_mat.shape[1] * (geno_mat.shape[1] - 1)) / 2\n",
    "# Calculate the average nucleotide diversity.\n",
    "Pi = pw_diff / five_choose_two\n",
    "# Show the average nucleotide diversity.\n",
    "Pi"
   ]
  },
  {
   "cell_type": "markdown",
   "id": "5ede52d0",
   "metadata": {},
   "source": [
    "Lastly calculate the average nucleotide diversity per site."
   ]
  },
  {
   "cell_type": "code",
   "execution_count": 13,
   "id": "ee0e0f8d",
   "metadata": {},
   "outputs": [
    {
     "data": {
      "text/plain": [
       "0.3333333333333333"
      ]
     },
     "execution_count": 13,
     "metadata": {},
     "output_type": "execute_result"
    }
   ],
   "source": [
    "# Calculate the average nucleotide diversity per site.\n",
    "pi = Pi / geno_mat.shape[0]\n",
    "# Show the average nucleotide diversity per site.\n",
    "pi"
   ]
  },
  {
   "cell_type": "markdown",
   "id": "78e1268d",
   "metadata": {},
   "source": [
    "Similarly to before, it is not good practice to hard code these equations. Additionally, `for` loops can be quite time consuming when the number of sampled chromosomes increases. So here is a function to calculate nucleotide diversity per site using a different implementation than what we did above."
   ]
  },
  {
   "cell_type": "code",
   "execution_count": 14,
   "id": "9e42b282",
   "metadata": {},
   "outputs": [],
   "source": [
    "# Define a function to calculate nucleotide diversity per site.\n",
    "def nucleotide_diversity(genotype_matrix):\n",
    "    \"\"\"Returns an of array nucleotide diversity per site.\n",
    "    \n",
    "    genotype_matrix -- numpy matrix with a shape of (sites x chromosomes).\n",
    "    \"\"\"\n",
    "    # Calculate nC2 .\n",
    "    n_choose_2 = (genotype_matrix.shape[1] * (genotype_matrix.shape[1] - 1)) / 2\n",
    "    # Determine the allele counts of the derived/alternative allele.\n",
    "    derived_allele_count = genotype_matrix.sum(axis=1)\n",
    "    # Determine the allele counts of the ancestral/reference allele.\n",
    "    ancestral_allele_count = genotype_matrix.shape[1] - derived_allele_count\n",
    "    # Calculate the per site nucleotide diversity.\n",
    "    per_site_pi = (derived_allele_count * ancestral_allele_count) / n_choose_2\n",
    "    return per_site_pi"
   ]
  },
  {
   "cell_type": "code",
   "execution_count": 15,
   "id": "5d175651",
   "metadata": {},
   "outputs": [
    {
     "data": {
      "text/plain": [
       "array([0.4, 0.6, 0.6, 0.4, 0. , 0. ])"
      ]
     },
     "execution_count": 15,
     "metadata": {},
     "output_type": "execute_result"
    }
   ],
   "source": [
    "# Calculate nucleotide diversity per site.\n",
    "Pi_per_site = nucleotide_diversity(geno_mat)\n",
    "# Show the per site nucleotide diversity.\n",
    "Pi_per_site"
   ]
  },
  {
   "cell_type": "code",
   "execution_count": 16,
   "id": "e8a71341",
   "metadata": {},
   "outputs": [
    {
     "data": {
      "text/plain": [
       "array([4., 6., 6., 4., 0., 0.])"
      ]
     },
     "execution_count": 16,
     "metadata": {},
     "output_type": "execute_result"
    }
   ],
   "source": [
    "# Show the number of pairwise differences per site.\n",
    "Pi_per_site * five_choose_two"
   ]
  },
  {
   "cell_type": "code",
   "execution_count": 17,
   "id": "37c32e97",
   "metadata": {},
   "outputs": [
    {
     "data": {
      "text/plain": [
       "0.3333333333333333"
      ]
     },
     "execution_count": 17,
     "metadata": {},
     "output_type": "execute_result"
    }
   ],
   "source": [
    "# Calculate the average nucleotide diversity per site.\n",
    "new_pi = np.mean(Pi_per_site)\n",
    "# Show the average nucleotide diversity per site.\n",
    "new_pi"
   ]
  },
  {
   "cell_type": "markdown",
   "id": "bdfedfda",
   "metadata": {},
   "source": [
    "__Segregating sites ($S$)__\n",
    "\n",
    "In class we touched on why segregating sites may not be the best metric for summarizing diversity. Here I use the simulation software `msprime` to simulate a 100 kb sequence from a single population with an effective population size of 10,000. I then run each simulation 1,000 times per sample size, record the number of segregating sites for each simulation, and the find the mean number of segregating sites for each sample size. Walk through this code, play around and convince yourself that this explanation is true. "
   ]
  },
  {
   "cell_type": "code",
   "execution_count": 18,
   "id": "f6010a3c",
   "metadata": {},
   "outputs": [],
   "source": [
    "# Intialize an array of sample sizes.\n",
    "N = np.array([100, 200, 300, 400, 500])\n",
    "# Define the number of replicate simulations to run.\n",
    "n_reps = 1_000\n",
    "# Intialize an empty array to store the results.\n",
    "sim_mean_seg_sites = np.array([])\n",
    "# For every sample size...\n",
    "for sample_size in N:\n",
    "    # Intialize an empty list to store results.\n",
    "    seg_sites = []\n",
    "    # For every tree-sequence...\n",
    "    for ts in msprime.sim_ancestry(\n",
    "        samples=sample_size,\n",
    "        ploidy=1,\n",
    "        sequence_length=100_000,\n",
    "        population_size=10_000,\n",
    "        discrete_genome=False,\n",
    "        num_replicates=n_reps,\n",
    "    ):\n",
    "        # Overlay mutations on the tree-sequence.\n",
    "        mts = msprime.sim_mutations(\n",
    "            tree_sequence=ts, rate=1.5 * 10**-8,\n",
    "            model='jc69',\n",
    "            discrete_genome=False,\n",
    "        )\n",
    "        # Append the results with the number of segregating sites. \n",
    "        seg_sites.append(mts.genotype_matrix().shape[0])\n",
    "    # Append the mean number of segregating sites from 1000 simulations.\n",
    "    sim_mean_seg_sites = np.append(sim_mean_seg_sites, np.mean(np.array(seg_sites)))"
   ]
  },
  {
   "cell_type": "markdown",
   "id": "abda47c1",
   "metadata": {},
   "source": [
    "Now, that we have run our simulations we will plot the relationship between the sample size and number of segregating sites. What do you think this realationship will look like?"
   ]
  },
  {
   "cell_type": "code",
   "execution_count": 19,
   "id": "210156e7",
   "metadata": {},
   "outputs": [
    {
     "data": {
      "image/png": "[encoded data removed]",
      "text/plain": [
       "<Figure size 2400x1200 with 1 Axes>"
      ]
     },
     "metadata": {},
     "output_type": "display_data"
    }
   ],
   "source": [
    "# Intialize the figure.\n",
    "fig = plt.figure(figsize=(8, 4), constrained_layout=True, dpi=300)\n",
    "# Intialize the axes.\n",
    "ax = fig.add_subplot(111)\n",
    "# Plot the simulated results.\n",
    "ax.scatter(N, sim_mean_seg_sites)\n",
    "# Despine the axes.\n",
    "ax.spines['top'].set_visible(False)\n",
    "ax.spines['right'].set_visible(False)\n",
    "# Label the x-axis ticks.\n",
    "ax.set_xticks(N)\n",
    "ax.set_xticklabels(N)\n",
    "# Label the axes.\n",
    "plt.xlabel('Sample Size (N)')\n",
    "plt.ylabel('Segregating Sites')\n",
    "# Show!\n",
    "plt.show()"
   ]
  },
  {
   "cell_type": "markdown",
   "id": "d4b3b731",
   "metadata": {},
   "source": [
    "Does this relationship make sense? If not, ask for help!"
   ]
  },
  {
   "cell_type": "markdown",
   "id": "5ec1062b",
   "metadata": {},
   "source": [
    "__The Site Frequency Spectrum (SFS)__\n",
    "\n",
    "So from lecture we learned that the SFS is essentially a histogram summary of the frequency of variants—for our purposes here the derived allele—and from the readings we have some idea of what patterns of diversity should look like in contemporary human populations. Below I defined the three population Out-of-Africa model from Gutenkunst et al. 2009, which is one of the go to models in human population genetics. Look through the code below and the output of the demography debugger to see if this makes sense to you."
   ]
  },
  {
   "cell_type": "code",
   "execution_count": 20,
   "id": "c9af6b78",
   "metadata": {},
   "outputs": [
    {
     "data": {
      "text/html": [
       "<div><details open=\"true\"><summary>Epoch[0]: [0, 848) generations</summary><div style=\"margin-left:20px\"><div><style scoped=\"\">\n",
       "            .tskit-table thead tr th:only-of-type {vertical-align: middle;}\n",
       "            .tskit-table thead tr th {text-align: center;vertical-align: top;}\n",
       "            .tskit-table tbody td {text-align: right;padding: 0.5em 0.5em;}\n",
       "            .tskit-table tbody th {padding: 0.5em 0.5em;}\n",
       "        </style><b>Populations (total=6 active=3)</b><table border=\"1\" class=\"tskit-table\"><thead><tr><th></th><th>start</th><th>end</th><th>growth_rate</th><th>YRI</th><th>CEU</th><th>CHB</th></tr></thead><tbody><tr><td>YRI</td><td> 12300.0</td><td> 12300.0</td><td> 0</td><td>0</td><td title='Backwards in time migration rate from population YRI to CEU = 3e-05 per\n",
       "generation. Forwards in time, this is the expected number of migrants moving\n",
       "from CEU to YRI per generation, divided by the size of YRI.'>3e-05</td><td title='Backwards in time migration rate from population YRI to CHB = 1.9e-05 per\n",
       "generation. Forwards in time, this is the expected number of migrants moving\n",
       "from CHB to YRI per generation, divided by the size of YRI.'>1.9e-05</td></tr><tr><td>CEU</td><td> 29725.3</td><td> 1000.0</td><td> 0.004</td><td title='Backwards in time migration rate from population CEU to YRI = 3e-05 per\n",
       "generation. Forwards in time, this is the expected number of migrants moving\n",
       "from YRI to CEU per generation, divided by the size of CEU.'>3e-05</td><td>0</td><td title='Backwards in time migration rate from population CEU to CHB = 9.6e-05 per\n",
       "generation. Forwards in time, this is the expected number of migrants moving\n",
       "from CHB to CEU per generation, divided by the size of CEU.'>9.6e-05</td></tr><tr><td>CHB</td><td> 54090.3</td><td> 510.0</td><td> 0.0055</td><td title='Backwards in time migration rate from population CHB to YRI = 1.9e-05 per\n",
       "generation. Forwards in time, this is the expected number of migrants moving\n",
       "from YRI to CHB per generation, divided by the size of CHB.'>1.9e-05</td><td title='Backwards in time migration rate from population CHB to CEU = 9.6e-05 per\n",
       "generation. Forwards in time, this is the expected number of migrants moving\n",
       "from CEU to CHB per generation, divided by the size of CHB.'>9.6e-05</td><td>0</td></tr></tbody></table></div><div><style scoped=\"\">\n",
       "            .tskit-table thead tr th:only-of-type {vertical-align: middle;}\n",
       "            .tskit-table thead tr th {text-align: center;vertical-align: top;}\n",
       "            .tskit-table tbody td {text-align: right;padding: 0.5em 0.5em;}\n",
       "            .tskit-table tbody th {padding: 0.5em 0.5em;}\n",
       "        </style><b>Events @ generation 848</b><table border=\"1\" class=\"tskit-table\"><thead><tr><th>time</th><th>type</th><th>parameters</th><th>effect</th></tr></thead><tbody><tr><td>848</td><td><a href='https://tskit.dev/msprime/docs/latest/api.html#msprime.Demography.add_population_split'>Population Split</a></td><td>derived=[CEU, CHB], ancestral=OOA</td><td>Moves all lineages from derived populations &#x27;CEU&#x27; and &#x27;CHB&#x27; to the ancestral &#x27;OOA&#x27; population. Also set the derived populations to inactive, and all migration rates to and from the derived populations to zero.</td></tr><tr><td>848</td><td><a href='https://tskit.dev/msprime/docs/latest/api.html#msprime.Demography.add_symmetric_migration_rate_change'>Symmetric migration rate change</a></td><td>populations=[YRI, OOA], rate=0.00025</td><td>Sets the symmetric migration rate between YRI and OOA to 0.00025 per generation</td></tr></tbody></table></div></div></details><details open=\"true\"><summary>Epoch[1]: [848, 5.6e+03) generations</summary><div style=\"margin-left:20px\"><div><style scoped=\"\">\n",
       "            .tskit-table thead tr th:only-of-type {vertical-align: middle;}\n",
       "            .tskit-table thead tr th {text-align: center;vertical-align: top;}\n",
       "            .tskit-table tbody td {text-align: right;padding: 0.5em 0.5em;}\n",
       "            .tskit-table tbody th {padding: 0.5em 0.5em;}\n",
       "        </style><b>Populations (total=6 active=2)</b><table border=\"1\" class=\"tskit-table\"><thead><tr><th></th><th>start</th><th>end</th><th>growth_rate</th><th>YRI</th><th>OOA</th></tr></thead><tbody><tr><td>YRI</td><td> 12300.0</td><td> 12300.0</td><td> 0</td><td>0</td><td title='Backwards in time migration rate from population YRI to OOA = 0.00025 per\n",
       "generation. Forwards in time, this is the expected number of migrants moving\n",
       "from OOA to YRI per generation, divided by the size of YRI.'>0.00025</td></tr><tr><td>OOA</td><td> 2100.0</td><td> 2100.0</td><td> 0</td><td title='Backwards in time migration rate from population OOA to YRI = 0.00025 per\n",
       "generation. Forwards in time, this is the expected number of migrants moving\n",
       "from YRI to OOA per generation, divided by the size of OOA.'>0.00025</td><td>0</td></tr></tbody></table></div><div><style scoped=\"\">\n",
       "            .tskit-table thead tr th:only-of-type {vertical-align: middle;}\n",
       "            .tskit-table thead tr th {text-align: center;vertical-align: top;}\n",
       "            .tskit-table tbody td {text-align: right;padding: 0.5em 0.5em;}\n",
       "            .tskit-table tbody th {padding: 0.5em 0.5em;}\n",
       "        </style><b>Events @ generation 5.6e+03</b><table border=\"1\" class=\"tskit-table\"><thead><tr><th>time</th><th>type</th><th>parameters</th><th>effect</th></tr></thead><tbody><tr><td>5600</td><td><a href='https://tskit.dev/msprime/docs/latest/api.html#msprime.Demography.add_population_split'>Population Split</a></td><td>derived=[YRI, OOA], ancestral=AMH</td><td>Moves all lineages from derived populations &#x27;YRI&#x27; and &#x27;OOA&#x27; to the ancestral &#x27;AMH&#x27; population. Also set the derived populations to inactive, and all migration rates to and from the derived populations to zero.</td></tr></tbody></table></div></div></details><details open=\"true\"><summary>Epoch[2]: [5.6e+03, 8.8e+03) generations</summary><div style=\"margin-left:20px\"><div><style scoped=\"\">\n",
       "            .tskit-table thead tr th:only-of-type {vertical-align: middle;}\n",
       "            .tskit-table thead tr th {text-align: center;vertical-align: top;}\n",
       "            .tskit-table tbody td {text-align: right;padding: 0.5em 0.5em;}\n",
       "            .tskit-table tbody th {padding: 0.5em 0.5em;}\n",
       "        </style><b>Populations (total=6 active=1)</b><table border=\"1\" class=\"tskit-table\"><thead><tr><th></th><th>start</th><th>end</th><th>growth_rate</th></tr></thead><tbody><tr><td>AMH</td><td> 12300.0</td><td> 12300.0</td><td> 0</td></tr></tbody></table></div><div><style scoped=\"\">\n",
       "            .tskit-table thead tr th:only-of-type {vertical-align: middle;}\n",
       "            .tskit-table thead tr th {text-align: center;vertical-align: top;}\n",
       "            .tskit-table tbody td {text-align: right;padding: 0.5em 0.5em;}\n",
       "            .tskit-table tbody th {padding: 0.5em 0.5em;}\n",
       "        </style><b>Events @ generation 8.8e+03</b><table border=\"1\" class=\"tskit-table\"><thead><tr><th>time</th><th>type</th><th>parameters</th><th>effect</th></tr></thead><tbody><tr><td>8800</td><td><a href='https://tskit.dev/msprime/docs/latest/api.html#msprime.Demography.add_population_split'>Population Split</a></td><td>derived=[AMH], ancestral=ANC</td><td>Moves all lineages from the &#x27;AMH&#x27; derived population to the ancestral &#x27;ANC&#x27; population. Also set &#x27;AMH&#x27; to inactive, and all migration rates to and from the derived population to zero.</td></tr></tbody></table></div></div></details><details open=\"true\"><summary>Epoch[3]: [8.8e+03, inf) generations</summary><div style=\"margin-left:20px\"><div><style scoped=\"\">\n",
       "            .tskit-table thead tr th:only-of-type {vertical-align: middle;}\n",
       "            .tskit-table thead tr th {text-align: center;vertical-align: top;}\n",
       "            .tskit-table tbody td {text-align: right;padding: 0.5em 0.5em;}\n",
       "            .tskit-table tbody th {padding: 0.5em 0.5em;}\n",
       "        </style><b>Populations (total=6 active=1)</b><table border=\"1\" class=\"tskit-table\"><thead><tr><th></th><th>start</th><th>end</th><th>growth_rate</th></tr></thead><tbody><tr><td>ANC</td><td> 7300.0</td><td> 7300.0</td><td> 0</td></tr></tbody></table></div></div></details></div>"
      ],
      "text/plain": [
       "<msprime.demography.DemographyDebugger at 0x7ed9c43eeca0>"
      ]
     },
     "execution_count": 20,
     "metadata": {},
     "output_type": "execute_result"
    }
   ],
   "source": [
    "# Intialize the generation time.\n",
    "generation_time = 25\n",
    "# Times are provided in years, so we convert into generations.\n",
    "T_OOA = 21.2e3 / generation_time\n",
    "T_AMH = 140e3 / generation_time\n",
    "T_ANC = 220e3 / generation_time\n",
    "# We need to work out the starting population sizes based on\n",
    "# the growth rates provided for these populations.\n",
    "r_CEU = 0.004\n",
    "r_CHB = 0.0055\n",
    "N_CEU = 1000 / math.exp(-r_CEU * T_OOA)\n",
    "N_CHB = 510 / math.exp(-r_CHB * T_OOA)\n",
    "N_AFR = 12300\n",
    "# Intialize an instance of demography.\n",
    "demography = msprime.Demography()\n",
    "# Intialize the YRI population.\n",
    "demography.add_population(\n",
    "    name='YRI',\n",
    "    description='Yoruba in Ibadan, Nigeria',\n",
    "    initial_size=N_AFR,\n",
    ")\n",
    "# Intialize the CEU population.\n",
    "demography.add_population(\n",
    "    name='CEU',\n",
    "    description=(\n",
    "        'Utah Residents (CEPH) with Northern and Western European Ancestry'\n",
    "    ),\n",
    "    initial_size=N_CEU,\n",
    "    growth_rate=r_CEU,\n",
    ")\n",
    "# Intialize the CHB population.\n",
    "demography.add_population(\n",
    "    name='CHB',\n",
    "    description='Han Chinese in Beijing, China',\n",
    "    initial_size=N_CHB,\n",
    "    growth_rate=r_CHB,\n",
    ")\n",
    "# Intialize the OOA population.\n",
    "demography.add_population(\n",
    "    name='OOA',\n",
    "    description='Bottleneck out-of-Africa population',\n",
    "    initial_size=2100,\n",
    ")\n",
    "# Intialize the AMH population.\n",
    "demography.add_population(\n",
    "    name='AMH', description='Anatomically modern humans', initial_size=N_AFR\n",
    ")\n",
    "# Intialize the ANC population.\n",
    "demography.add_population(\n",
    "    name='ANC',\n",
    "    description='Ancestral equilibrium population',\n",
    "    initial_size=7300,\n",
    ")\n",
    "# CEU and CHB originate from OOA.\n",
    "demography.add_population_split(time=T_OOA, derived=['CEU', 'CHB'], ancestral='OOA')\n",
    "# Adjust the migration rate change.\n",
    "demography.add_symmetric_migration_rate_change(\n",
    "    time=T_OOA, populations=['YRI', 'OOA'], rate=25e-5\n",
    ")\n",
    "# YRI and OOA originate from AMH.\n",
    "demography.add_population_split(time=T_AMH, derived=['YRI', 'OOA'], ancestral='AMH')\n",
    "# AMH originaes from ANC.\n",
    "demography.add_population_split(time=T_ANC, derived=['AMH'], ancestral='ANC')\n",
    "# Set the migration rates between populations.\n",
    "demography.set_symmetric_migration_rate(['CEU', 'CHB'], 9.6e-5)\n",
    "demography.set_symmetric_migration_rate(['YRI', 'CHB'], 1.9e-5)\n",
    "demography.set_symmetric_migration_rate(['YRI', 'CEU'], 3e-5)\n",
    "# Print the demographic history.\n",
    "demography.debug()"
   ]
  },
  {
   "attachments": {},
   "cell_type": "markdown",
   "id": "1aef3fa9",
   "metadata": {},
   "source": [
    "If the demographic model does not make sense, look at the graphical repersentation and then go back through the demography debugger. Do things make sense now? If not, ask for help!"
   ]
  },
  {
   "cell_type": "markdown",
   "id": "4ce89604-00d9-44f8-898b-b41ec76de20d",
   "metadata": {},
   "source": [
    "![Graphical representation](https://raw.githubusercontent.com/David-Peede/BIOL1435/main/lectures/figures/31jan23_ooa.svg)"
   ]
  },
  {
   "cell_type": "markdown",
   "id": "77b719b1",
   "metadata": {},
   "source": [
    "Now, we will run a simulation under that demographic model, and sample 100 chromosomes from each population."
   ]
  },
  {
   "cell_type": "code",
   "execution_count": null,
   "id": "3ee129d2",
   "metadata": {},
   "outputs": [],
   "source": [
    "# Simulate a tree sequence unde the OOA demographic model.\n",
    "ts = msprime.sim_ancestry(\n",
    "    samples=[\n",
    "        msprime.SampleSet(100, ploidy=1, population='YRI'), # Sample 100 AFR chromosomes.\n",
    "        msprime.SampleSet(100, ploidy=1, population='CEU'), # Sample 100 CEU chromosomes.\n",
    "        msprime.SampleSet(100, ploidy=1, population='CHB'), # Sample 100 CHB chromosomes.\n",
    "    ],\n",
    "    demography=demography,\n",
    "    sequence_length=1_000_000,\n",
    "    recombination_rate=1e-8,\n",
    "    random_seed=42,\n",
    ")\n",
    "# Overlay mutations.\n",
    "mts = msprime.sim_mutations(\n",
    "    tree_sequence=ts, rate=1.5e-8,\n",
    "    model='jc69', random_seed=42,\n",
    "    discrete_genome=False,\n",
    ")\n",
    "# View the mutated tree-sequence summary.\n",
    "mts"
   ]
  },
  {
   "cell_type": "markdown",
   "id": "d406439f",
   "metadata": {},
   "source": [
    "Next, we will extract the genotype matrix from the simulation and then for each population respectively. We will then determine the number of derived alleles present for each population at each variable site and then bin them to compute the SFS."
   ]
  },
  {
   "cell_type": "code",
   "execution_count": null,
   "id": "c148ad90",
   "metadata": {},
   "outputs": [],
   "source": [
    "# Extract the genotype matrix.\n",
    "ooa_geno_mat = mts.genotype_matrix()\n",
    "# Extract the YRI genotype matrix.\n",
    "yri_geno_mat = ooa_geno_mat[:, 0:100]\n",
    "# Extract the CEU genotype matrix.\n",
    "ceu_geno_mat = ooa_geno_mat[:, 100:200]\n",
    "# Extract the CHB genotype matrix.\n",
    "chb_geno_mat = ooa_geno_mat[:, 200:]\n",
    "# Calculate the derived allele count per population for variable site.\n",
    "yri_der_ac = yri_geno_mat.sum(axis=1)\n",
    "ceu_der_ac = ceu_geno_mat.sum(axis=1)\n",
    "chb_der_ac = chb_geno_mat.sum(axis=1)\n",
    "# Calculate the unfolded SFS for each population.\n",
    "yri_daf_sfs = np.bincount(yri_der_ac, minlength=100)[1:-1]\n",
    "ceu_daf_sfs = np.bincount(ceu_der_ac, minlength=100)[1:-1]\n",
    "chb_daf_sfs = np.bincount(chb_der_ac, minlength=100)[1:-1]\n",
    "# Define the bins of the SFS.\n",
    "daf_bins = np.arange(1, 100)"
   ]
  },
  {
   "cell_type": "markdown",
   "id": "e71807b7",
   "metadata": {},
   "source": [
    "Lastly, we will plot the unfolded SFS for each population."
   ]
  },
  {
   "cell_type": "code",
   "execution_count": null,
   "id": "45f6440f",
   "metadata": {},
   "outputs": [],
   "source": [
    "# Define the x-axis tick marks.\n",
    "x_ticks = np.arange(0, 101, 10)\n",
    "x_ticks[0] = 1\n",
    "x_ticks[-1] = 99\n",
    "# Intialize the figure and axes.\n",
    "fig, axes = plt.subplots(\n",
    "    3, 1, figsize=(8, 6), sharex=True, sharey=False, \n",
    "    constrained_layout=True, dpi=300,\n",
    ")\n",
    "# Plot the simulated results.\n",
    "axes[0].bar(daf_bins, yri_daf_sfs, color='tab:blue')\n",
    "axes[1].bar(daf_bins, ceu_daf_sfs, color='tab:orange')\n",
    "axes[2].bar(daf_bins, chb_daf_sfs, color='tab:green')\n",
    "# Label each axes.\n",
    "axes[0].set_title('YRI')\n",
    "axes[1].set_title('CEU')\n",
    "axes[2].set_title('CHB')\n",
    "# Despine the axes.\n",
    "axes[0].spines['top'].set_visible(False)\n",
    "axes[0].spines['right'].set_visible(False)\n",
    "axes[1].spines['top'].set_visible(False)\n",
    "axes[1].spines['right'].set_visible(False)\n",
    "axes[2].spines['top'].set_visible(False)\n",
    "axes[2].spines['right'].set_visible(False)\n",
    "# Set the x-axis tick positions and labels.\n",
    "axes[2].set_xticks(x_ticks)\n",
    "# Label the x-axis.\n",
    "axes[2].set_xlabel('Derived Allele Count')\n",
    "# Label the y-axis.\n",
    "axes[1].set_ylabel('Number of Segregating Sites')\n",
    "# Show!\n",
    "plt.show()"
   ]
  },
  {
   "cell_type": "code",
   "execution_count": null,
   "id": "ccf8f1e4",
   "metadata": {},
   "outputs": [],
   "source": [
    "# Another plotting option. \n",
    "# Intialize a dictionary.\n",
    "sfs_dicc = {\n",
    "    'YRI': yri_daf_sfs,\n",
    "    'CEU': ceu_daf_sfs,\n",
    "    'CHB': chb_daf_sfs,\n",
    "}\n",
    "# Intialize a counter.\n",
    "counter = 0\n",
    "# For every population.\n",
    "for pop in sfs_dicc.keys():\n",
    "    # Intialize a canvas.\n",
    "    canvas = toyplot.Canvas(\n",
    "        width=500, height=350,\n",
    "    )\n",
    "    # Intialize and label the axes.\n",
    "    axes = canvas.cartesian(\n",
    "        xlabel='Derived Allele Count',\n",
    "        ylabel='Number of Segregating Sites',\n",
    "    )\n",
    "    # Plot the SFS.\n",
    "    axes.plot(\n",
    "        np.arange(1, 100), sfs_dicc[pop],\n",
    "        color=toyplot.color.Palette()[counter],\n",
    "    )\n",
    "    # Relabel the x-ticks for the bounds 1 to n-1 .\n",
    "    axes.x.ticks.locator = toyplot.locator.Explicit([1, 99])\n",
    "    # Title the plot.\n",
    "    axes.label.text = pop\n",
    "    # Move the counter forward.\n",
    "    counter += 1"
   ]
  },
  {
   "cell_type": "markdown",
   "id": "ca908eb6",
   "metadata": {},
   "source": [
    "As a challenge, calculate and the average gene and nucleotide diversity for each population. Are all the results concordant with our readings? Why or why not?"
   ]
  },
  {
   "cell_type": "code",
   "execution_count": null,
   "id": "92e5f633",
   "metadata": {},
   "outputs": [],
   "source": [
    "# Intialize a dictionary of genotype matrices.\n",
    "geno_mat_dicc = {\n",
    "    'YRI': yri_geno_mat,\n",
    "    'CEU': ceu_geno_mat,\n",
    "    'CHB': chb_geno_mat,\n",
    "}\n",
    "# Intialize a df dictionary.\n",
    "df_dicc = {}\n",
    "# Intialize the number of chromosomes.\n",
    "chroms = 100\n",
    "# Intialize the total number of segregating sites among all samples.\n",
    "tot_seg_sites = ooa_geno_mat.shape[0]\n",
    "# For every population...\n",
    "for pop in geno_mat_dicc.keys():\n",
    "    # Determine the derived allele count per site.\n",
    "    per_site_ac = np.sum(geno_mat_dicc[pop], axis=1)\n",
    "    # Bin the derived allele count.\n",
    "    ac_bins = np.bincount(per_site_ac, minlength=chroms)\n",
    "    # Determine the number of sites where no indivual harbors the derived\n",
    "    # allele or where everyone harbors the derived allele.\n",
    "    invar_sites = ac_bins[0] + ac_bins[-1]\n",
    "    # Determine the number of segregating sites for this population.\n",
    "    pop_s = tot_seg_sites - invar_sites\n",
    "    # Calculate gene diversity per site.\n",
    "    h_site = gene_diversity(geno_mat_dicc[pop])\n",
    "    # Calculate the average gene diversity for this genotype matrix.\n",
    "    pop_H = np.round(np.sum(h_site) / h.size, 5)\n",
    "    # Calcualte the average nucleotide diversity per site.\n",
    "    pi_site = nucleotide_diversity(geno_mat_dicc[pop])\n",
    "    # Calcualte the average nucleotide diversity for this locus\n",
    "    # NOT normalized by the number of sites.\n",
    "    pop_pi = np.sum(pi_site)\n",
    "    # Fill the dictionary.\n",
    "    df_dicc[pop] = [pop_s, pop_H, pop_pi]\n",
    "# Intialize the results data frame.\n",
    "ooa_df = pd.DataFrame(data=df_dicc, index=[r'$S$', r'$H$', r'$\\pi$'])\n",
    "# Show the results.\n",
    "ooa_df"
   ]
  }
 ],
 "metadata": {
  "kernelspec": {
   "display_name": "biol1435",
   "language": "python",
   "name": "python3"
  },
  "language_info": {
   "codemirror_mode": {
    "name": "ipython",
    "version": 3
   },
   "file_extension": ".py",
   "mimetype": "text/x-python",
   "name": "python",
   "nbconvert_exporter": "python",
   "pygments_lexer": "ipython3",
   "version": "3.9.21"
  }
 },
 "nbformat": 4,
 "nbformat_minor": 5
}
