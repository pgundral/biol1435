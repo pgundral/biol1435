{
 "cells": [
  {
   "cell_type": "markdown",
   "id": "26d65a2e",
   "metadata": {},
   "source": [
    "# Problem Set 2\n",
    "\n",
    "For this problem set we will validate the tree attributes we went over in class and practice manipulating tree-sequences.\n",
    "\n",
    "__ASSIGNMENT__\n",
    "- There are five problems each with multiple components.\n",
    "- The following python modules are required to complete this problem set, however, you can use other modules at your own risk.\n",
    "- Do not alter the simulation code for problem three.\n",
    "- You may not work with other students, but you may ask the instructor questions by email or by coming to office hours, reference package documentation, reference coding exercises from previous lectures, and refernce the course GitHub.\n",
    "\n",
    "__HELPFUL HINTS__\n",
    "- [`msprime` documentation](https://tskit.dev/msprime/docs/stable/intro.html)\n",
    "- [`tskit` documentation](https://tskit.dev/tskit/docs/stable/introduction.html)\n",
    "- Feel free to add more cells if needed!\n",
    "- Take a deep breath, and remember that you are very capable!"
   ]
  },
  {
   "cell_type": "code",
   "execution_count": null,
   "id": "fd7689ae",
   "metadata": {},
   "outputs": [],
   "source": [
    "# Import modules.\n",
    "from matplotlib import pyplot as plt\n",
    "import msprime\n",
    "import numpy as np\n",
    "import pandas as pd"
   ]
  },
  {
   "cell_type": "markdown",
   "id": "784980c3",
   "metadata": {},
   "source": [
    "## $\\mathbb{E}[T_{MRCA}]$\n",
    "__(1)__ Validate the expected time to most recent common ancestor as a function of $n$ haploid samples—ie $\\mathbb{E} \\left(T_{MRCA} \\right) = \\sum_{i=2}^{n} \\mathbb{E} \\left(T_{i} \\right)$ where $\\mathbb{E} \\left(T_{i} \\right) = \\frac{N}{\\binom{i}{2}}$. Make a plot and table to compare the analytical results versus the mean of 1,000 replicate simulations and provide some interpretation of what your plot and table show."
   ]
  },
  {
   "cell_type": "code",
   "execution_count": null,
   "id": "3d9f1304",
   "metadata": {},
   "outputs": [],
   "source": [
    "# 1000 replicates for each n (for multiple n) and calculate T_mrca (root node or SUM Tis)\n",
    "ns = range(10,100)\n",
    "N = 1e4\n",
    "\n",
    "# INITIATE LISTS TO STORE MRCA\n",
    "mean_mrcas = []\n",
    "expected_mrcas = []\n",
    "\n",
    "# FOR EACH n SAMPLE VALUE\n",
    "for i in ns:\n",
    "    mrcas = []\n",
    "\n",
    "    # CREATE 1000 TREES\n",
    "    ts_reps = msprime.sim_ancestry(\n",
    "        samples=i,\n",
    "        population_size=N,\n",
    "        ploidy=1,\n",
    "        num_replicates = 1000,\n",
    "        random_seed=1\n",
    "    )\n",
    "    \n",
    "    # FIND E[T_MRCA] FOR GIVEN n\n",
    "    E_T_mrca = 2*N*(1-(1/i))\n",
    "\n",
    "    # FOR EACH TREE, FIND MRCA\n",
    "    for ts in ts_reps:\n",
    "        tree = ts.first()\n",
    "        root = tree.root\n",
    "        mrcas.append(tree.time(root))\n",
    "\n",
    "    # AVG MRCAS and RECORD E[T_MRCA]\n",
    "    mean_mrcas.append(np.mean(mrcas))\n",
    "    expected_mrcas.append(E_T_mrca)\n",
    "        \n",
    "# Then plot function and see if it resembles E(T_mrca)"
   ]
  },
  {
   "cell_type": "code",
   "execution_count": null,
   "id": "18e34d32-662c-4633-94d3-a2c0f1742084",
   "metadata": {},
   "outputs": [],
   "source": [
    "# PLOTTING\n",
    "plt.style.use('_mpl-gallery')\n",
    "\n",
    "x = np.array(range(10,100)) # x-axis ranges from 10 to 100\n",
    "\n",
    "# y for the simulated values and y2 for the theoretical\n",
    "y = np.array(mean_mrcas)\n",
    "y2 = np.array(expected_mrcas)\n",
    "\n",
    "fig, ax = plt.subplots()\n",
    "ax.plot(x, y, 'x',color=\"lightblue\", linewidth=2) # scatter simulated\n",
    "ax.plot(x, y2, linewidth=2.0)                     # line for theoretical\n",
    "\n",
    "plt.show()\n",
    "\n",
    "# X Marks show simulated MRCAs\n",
    "# Line shows theoretical\n",
    "# The distribution does seem to match up, though there is variation in the simulated example"
   ]
  },
  {
   "cell_type": "markdown",
   "id": "87044532",
   "metadata": {},
   "source": [
    "## $\\mathbb{E}[T_{tot}]$\n",
    "__(2)__ Validate the total tree height as a function of $n$ haploid samples—ie $\\mathbb{E} \\left(T_{tot} \\right) = \\sum_{i=2}^{n} i \\times \\mathbb{E} \\left(T_{i} \\right)$ where $\\mathbb{E} \\left(T_{i} \\right) = \\frac{N}{\\binom{i}{2}}$. Make a plot and table to compare the analytical results versus the mean of 1,000 replicate simulations and provide some interpretation of what your plot and table show."
   ]
  },
  {
   "cell_type": "code",
   "execution_count": null,
   "id": "7d88e06d",
   "metadata": {},
   "outputs": [],
   "source": [
    "# n sizes range from 10 to 1000\n",
    "ns = range(10,100)\n",
    "# N population size is 1e4\n",
    "N = 1e4\n",
    "\n",
    "# INSTANTIATE LISTS\n",
    "mean_tots = []\n",
    "expected_tots = []\n",
    "\n",
    "# FOR EACH n VALUE\n",
    "for n in ns:\n",
    "    tots = []\n",
    "    # SIMULATE 1000 trees\n",
    "    ts_reps = msprime.sim_ancestry(\n",
    "        samples=n,\n",
    "        population_size=N,\n",
    "        ploidy=1,\n",
    "        num_replicates = 1000,\n",
    "        random_seed=1\n",
    "    )\n",
    "    \n",
    "    # FIND E[T_tot]\n",
    "    E_T_tot = 2*N * np.sum(1/np.array(range(1,(n))))\n",
    "\n",
    "    # FOR EACH TREE \n",
    "    for ts in ts_reps:\n",
    "        tree = ts.first()\n",
    "        tots.append(tree.total_branch_length) # find total tree height\n",
    "\n",
    "    # RECORD\n",
    "    mean_tots.append(np.mean(tots))\n",
    "    expected_tots.append(E_T_tot)"
   ]
  },
  {
   "cell_type": "code",
   "execution_count": null,
   "id": "40e38fcd",
   "metadata": {},
   "outputs": [],
   "source": [
    "# PLOTTING\n",
    "plt.style.use('_mpl-gallery')\n",
    "\n",
    "x = np.array(range(10,100))\n",
    "y = np.array(mean_tots)\n",
    "y2 = np.array(expected_tots)\n",
    "\n",
    "fig, ax = plt.subplots()\n",
    "ax.plot(x, y, 'x',color=\"lightblue\", linewidth=2)\n",
    "ax.plot(x, y2, linewidth=2.0)\n",
    "\n",
    "plt.show()\n",
    "\n",
    "# X Marks show simulated total branch lengths\n",
    "# Line shows theoretical\n",
    "# The distribution matches up very well"
   ]
  },
  {
   "cell_type": "code",
   "execution_count": null,
   "id": "2423d27b",
   "metadata": {},
   "outputs": [],
   "source": [
    "# Another plot with n 10 to 20 for visualization\n",
    "\n",
    "x = np.array(range(10,20))\n",
    "y = np.array(mean_tots[:10])\n",
    "y2 = np.array(expected_tots[:10])\n",
    "\n",
    "fig, ax = plt.subplots()\n",
    "ax.plot(x, y, 'x', linewidth=2)\n",
    "ax.plot(x, y2, linewidth=2.0)\n",
    "\n",
    "plt.show()"
   ]
  },
  {
   "cell_type": "markdown",
   "id": "6d16a4a5",
   "metadata": {},
   "source": [
    "## Tree-Sequences\n",
    "__(3)__ Run the simulation in the cell below and then report the following information by accessing the tree-sequence—ie you can't just visualize the tree-sequence:\n",
    "\n",
    "- The number of trees in the tree-sequence.\n",
    "- The positions of the recombination break points.\n",
    "- The branching order of the leaves—aka topology—for each tree.\n",
    "- The time of the first coalescent event for each tree.\n",
    "- The time of the most recent common ancestor among all samples for each tree.\n",
    "- The total tree height for each tree."
   ]
  },
  {
   "cell_type": "code",
   "execution_count": null,
   "id": "d38be2bf",
   "metadata": {},
   "outputs": [],
   "source": [
    "# Run this cell WITHOUT altering the simulation.\n",
    "ts = msprime.sim_ancestry(\n",
    "    samples=3,\n",
    "    population_size=1e6,\n",
    "    ploidy=1,\n",
    "    sequence_length=1_000,\n",
    "    recombination_rate=1e-9,\n",
    "    random_seed=42\n",
    ")"
   ]
  },
  {
   "cell_type": "code",
   "execution_count": null,
   "id": "b229c20d",
   "metadata": {},
   "outputs": [],
   "source": [
    "# TRAVERSING THE TREE\n",
    "\n",
    "num_trees = len(ts.trees())\n",
    "for tree in ts.trees():\n",
    "    # tree index\n",
    "    indx = tree.index\n",
    "    # recombination points (genomic interval)\n",
    "    inter = tree.interval\n",
    "    # topology (?)\n",
    "    topo = tree.newick()\n",
    "\n",
    "    # time for first coalescence\n",
    "    fc_node = None\n",
    "    fc_time = float(\"inf\")\n",
    "    # ITERATE OVER ALL NODES\n",
    "    for node in tree.nodes():\n",
    "        if tree.is_internal(node): # CHECK INTERNAL\n",
    "            time = tree.time(node) # TIME OF NODE\n",
    "            if time < fc_time: # CHECK IF SMALLER THAN OTHER TIMES\n",
    "                fc_node = node # IF YES SET NODE TO THIS ONE\n",
    "                fc_time = time # ALSO UPDATE TIME TO THIS ONE\n",
    "\n",
    "    # time to MRCA\n",
    "    root = tree.root\n",
    "    mrca = tree.time(root)\n",
    "    # total tree height\n",
    "    tot = tree.total_branch_length\n",
    "\n",
    "    print(f\"\"\"Tree {indx} spans {inter} and coalesces first at time {fc_time} at node {fc_node}.\n",
    "            The time to the most recent common ancestor for all samples is {mrca} and the total\n",
    "            tree height is {tot}\\n\n",
    "    The topology is: {topo} \\n\"\"\")"
   ]
  },
  {
   "cell_type": "code",
   "execution_count": null,
   "id": "a47aacfb-dfed-4623-a5c8-9bc2303d5f92",
   "metadata": {},
   "outputs": [],
   "source": [
    "print(ts.draw_text())"
   ]
  },
  {
   "cell_type": "markdown",
   "id": "14187c4b-01e7-4827-acb6-cf339f9c8d9f",
   "metadata": {},
   "source": [
    "## Choosing number of samples to simulate\n",
    "\n",
    "__(4)__ Below we will show you a plot of the expected number of segregating sites in a simulated dataset (y-axis) for different numbers of simulated samples (x-axis). Explain the behavior of the graph as the number of samples increases, and how this would impact your decision on how many samples to simulate for your own projects."
   ]
  },
  {
   "cell_type": "code",
   "execution_count": null,
   "id": "a3b4ab7f-abde-4b27-aa9b-7a36eb6ab2bd",
   "metadata": {},
   "outputs": [],
   "source": [
    "# Intialize an array of sample sizes.\n",
    "N = np.array([10, 30, 50, 100, 200, 300, 400, 500, 600])\n",
    "# Define the number of replicate simulations to run.\n",
    "n_reps = 1_000\n",
    "# Intialize an empty array to store the results.\n",
    "sim_mean_seg_sites = np.array([])\n",
    "# For every sample size...\n",
    "for sample_size in N:\n",
    "    # Intialize an empty list to store results.\n",
    "    seg_sites = []\n",
    "    # For every tree-sequence...\n",
    "    for ts in msprime.sim_ancestry(samples=sample_size, ploidy=1, sequence_length=100_000,\n",
    "                                   population_size=10_000, discrete_genome=False, num_replicates=n_reps):\n",
    "        # Overlay mutations on the tree-sequence.\n",
    "        mts = msprime.sim_mutations(tree_sequence=ts, rate=1.5 * 10**-8, model='jc69', discrete_genome=False)\n",
    "        # Append the results with the number of segregating sites. \n",
    "        seg_sites.append(mts.genotype_matrix().shape[0])\n",
    "    # Append the mean number of segregating sites from 1000 simulations.\n",
    "    sim_mean_seg_sites = np.append(sim_mean_seg_sites, np.mean(np.array(seg_sites)))\n",
    "\n",
    "# Intialize the figure.\n",
    "fig = plt.figure(figsize=(8, 4), constrained_layout=True, dpi=300)\n",
    "# Intialize the axes.\n",
    "ax = fig.add_subplot(111)\n",
    "# Plot the simulated results.\n",
    "ax.scatter(N, sim_mean_seg_sites)\n",
    "# Despine the axes.\n",
    "ax.spines['top'].set_visible(False)\n",
    "ax.spines['right'].set_visible(False)\n",
    "# Label the x-axis ticks.\n",
    "ax.set_xticks(N)\n",
    "ax.set_xticklabels(N)\n",
    "# Label the axes.\n",
    "plt.xlabel('Sample Size (n)')\n",
    "plt.ylabel('Expected number of segregating sites')\n",
    "# Show!\n",
    "plt.show()"
   ]
  },
  {
   "cell_type": "markdown",
   "id": "922bc1c7-1ab4-48d9-be4e-a7ce9101d399",
   "metadata": {},
   "source": [
    "**Your Answer:** As the number of samples increase, the expected number of segregating sites increases. However, this relationship is not strictly linear, and seems to taper off as the sample size increases. As n is larger, there are more mutations that occur over the tree, and this means more data in terms of the SFS. For my own projects, it would make sense to simulate a tree with a higher sample size so that more segregating sites appear, which is more informative for the resulting distribution and plot."
   ]
  },
  {
   "cell_type": "markdown",
   "id": "383e9baa-5649-4982-aede-f31051fa2442",
   "metadata": {},
   "source": [
    "## Expected allele frequencies\n",
    "\n",
    "__(5)__ Simulate a dataset that includes mutations. You can choose all parameters of your simulation. Find the Site Frequency Spectrum (Hint: take a look at the `allele_frequency_spectrum()` function available in `msprime`). Plot your simulated SFS along with the theoretical expectations of the allele frequencies."
   ]
  },
  {
   "cell_type": "code",
   "execution_count": null,
   "id": "1574dc76-37d0-4e50-a1bb-c47ed7a3a672",
   "metadata": {},
   "outputs": [],
   "source": [
    "# SIMULATE\n",
    "mu = 7.5e-6\n",
    "N = 1e6\n",
    "n = 500\n",
    "\n",
    "ts = msprime.sim_ancestry(\n",
    "    samples=n,\n",
    "    population_size=N,\n",
    "    ploidy=1,\n",
    "    random_seed=1\n",
    ")\n",
    "\n",
    "mts = msprime.sim_mutations(\n",
    "    tree_sequence=ts,\n",
    "    rate=mu,\n",
    "    random_seed=1,\n",
    "    discrete_genome=False,\n",
    ")"
   ]
  },
  {
   "cell_type": "code",
   "execution_count": null,
   "id": "8d99ab98-c07d-4b59-afb4-6761fe05920a",
   "metadata": {},
   "outputs": [],
   "source": [
    "# FIND AFS\n",
    "afs = mts.allele_frequency_spectrum()\n",
    "afs = afs.astype(int)\n",
    "# BIN\n",
    "afs_binned = np.bincount(afs)[1:-1]\n",
    "\n",
    "\n",
    "# the expectation of each frequency is given by...\n",
    "theta = mu*2*N\n",
    "expected_freq = []\n",
    "for each in range(1,np.max(afs)):\n",
    "    E_S_n = theta/each\n",
    "    expected_freq.append(E_S_n)\n",
    "\n",
    "expected_freq = np.array(expected_freq)\n",
    "# PRINT\n",
    "print(afs_binned)\n",
    "print(expected_freq)"
   ]
  },
  {
   "cell_type": "code",
   "execution_count": null,
   "id": "05d1b83b-b998-4c1d-b055-5e4769a556c2",
   "metadata": {},
   "outputs": [],
   "source": [
    "# PLOTTING\n",
    "x = np.array(range(1,np.max(afs)))\n",
    "y = afs_binned\n",
    "y2 = expected_freq\n",
    "\n",
    "fig, ax = plt.subplots()\n",
    "ax.bar(x, y)\n",
    "ax.plot(x, y2, color=\"lightblue\",linewidth=2.0)\n",
    "\n",
    "plt.show()"
   ]
  },
  {
   "cell_type": "code",
   "execution_count": null,
   "id": "791941cb-c277-410f-9229-e66cf2a5c248",
   "metadata": {},
   "outputs": [],
   "source": [
    "## The expected value of each S_n creates the curve, which pretty closely matches the simulated values"
   ]
  }
 ],
 "metadata": {
  "kernelspec": {
   "display_name": "Python 3",
   "language": "python",
   "name": "biol1435"
  },
  "language_info": {
   "codemirror_mode": {
    "name": "ipython",
    "version": 3
   },
   "file_extension": ".py",
   "mimetype": "text/x-python",
   "name": "python",
   "nbconvert_exporter": "python",
   "pygments_lexer": "ipython3",
   "version": "3.9.21"
  }
 },
 "nbformat": 4,
 "nbformat_minor": 5
}
