{
 "cells": [
  {
   "cell_type": "markdown",
   "id": "1b2164b8-4c82-4fd0-8c87-76eb35f03f7e",
   "metadata": {},
   "source": [
    "# Building a small LAI model\n",
    "\n",
    "For today's exercise we'll be building a small classifier that can infer the ancestries of query haplotypes after being trained on many haplotype - ancestry pairs. Put another way, this model will learn to classify haplotypes as belonging to different populations. We will only be using simulated data for this exercise, so let's start by defining some functions to simulate our data. We will begin with a simple 3 population model with no migration:"
   ]
  },
  {
   "cell_type": "code",
   "execution_count": 11,
   "id": "8fb8dd36-0023-46de-91dd-408a0c7e051a",
   "metadata": {},
   "outputs": [],
   "source": [
    "import msprime\n",
    "import numpy   as np\n",
    "import seaborn as sn # Plotting\n",
    "import matplotlib.pyplot as plt # Plotting\n",
    "\n",
    "from sklearn.metrics import confusion_matrix # Plotting\n",
    "\n",
    "\n",
    "#################\n",
    "# VISUALIZATION #\n",
    "#################\n",
    "\n",
    "\n",
    "def plot_confusion(predictions, labels, num_pops):\n",
    "    # Create confusion matrix\n",
    "    conf_matrix = confusion_matrix(labels, predictions)\n",
    "    conf_matrix = conf_matrix / conf_matrix.sum(axis=1)\n",
    "\n",
    "    # Plot confusion matrix\n",
    "    classes = ['ABCDEFG'[x] for x in range(num_pops)]\n",
    "    plt.figure(figsize=(12, 7))\n",
    "    sn.set(font_scale=1.9)\n",
    "    sn.heatmap(conf_matrix, annot=True, fmt='.2f', xticklabels=classes, yticklabels=classes, vmin=0, vmax=1)\n",
    "    plt.show();\n",
    "\n",
    "\n",
    "##############\n",
    "# DEMOGRAPHY #\n",
    "##############\n",
    "\n",
    "\n",
    "def simple_divergence(n, l, ab_split=1_000, abc_split=4_000):\n",
    "    '''\n",
    "    Simulation of n * 2 diploid samples for each population, we consider three populations \"A\", \"B\", and \"C\" such that:\n",
    "        - Each has N_e = 10,000 in the present.\n",
    "        - \"A\" and \"B\"  become a single population \"AB\"  :ab_split  generations in the past.\n",
    "        - \"C\" and \"AB\" become a single population \"ABC\" :abc_split generations in the past.\n",
    "\n",
    "    Parameters:\n",
    "        n - Number of samples to simulate (per population).\n",
    "        l - Length of the region to simulate.\n",
    "        ab_split  - Generations in the past when \"AB\"  split into \"A\"  and \"B\"\n",
    "        abc_split - Generatiosn in the past when \"ABC\" split into \"AB\" and \"C\"\n",
    "\n",
    "    Output value:\n",
    "        Tree sequence for the simulated and mutated samples.\n",
    "\n",
    "    Relevant Documentation:\n",
    "        msprime.Demography\n",
    "        msprime.SampleSet\n",
    "        msprime.sim_ancestry()\n",
    "    '''\n",
    "\n",
    "    demography = msprime.Demography()\n",
    "    demography.add_population(name='A', initial_size=10000)\n",
    "    demography.add_population(name='B', initial_size=10000)\n",
    "    demography.add_population(name='C', initial_size=10000)\n",
    "    demography.add_population(name='AB', initial_size=10000)\n",
    "    demography.add_population(name='ABC', initial_size=10000)\n",
    "\n",
    "    demography.add_population_split(time=ab_split, derived=['A','B'], ancestral='AB')\n",
    "    demography.add_population_split(time=abc_split, derived=['AB', 'C'], ancestral='ABC')\n",
    "\n",
    "    samples = []\n",
    "    samples.append(msprime.SampleSet(n, population='A', time=0, ploidy=2))\n",
    "    samples.append(msprime.SampleSet(n, population='B', time=0, ploidy=2))\n",
    "    samples.append(msprime.SampleSet(n, population='C', time=0, ploidy=2))\n",
    "\n",
    "    ts = msprime.sim_ancestry(samples=samples, demography=demography, recombination_rate=2e-8, sequence_length=1)\n",
    "    ts = msprime.sim_mutations(ts, rate=1.2e-8)\n",
    "\n",
    "    pass"
   ]
  },
  {
   "cell_type": "markdown",
   "id": "1bd1319b-2423-43d9-a97c-b63bbf60267b",
   "metadata": {},
   "source": [
    "Now that we have some functions to simulate data, we want to:\n",
    "\n",
    "  1. Simulate a large enough dataset for training + testing\n",
    "  2. Split the simulated data into training and testing sets\n",
    "  3. Label our data, since this is supervised machine learning\n",
    "  4. Fit our model to the training data\n",
    "  5. Predict and measure the model error on the testing data "
   ]
  },
  {
   "cell_type": "code",
   "execution_count": 10,
   "id": "bcbc8290-f438-46bb-a92d-f793353de236",
   "metadata": {},
   "outputs": [
    {
     "ename": "AttributeError",
     "evalue": "'NoneType' object has no attribute 'genotype_matrix'",
     "output_type": "error",
     "traceback": [
      "\u001b[0;31m---------------------------------------------------------------------------\u001b[0m",
      "\u001b[0;31mAttributeError\u001b[0m                            Traceback (most recent call last)",
      "Cell \u001b[0;32mIn[10], line 13\u001b[0m\n\u001b[1;32m     10\u001b[0m ts        \u001b[38;5;241m=\u001b[39m simple_divergence(n_samples, \u001b[38;5;241m1_000_000\u001b[39m, \u001b[38;5;241m200\u001b[39m, \u001b[38;5;241m400\u001b[39m)\n\u001b[1;32m     12\u001b[0m \u001b[38;5;66;03m# Extract genotype matrix, rows as individuals and columns as SNPs\u001b[39;00m\n\u001b[0;32m---> 13\u001b[0m full_matrix \u001b[38;5;241m=\u001b[39m \u001b[43mts\u001b[49m\u001b[38;5;241;43m.\u001b[39;49m\u001b[43mgenotype_matrix\u001b[49m()\u001b[38;5;241m.\u001b[39mT[:,:max_snp]\n\u001b[1;32m     15\u001b[0m \u001b[38;5;66;03m# Generate labels\u001b[39;00m\n\u001b[1;32m     16\u001b[0m n_pops \u001b[38;5;241m=\u001b[39m \u001b[38;5;241m3\u001b[39m\n",
      "\u001b[0;31mAttributeError\u001b[0m: 'NoneType' object has no attribute 'genotype_matrix'"
     ]
    }
   ],
   "source": [
    "import numpy as np\n",
    "\n",
    "from sklearn.tree            import DecisionTreeClassifier\n",
    "from sklearn.model_selection import train_test_split\n",
    "\n",
    "\n",
    "# Generate data matrix\n",
    "n_samples = 300\n",
    "max_snp   = 1024\n",
    "ts        = simple_divergence(n_samples, 1_000_000, 200, 400)\n",
    "\n",
    "# Extract genotype matrix, rows as individuals and columns as SNPs\n",
    "full_matrix = ts.genotype_matrix().T[:,:max_snp]\n",
    "\n",
    "# Generate labels\n",
    "n_pops = 3\n",
    "labels = []\n",
    "for pop in range(n_pops):\n",
    "    labels.extend([pop] * n_samples * 2)\n",
    "\n",
    "# Split into training and testing datasets\n",
    "geno_train, geno_test, labels_train, labels_trest = train_test_split(full_matrix, labels, test_size=0.2)\n",
    "\n",
    "# Train model\n",
    "clf = DecisionTreeClassifier()\n",
    "clf.fit(geno_train, labels_train)\n",
    "\n",
    "# Make predictions\n",
    "predictions = clf.predict(geno_test)\n",
    "\n",
    "# Show results\n",
    "plot_confusion(predictions, labels_test, n_pops)"
   ]
  },
  {
   "cell_type": "markdown",
   "id": "270180d8-583b-417f-9ad8-c7cae8c2d2a4",
   "metadata": {},
   "source": [
    "What are some limitations for this approach of classifying sequences?\n",
    "\n",
    "Consider the way most real world datasets are structured. How could we train on existing datasets but make inferences on unlabeled data? How will our model behave for admixed individuals?"
   ]
  },
  {
   "cell_type": "code",
   "execution_count": null,
   "id": "5c419519-c97d-44a3-a74d-d56f1500add1",
   "metadata": {},
   "outputs": [],
   "source": []
  }
 ],
 "metadata": {
  "kernelspec": {
   "display_name": "Python 3",
   "language": "python",
   "name": "biol1435"
  },
  "language_info": {
   "codemirror_mode": {
    "name": "ipython",
    "version": 3
   },
   "file_extension": ".py",
   "mimetype": "text/x-python",
   "name": "python",
   "nbconvert_exporter": "python",
   "pygments_lexer": "ipython3",
   "version": "3.9.21"
  }
 },
 "nbformat": 4,
 "nbformat_minor": 5
}
