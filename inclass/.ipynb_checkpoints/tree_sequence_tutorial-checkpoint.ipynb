{
 "cells": [
  {
   "cell_type": "markdown",
   "metadata": {},
   "source": [
    "# Tree-Sequence Tutorial\n",
    "\n",
    "Before starting the tutorial, you will need to install `msprime`. According to the documentation, one of the most straightforward ways to do this is via Anaconda:\n",
    "\n",
    "```bash\n",
    "# Create a new anaconda environment and install msprime.\n",
    "conda create --name msprime-env\n",
    "conda activate msprime-env\n",
    "conda install -c conda-forge msprime\n",
    "```"
   ]
  },
  {
   "cell_type": "code",
   "execution_count": 1,
   "metadata": {},
   "outputs": [
    {
     "name": "stdout",
     "output_type": "stream",
     "text": [
      "msprime 1.3.3\n",
      "numpy 2.2.0\n"
     ]
    }
   ],
   "source": [
    "# Import packages.\n",
    "import msprime\n",
    "import numpy as np\n",
    "\n",
    "# Print versions.\n",
    "print(\"msprime\", msprime.__version__)\n",
    "print(\"numpy\", np.__version__)"
   ]
  },
  {
   "cell_type": "markdown",
   "metadata": {},
   "source": [
    "## Overview with a Single Tree\n",
    "\n",
    "Let's start by simulating a tree-sequence with a single tree. To do so, we will ignore recombination (for now)."
   ]
  },
  {
   "cell_type": "code",
   "execution_count": 2,
   "metadata": {},
   "outputs": [
    {
     "name": "stdout",
     "output_type": "stream",
     "text": [
      "╔═══════════════════════════╗\n",
      "║TreeSequence               ║\n",
      "╠═══════════════╤═══════════╣\n",
      "║Trees          │          1║\n",
      "╟───────────────┼───────────╢\n",
      "║Sequence Length│          1║\n",
      "╟───────────────┼───────────╢\n",
      "║Time Units     │generations║\n",
      "╟───────────────┼───────────╢\n",
      "║Sample Nodes   │          3║\n",
      "╟───────────────┼───────────╢\n",
      "║Total Size     │    1.8 KiB║\n",
      "╚═══════════════╧═══════════╝\n",
      "╔═══════════╤════╤═════════╤════════════╗\n",
      "║Table      │Rows│Size     │Has Metadata║\n",
      "╠═══════════╪════╪═════════╪════════════╣\n",
      "║Edges      │   4│136 Bytes│          No║\n",
      "╟───────────┼────┼─────────┼────────────╢\n",
      "║Individuals│   3│108 Bytes│          No║\n",
      "╟───────────┼────┼─────────┼────────────╢\n",
      "║Migrations │   0│  8 Bytes│          No║\n",
      "╟───────────┼────┼─────────┼────────────╢\n",
      "║Mutations  │   0│ 16 Bytes│          No║\n",
      "╟───────────┼────┼─────────┼────────────╢\n",
      "║Nodes      │   5│148 Bytes│          No║\n",
      "╟───────────┼────┼─────────┼────────────╢\n",
      "║Populations│   1│224 Bytes│         Yes║\n",
      "╟───────────┼────┼─────────┼────────────╢\n",
      "║Provenances│   1│  1.1 KiB│          No║\n",
      "╟───────────┼────┼─────────┼────────────╢\n",
      "║Sites      │   0│ 16 Bytes│          No║\n",
      "╚═══════════╧════╧═════════╧════════════╝\n",
      "\n"
     ]
    }
   ],
   "source": [
    "# Perform an ancestry simulation for three samples with an effective population size of 10,000.\n",
    "ts = msprime.sim_ancestry(\n",
    "    samples=[msprime.SampleSet(3, ploidy=1)],  # Sample haploids.\n",
    "    population_size=1e4,\n",
    "    random_seed=42,\n",
    ")\n",
    "# Show the tree-sequence.\n",
    "print(ts)"
   ]
  },
  {
   "cell_type": "markdown",
   "metadata": {},
   "source": [
    "The code above simulates a tree-sequence for three monoploid samples that originate from a population with a diploid effective population size of 10,000. Since there is no recombination, there should only be a single tree in this tree-sequence. It might be helpful to visualize it:"
   ]
  },
  {
   "cell_type": "code",
   "execution_count": 3,
   "metadata": {},
   "outputs": [
    {
     "name": "stdout",
     "output_type": "stream",
     "text": [
      "7181.42┊   4   ┊\n",
      "       ┊  ┏┻━┓ ┊\n",
      "3128.45┊  3  ┃ ┊\n",
      "       ┊ ┏┻┓ ┃ ┊\n",
      "0.00   ┊ 0 1 2 ┊\n",
      "       0       1\n",
      "\n"
     ]
    }
   ],
   "source": [
    "# Print the tree as a text output.\n",
    "print(ts.draw_text())"
   ]
  },
  {
   "cell_type": "markdown",
   "metadata": {},
   "source": [
    "Because we only have one tree, we can directly extract it—we will go over iterating through trees later."
   ]
  },
  {
   "cell_type": "code",
   "execution_count": 4,
   "metadata": {},
   "outputs": [
    {
     "name": "stdout",
     "output_type": "stream",
     "text": [
      "╔══════════════════════════════╗\n",
      "║Tree                          ║\n",
      "╠═══════════════════╤══════════╣\n",
      "║Index              │         0║\n",
      "╟───────────────────┼──────────╢\n",
      "║Interval           │    0-1(1)║\n",
      "╟───────────────────┼──────────╢\n",
      "║Roots              │         1║\n",
      "╟───────────────────┼──────────╢\n",
      "║Nodes              │         5║\n",
      "╟───────────────────┼──────────╢\n",
      "║Sites              │         0║\n",
      "╟───────────────────┼──────────╢\n",
      "║Mutations          │         0║\n",
      "╟───────────────────┼──────────╢\n",
      "║Total Branch Length│17,491.302║\n",
      "╚═══════════════════╧══════════╝\n",
      "\n"
     ]
    }
   ],
   "source": [
    "# Extract the first and only tree from the tree-sequence.\n",
    "tree = ts.first()\n",
    "# Print a summary.\n",
    "print(tree)"
   ]
  },
  {
   "cell_type": "markdown",
   "metadata": {},
   "source": [
    "### Nodes and Edges\n",
    "\n",
    "The node table records the information associated with a node which represents an ancestral haploid genome—**NOTE:** The `id` column is only visualized but not actually recorded. \n",
    "- `flags` column has a value of 1 if the node is a sample node and 0 otherwise.\n",
    "- `population` column records the population id for the node and is -1 otherwise.\n",
    "- `individual` column records the individual id for the node and is -1 otherwise.\n",
    "- `time` column records the birth time of that node.\n",
    "- `metadata` column contains any associated metadata for that node.  "
   ]
  },
  {
   "cell_type": "code",
   "execution_count": 5,
   "metadata": {},
   "outputs": [
    {
     "name": "stdout",
     "output_type": "stream",
     "text": [
      "╔══╤═════╤══════════╤══════════╤══════════════╤════════╗\n",
      "║id│flags│population│individual│time          │metadata║\n",
      "╠══╪═════╪══════════╪══════════╪══════════════╪════════╣\n",
      "║0 │    1│         0│         0│    0.00000000│        ║\n",
      "║1 │    1│         0│         1│    0.00000000│        ║\n",
      "║2 │    1│         0│         2│    0.00000000│        ║\n",
      "║3 │    0│         0│        -1│3,128.45388481│        ║\n",
      "║4 │    0│         0│        -1│7,181.42391743│        ║\n",
      "╚══╧═════╧══════════╧══════════╧══════════════╧════════╝\n",
      "\n"
     ]
    }
   ],
   "source": [
    "# View the node table.\n",
    "print(ts.tables.nodes)"
   ]
  },
  {
   "cell_type": "markdown",
   "metadata": {},
   "source": [
    "The edge table records the parent-child relationship between a pair of nodes over a genomic interval—**NOTE:** The `id` column is only visualized but not actually recorded. \n",
    "- `left` column records the left coordinate (inclusive) of the half open genomic interval `[left, right)` over which the `child` node is inherited from a given `parent` node.\n",
    "- `right` column records the right coordinate (inclusive) of the half open genomic interval `[left, right)` over which the `child` node is inherited from a given `parent` node.\n",
    "- `parent` column records the node id of the `parent` node.\n",
    "- `child` column records the node id of the `child` node.\n",
    "- `metadata` column contains any associated metadata for that node. "
   ]
  },
  {
   "cell_type": "code",
   "execution_count": 6,
   "metadata": {},
   "outputs": [
    {
     "name": "stdout",
     "output_type": "stream",
     "text": [
      "╔══╤════╤═════╤══════╤═════╤════════╗\n",
      "║id│left│right│parent│child│metadata║\n",
      "╠══╪════╪═════╪══════╪═════╪════════╣\n",
      "║0 │   0│    1│     3│    0│        ║\n",
      "║1 │   0│    1│     3│    1│        ║\n",
      "║2 │   0│    1│     4│    2│        ║\n",
      "║3 │   0│    1│     4│    3│        ║\n",
      "╚══╧════╧═════╧══════╧═════╧════════╝\n",
      "\n"
     ]
    }
   ],
   "source": [
    "# View the edge table.\n",
    "print(ts.tables.edges)"
   ]
  },
  {
   "cell_type": "markdown",
   "metadata": {},
   "source": [
    "### Tree Traversal\n",
    "\n",
    "Often one may want to traverse the tree to extract information from nodes. However, there are multiple different orderings in which we can visit all the nodes. The most efficient way for traversing a tree differs based on the specific analysis, but here is a quick overview of what is implemented in `msprime`—**NOTE:** Subtrees are sorted by node id such that the \"left\" subtree corresponds to the child node with the smallest node id and the \"right\" subtree is child node with the larger node id.\n",
    "\n",
    "- **Preorder**: The root node is visited first, followed by its left subtree, and then its right subtree. \n",
    "- **Inorder**: The left subtree is visited first, followed by the root, and then the right subtree.\n",
    "- **Postorder**: The left subtree is visited first, then the right subtree, and finally the root."
   ]
  },
  {
   "cell_type": "code",
   "execution_count": 7,
   "metadata": {},
   "outputs": [
    {
     "name": "stdout",
     "output_type": "stream",
     "text": [
      "preorder:\t [4, 2, 3, 0, 1]\n",
      "inorder:\t [2, 4, 0, 3, 1]\n",
      "postorder:\t [2, 0, 1, 3, 4]\n"
     ]
    }
   ],
   "source": [
    "# For every traversal order.\n",
    "for trav_order in [\"preorder\", \"inorder\", \"postorder\"]:\n",
    "    # Print the traversal order.\n",
    "    print(f\"{trav_order}:\\t\", list(tree.nodes(order=trav_order)))"
   ]
  },
  {
   "cell_type": "markdown",
   "metadata": {},
   "source": [
    "Let's quickly recap the traversal methods.\n",
    "\n",
    "**Preorder (root $\\rightarrow$ left subtree $\\rightarrow$ right subtree)**\n",
    "1. Start at the root, node **4**.\n",
    "2. Visit the left subtree, node **2**.\n",
    "3. Visit the right subtree:\n",
    "   - Node **3** (root of the right subtree).\n",
    "   - Node **0** (left child of node 3).\n",
    "   - Node **1** (right child of node 3).\n",
    "\n",
    "**Inorder (left subtree $\\rightarrow$ root $\\rightarrow$ right subtree)**\n",
    "1. Start with the left subtree of the root, node **2**.\n",
    "2. Visit the root, **Node 4**.\n",
    "3. Visit the right subtree:\n",
    "   - Node **0** (left child of node 3).\n",
    "   - Node **3** (root of the right subtree).\n",
    "   - Node **1** (right child of node 3).\n",
    "\n",
    "**Postorder (left subtree $\\rightarrow$ right subtree $\\rightarrow$ root)**\n",
    "\n",
    "1. Start with the left subtree of the root, node **2**.\n",
    "2. Visit the right subtree:\n",
    "   - Node **0** (left child of node 3).\n",
    "   - Node **1** (right child of node 3).\n",
    "   - Node **3** (root of the right subtree).\n",
    "3. Visit the root, node **4**.\n",
    "\n",
    "\n",
    "### Node Attributes\n",
    "\n",
    "While traversing a tree, you may need information about nodes. For instance, one may be interested in knowing if the node is an internal or leaf node, the children nodes of an internal node, the parent of a specified node, the time of the specified node, the branch length of the edge connecting the specified node to its parent, or maybe just the edge id connecting the specified node to its parent. Note that if a traversal method is not specified the default is a preorder traversal."
   ]
  },
  {
   "cell_type": "code",
   "execution_count": 8,
   "metadata": {},
   "outputs": [
    {
     "name": "stdout",
     "output_type": "stream",
     "text": [
      "Node 4 is an internal node at time 7181.423917434264 whose left child is node 2 with a branch length of 7181.423917434264 (edge 2) and whose right child is node 3 with a branch length of 4052.970032622001 (edge 3).\n",
      "Node 2 is a leaf node at time 0.0 whose parent is node 4 and branch length 7181.423917434264 (edge 2).\n",
      "Node 3 is an internal node at time 3128.453884812263 whose left child is node 0 with a branch length of 3128.453884812263 (edge 0) and whose right child is node 1 with a branch length of 3128.453884812263 (edge 1).\n",
      "Node 0 is a leaf node at time 0.0 whose parent is node 3 and branch length 3128.453884812263 (edge 0).\n",
      "Node 1 is a leaf node at time 0.0 whose parent is node 3 and branch length 3128.453884812263 (edge 1).\n"
     ]
    }
   ],
   "source": [
    "# Traverse the tree in preorder.\n",
    "for node in tree.nodes():\n",
    "    # If the node is a leaf.\n",
    "    if tree.is_leaf(node):\n",
    "        # Find the parent node.\n",
    "        parent = tree.parent(node)\n",
    "        # Find the time of the node.\n",
    "        time = tree.time(node)\n",
    "        # Find the branch length between the node and its parent.\n",
    "        branch_length = tree.branch_length(node)\n",
    "        # Find the edge id of the edge between the node and its parent.\n",
    "        edge_id = tree.edge(node)\n",
    "        # Print a summary.\n",
    "        print(\n",
    "            f\"Node {node} is a leaf node at time {time} whose parent is node {parent} and branch length {branch_length} (edge {edge_id}).\"\n",
    "        )\n",
    "    # Else, the node is an internal node.\n",
    "    else:\n",
    "        # Find the children of the node.\n",
    "        left_child, right_child = tree.children(node)\n",
    "        # Find the time of the node.\n",
    "        time = tree.time(node)\n",
    "        # Find the branch length between the left child and the node.\n",
    "        left_branch_length = tree.branch_length(left_child)\n",
    "        # Find the branch length between the right child and the node.\n",
    "        right_branch_length = tree.branch_length(right_child)\n",
    "        # Find the edge id of the edge between the left child and the node.\n",
    "        left_edge_id = tree.edge(left_child)\n",
    "        # Find the edge id of the edge between the right child and the node.\n",
    "        right_edge_id = tree.edge(right_child)\n",
    "        # Print a summary.\n",
    "        print(\n",
    "            f\"Node {node} is an internal node at time {time} whose left child is node {left_child} with a branch length of {left_branch_length} (edge {left_edge_id}) and whose right child is node {right_child} with a branch length of {right_branch_length} (edge {right_edge_id}).\"\n",
    "        )"
   ]
  },
  {
   "cell_type": "markdown",
   "metadata": {},
   "source": [
    "## Tree-Sequences\n",
    "\n",
    "So far, we have ignored recombination. However, recombination is important because it creates multiple trees along the genome that are spatially autocorrelated. Let's re-run our previous example with recombination to generate a sequence of trees—**NOTE:** Previously we did not need to define a sequence length since there was no recombination, however when there is recombination you will need to specify a sequence length."
   ]
  },
  {
   "cell_type": "code",
   "execution_count": 9,
   "metadata": {},
   "outputs": [
    {
     "name": "stdout",
     "output_type": "stream",
     "text": [
      "╔═══════════════════════════╗\n",
      "║TreeSequence               ║\n",
      "╠═══════════════╤═══════════╣\n",
      "║Trees          │          3║\n",
      "╟───────────────┼───────────╢\n",
      "║Sequence Length│      10000║\n",
      "╟───────────────┼───────────╢\n",
      "║Time Units     │generations║\n",
      "╟───────────────┼───────────╢\n",
      "║Sample Nodes   │          3║\n",
      "╟───────────────┼───────────╢\n",
      "║Total Size     │    2.1 KiB║\n",
      "╚═══════════════╧═══════════╝\n",
      "╔═══════════╤════╤═════════╤════════════╗\n",
      "║Table      │Rows│Size     │Has Metadata║\n",
      "╠═══════════╪════╪═════════╪════════════╣\n",
      "║Edges      │  10│328 Bytes│          No║\n",
      "╟───────────┼────┼─────────┼────────────╢\n",
      "║Individuals│   3│108 Bytes│          No║\n",
      "╟───────────┼────┼─────────┼────────────╢\n",
      "║Migrations │   0│  8 Bytes│          No║\n",
      "╟───────────┼────┼─────────┼────────────╢\n",
      "║Mutations  │   0│ 16 Bytes│          No║\n",
      "╟───────────┼────┼─────────┼────────────╢\n",
      "║Nodes      │   7│204 Bytes│          No║\n",
      "╟───────────┼────┼─────────┼────────────╢\n",
      "║Populations│   1│224 Bytes│         Yes║\n",
      "╟───────────┼────┼─────────┼────────────╢\n",
      "║Provenances│   1│  1.1 KiB│          No║\n",
      "╟───────────┼────┼─────────┼────────────╢\n",
      "║Sites      │   0│ 16 Bytes│          No║\n",
      "╚═══════════╧════╧═════════╧════════════╝\n",
      "\n"
     ]
    }
   ],
   "source": [
    "# Perform an ancestry simulation for three samples over a 10kb sequence with an effective population size of 10,000 and a recombination rate of 1e-8.\n",
    "ts = msprime.sim_ancestry(\n",
    "    samples=[msprime.SampleSet(3, ploidy=1)],  # Sample haploids.\n",
    "    population_size=1e4,\n",
    "    recombination_rate=1e-8,\n",
    "    sequence_length=1e4,\n",
    "    random_seed=42,\n",
    ")\n",
    "# Show the tree-sequence.\n",
    "print(ts)"
   ]
  },
  {
   "cell_type": "markdown",
   "metadata": {},
   "source": [
    "From the output we can see that there are three trees in this tree-sequence, with seven unique nodes, and ten unique edges. Now let's visualize the tree for clarity and verify that the tree-sequence summary is correct."
   ]
  },
  {
   "cell_type": "code",
   "execution_count": 10,
   "metadata": {},
   "outputs": [
    {
     "name": "stdout",
     "output_type": "stream",
     "text": [
      "28162.10┊   6   ┊       ┊       ┊  \n",
      "        ┊ ┏━┻┓  ┊       ┊       ┊  \n",
      "7114.83 ┊ ┃  ┃  ┊       ┊   5   ┊  \n",
      "        ┊ ┃  ┃  ┊       ┊ ┏━┻┓  ┊  \n",
      "4407.97 ┊ ┃  4  ┊   4   ┊ ┃  4  ┊  \n",
      "        ┊ ┃ ┏┻┓ ┊  ┏┻━┓ ┊ ┃ ┏┻┓ ┊  \n",
      "4056.86 ┊ ┃ ┃ ┃ ┊  3  ┃ ┊ ┃ ┃ ┃ ┊  \n",
      "        ┊ ┃ ┃ ┃ ┊ ┏┻┓ ┃ ┊ ┃ ┃ ┃ ┊  \n",
      "0.00    ┊ 0 1 2 ┊ 0 2 1 ┊ 0 1 2 ┊  \n",
      "        0     1912    8521    10000\n",
      "\n",
      "There are 7 nodes in the tree-sequence.\n",
      "There are 10 edges in the tree-sequence.\n"
     ]
    }
   ],
   "source": [
    "# Print the tree as a text output.\n",
    "print(ts.draw_text())\n",
    "# Print the number of nodes in the tree-sequence.\n",
    "print(f\"There are {ts.num_nodes} nodes in the tree-sequence.\")\n",
    "# Print the number of edges in the tree-sequence.\n",
    "print(f\"There are {ts.num_edges} edges in the tree-sequence.\")"
   ]
  },
  {
   "cell_type": "markdown",
   "metadata": {},
   "source": [
    "Now let's view the node and edge tables for this tree sequence."
   ]
  },
  {
   "cell_type": "code",
   "execution_count": 11,
   "metadata": {},
   "outputs": [
    {
     "name": "stdout",
     "output_type": "stream",
     "text": [
      "╔══╤═════╤══════════╤══════════╤═══════════════╤════════╗\n",
      "║id│flags│population│individual│time           │metadata║\n",
      "╠══╪═════╪══════════╪══════════╪═══════════════╪════════╣\n",
      "║0 │    1│         0│         0│     0.00000000│        ║\n",
      "║1 │    1│         0│         1│     0.00000000│        ║\n",
      "║2 │    1│         0│         2│     0.00000000│        ║\n",
      "║3 │    0│         0│        -1│ 4,056.86242079│        ║\n",
      "║4 │    0│         0│        -1│ 4,407.97125394│        ║\n",
      "║5 │    0│         0│        -1│ 7,114.82581114│        ║\n",
      "║6 │    0│         0│        -1│28,162.10275058│        ║\n",
      "╚══╧═════╧══════════╧══════════╧═══════════════╧════════╝\n",
      "\n",
      "╔══╤═════╤══════╤══════╤═════╤════════╗\n",
      "║id│left │right │parent│child│metadata║\n",
      "╠══╪═════╪══════╪══════╪═════╪════════╣\n",
      "║0 │1,912│ 8,521│     3│    0│        ║\n",
      "║1 │1,912│ 8,521│     3│    2│        ║\n",
      "║2 │    0│10,000│     4│    1│        ║\n",
      "║3 │    0│ 1,912│     4│    2│        ║\n",
      "║4 │8,521│10,000│     4│    2│        ║\n",
      "║5 │1,912│ 8,521│     4│    3│        ║\n",
      "║6 │8,521│10,000│     5│    0│        ║\n",
      "║7 │8,521│10,000│     5│    4│        ║\n",
      "║8 │    0│ 1,912│     6│    0│        ║\n",
      "║9 │    0│ 1,912│     6│    4│        ║\n",
      "╚══╧═════╧══════╧══════╧═════╧════════╝\n",
      "\n"
     ]
    }
   ],
   "source": [
    "# Print the node table.\n",
    "print(ts.tables.nodes)\n",
    "# Print the edge table.\n",
    "print(ts.tables.edges)"
   ]
  },
  {
   "cell_type": "markdown",
   "metadata": {},
   "source": [
    "Note that unlike the previous example for a single tree, the edges in a tree-sequence span for varying genomic intervals.\n",
    "\n",
    "### Iterating Over Trees\n",
    "\n",
    "Unlike our first example without recombination, Trees in a tree-sequence are defined by the half-open interval `[left, right)` defined by the recombination breakpoints. Let's now iterate through every tree in the tree-sequence and record the tree's index, genomic interval, genomic span, most recent common ancestor (MRCA), time to the most recent common ancestor (TMRCA), and the total branch length."
   ]
  },
  {
   "cell_type": "code",
   "execution_count": 12,
   "metadata": {},
   "outputs": [
    {
     "name": "stdout",
     "output_type": "stream",
     "text": [
      "Tree 0 is at the genomic interval [0.0, 1912.0) with span 1912.0bp whose MRCA node is 6 at time 28162.10275058316 with total branch length 60732.176755101726.\n",
      "Tree 1 is at the genomic interval [1912.0, 8521.0) with span 6609.0bp whose MRCA node is 4 at time 4407.971253935411 with total branch length 12872.804928661822.\n",
      "Tree 2 is at the genomic interval [8521.0, 10000.0) with span 1479.0bp whose MRCA node is 5 at time 7114.825811141256 with total branch length 18637.622876217923.\n"
     ]
    }
   ],
   "source": [
    "# Iterate over the trees in the tree-sequence.\n",
    "for tree in ts.trees():\n",
    "    # Find the tree's index.\n",
    "    index = tree.index\n",
    "    # Find the tree's genomic interval.\n",
    "    interval = tree.interval\n",
    "    # Find the tree's genomic span.\n",
    "    span = tree.span\n",
    "    # Find the tree's MRCA node.\n",
    "    mrca = tree.root\n",
    "    # Find the tree's TMRCA.\n",
    "    tmrca = tree.time(mrca)\n",
    "    # Find the tree's total branch length.\n",
    "    total_branch_length = tree.total_branch_length\n",
    "    # Print a summary.\n",
    "    print(\n",
    "        f\"Tree {index} is at the genomic interval [{interval.left}, {interval.right}) with span {span}bp whose MRCA node is {mrca} at time {tmrca} with total branch length {total_branch_length}.\"\n",
    "    )"
   ]
  },
  {
   "cell_type": "markdown",
   "metadata": {},
   "source": [
    "Now let's combine what we have learned thus far by iterating over the trees in the tree-sequence, then traversing the tree to find the first coalescent event, and then recording time of the coalescent event and the two lineages involved."
   ]
  },
  {
   "cell_type": "code",
   "execution_count": 13,
   "metadata": {},
   "outputs": [
    {
     "name": "stdout",
     "output_type": "stream",
     "text": [
      "Tree 0: Leaf nodes 1 and 2 coalesce first at time 4407.971253935411.\n",
      "Tree 1: Leaf nodes 0 and 2 coalesce first at time 4056.862420790999.\n",
      "Tree 2: Leaf nodes 1 and 2 coalesce first at time 4407.971253935411.\n"
     ]
    }
   ],
   "source": [
    "# Iterate over the trees in the tree-sequence.\n",
    "for tree in ts.trees():\n",
    "    # Find the tree's index.\n",
    "    index = tree.index\n",
    "    # Initialize variables.\n",
    "    first_coal_node = None\n",
    "    first_coal_time = float(\"inf\")\n",
    "    # Traverse the tree in preorder.\n",
    "    for node in tree.nodes():\n",
    "        # If the node is an internal node.\n",
    "        if tree.is_internal(node):\n",
    "            # Find the time of the node.\n",
    "            time = tree.time(node)\n",
    "            # Determine if this is the earliest coalescent event we've seen.\n",
    "            if time < first_coal_time:\n",
    "                # Update the node of the first coalescent event.\n",
    "                first_coal_node = node\n",
    "                # Update the the time of the first coalescent event.\n",
    "                first_coal_time = time\n",
    "    # Find the lineages that coalesce first.\n",
    "    left_child, right_child = tree.children(first_coal_node)\n",
    "    # Print a summary.\n",
    "    print(\n",
    "        f\"Tree {index}: Leaf nodes {left_child} and {right_child} coalesce first at time {first_coal_time}.\"\n",
    "    )"
   ]
  },
  {
   "cell_type": "markdown",
   "metadata": {},
   "source": [
    "## Demography\n",
    "\n",
    "Up to now, we have simulated a single population with a constant size. Now that we are more familiar with tree-sequences, let's generate a `Demography` object in `msprime` for a single population with a constant population size of 10,000."
   ]
  },
  {
   "cell_type": "code",
   "execution_count": 14,
   "metadata": {},
   "outputs": [
    {
     "name": "stdout",
     "output_type": "stream",
     "text": [
      "DemographyDebugger\n",
      "╠════════════════════════════════╗\n",
      "║ Epoch[0]: [0, inf) generations ║\n",
      "╠════════════════════════════════╝\n",
      "╟    Populations (total=1 active=1)\n",
      "║    ┌───────────────────────────────────────┐\n",
      "║    │   │     start│       end│growth_rate  │\n",
      "║    ├───────────────────────────────────────┤\n",
      "║    │  A│   10000.0│   10000.0│ 0           │\n",
      "║    └───────────────────────────────────────┘\n",
      "\n"
     ]
    }
   ],
   "source": [
    "# Initialize the demography object.\n",
    "one_pop_const_demo = msprime.Demography()\n",
    "# Initialize the population size of 10,000.\n",
    "one_pop_const_demo.add_population(name=\"A\", initial_size=1e4)\n",
    "# View the demographic history.\n",
    "print(one_pop_const_demo.debug())"
   ]
  },
  {
   "cell_type": "markdown",
   "metadata": {},
   "source": [
    "Now, let's define a demographic history with two populations that diverged from an ancestral population 15,000 generations ago, all with a constant population size of 10,000."
   ]
  },
  {
   "cell_type": "code",
   "execution_count": 15,
   "metadata": {},
   "outputs": [
    {
     "name": "stdout",
     "output_type": "stream",
     "text": [
      "DemographyDebugger\n",
      "╠════════════════════════════════════╗\n",
      "║ Epoch[0]: [0, 1.5e+04) generations ║\n",
      "╠════════════════════════════════════╝\n",
      "╟    Populations (total=3 active=2)\n",
      "║    ┌───────────────────────────────────────────────┐\n",
      "║    │   │     start│       end│growth_rate  │ A │ B │\n",
      "║    ├───────────────────────────────────────────────┤\n",
      "║    │  A│   10000.0│   10000.0│ 0           │ 0 │ 0 │\n",
      "║    │  B│   10000.0│   10000.0│ 0           │ 0 │ 0 │\n",
      "║    └───────────────────────────────────────────────┘\n",
      "╟    Events @ generation 1.5e+04\n",
      "║    ┌─────────────────────────────────────────────────────────────────────────────────┐\n",
      "║    │     time│type        │parameters       │effect                                  │\n",
      "║    ├─────────────────────────────────────────────────────────────────────────────────┤\n",
      "║    │  1.5e+04│Population  │derived=[A, B],  │Moves all lineages from derived         │\n",
      "║    │         │Split       │ancestral=C      │populations 'A' and 'B' to the          │\n",
      "║    │         │            │                 │ancestral 'C' population. Also set the  │\n",
      "║    │         │            │                 │derived populations to inactive, and    │\n",
      "║    │         │            │                 │all migration rates to and from the     │\n",
      "║    │         │            │                 │derived populations to zero.            │\n",
      "║    └─────────────────────────────────────────────────────────────────────────────────┘\n",
      "╠══════════════════════════════════════╗\n",
      "║ Epoch[1]: [1.5e+04, inf) generations ║\n",
      "╠══════════════════════════════════════╝\n",
      "╟    Populations (total=3 active=1)\n",
      "║    ┌───────────────────────────────────────┐\n",
      "║    │   │     start│       end│growth_rate  │\n",
      "║    ├───────────────────────────────────────┤\n",
      "║    │  C│   10000.0│   10000.0│ 0           │\n",
      "║    └───────────────────────────────────────┘\n",
      "\n"
     ]
    }
   ],
   "source": [
    "# Initialize the demography object.\n",
    "two_pop_const_demo = msprime.Demography()\n",
    "# Initialize the populations and their associated sizes of 10,000.\n",
    "two_pop_const_demo.add_population(name=\"A\", initial_size=1e4)\n",
    "two_pop_const_demo.add_population(name=\"B\", initial_size=1e4)\n",
    "two_pop_const_demo.add_population(name=\"C\", initial_size=1e4)\n",
    "# Initialize the time when populations A and B split from C 15,000 generations ago.\n",
    "two_pop_const_demo.add_population_split(time=1.5e4, derived=[\"A\", \"B\"], ancestral=\"C\")\n",
    "# View the demographic history.\n",
    "print(two_pop_const_demo.debug())"
   ]
  },
  {
   "cell_type": "markdown",
   "metadata": {},
   "source": [
    "Next, we'll set up a scenario where population \"A\" experienced a bottleneck 10,000 generations ago, reducing its population size from 10,000 to 5,000. "
   ]
  },
  {
   "cell_type": "code",
   "execution_count": 16,
   "metadata": {},
   "outputs": [
    {
     "name": "stdout",
     "output_type": "stream",
     "text": [
      "DemographyDebugger\n",
      "╠══════════════════════════════════╗\n",
      "║ Epoch[0]: [0, 1e+04) generations ║\n",
      "╠══════════════════════════════════╝\n",
      "╟    Populations (total=3 active=2)\n",
      "║    ┌───────────────────────────────────────────────┐\n",
      "║    │   │     start│       end│growth_rate  │ A │ B │\n",
      "║    ├───────────────────────────────────────────────┤\n",
      "║    │  A│    5000.0│    5000.0│ 0           │ 0 │ 0 │\n",
      "║    │  B│   10000.0│   10000.0│ 0           │ 0 │ 0 │\n",
      "║    └───────────────────────────────────────────────┘\n",
      "╟    Events @ generation 1e+04\n",
      "║    ┌───────────────────────────────────────────────────────────────────────────────────┐\n",
      "║    │   time│type        │parameters            │effect                                 │\n",
      "║    ├───────────────────────────────────────────────────────────────────────────────────┤\n",
      "║    │  1e+04│Population  │population=A,         │initial_size → 1e+04 for population A  │\n",
      "║    │       │parameter   │initial_size=10000.0  │                                       │\n",
      "║    │       │change      │                      │                                       │\n",
      "║    └───────────────────────────────────────────────────────────────────────────────────┘\n",
      "╠════════════════════════════════════════╗\n",
      "║ Epoch[1]: [1e+04, 1.5e+04) generations ║\n",
      "╠════════════════════════════════════════╝\n",
      "╟    Populations (total=3 active=2)\n",
      "║    ┌───────────────────────────────────────────────┐\n",
      "║    │   │     start│       end│growth_rate  │ A │ B │\n",
      "║    ├───────────────────────────────────────────────┤\n",
      "║    │  A│   10000.0│   10000.0│ 0           │ 0 │ 0 │\n",
      "║    │  B│   10000.0│   10000.0│ 0           │ 0 │ 0 │\n",
      "║    └───────────────────────────────────────────────┘\n",
      "╟    Events @ generation 1.5e+04\n",
      "║    ┌─────────────────────────────────────────────────────────────────────────────────┐\n",
      "║    │     time│type        │parameters       │effect                                  │\n",
      "║    ├─────────────────────────────────────────────────────────────────────────────────┤\n",
      "║    │  1.5e+04│Population  │derived=[A, B],  │Moves all lineages from derived         │\n",
      "║    │         │Split       │ancestral=C      │populations 'A' and 'B' to the          │\n",
      "║    │         │            │                 │ancestral 'C' population. Also set the  │\n",
      "║    │         │            │                 │derived populations to inactive, and    │\n",
      "║    │         │            │                 │all migration rates to and from the     │\n",
      "║    │         │            │                 │derived populations to zero.            │\n",
      "║    └─────────────────────────────────────────────────────────────────────────────────┘\n",
      "╠══════════════════════════════════════╗\n",
      "║ Epoch[2]: [1.5e+04, inf) generations ║\n",
      "╠══════════════════════════════════════╝\n",
      "╟    Populations (total=3 active=1)\n",
      "║    ┌───────────────────────────────────────┐\n",
      "║    │   │     start│       end│growth_rate  │\n",
      "║    ├───────────────────────────────────────┤\n",
      "║    │  C│   10000.0│   10000.0│ 0           │\n",
      "║    └───────────────────────────────────────┘\n",
      "\n"
     ]
    }
   ],
   "source": [
    "# Initialize the demography object.\n",
    "two_pop_bott_demo = msprime.Demography()\n",
    "# Initialize the populations and their associated sizes.\n",
    "two_pop_bott_demo.add_population(name=\"A\", initial_size=5e3)\n",
    "two_pop_bott_demo.add_population_parameters_change(\n",
    "    time=1e4, population=\"A\", initial_size=1e4\n",
    ")\n",
    "two_pop_bott_demo.add_population(name=\"B\", initial_size=1e4)\n",
    "two_pop_bott_demo.add_population(name=\"C\", initial_size=1e4)\n",
    "# Initialize the time when populations A and B split from C 15,000 generations ago.\n",
    "two_pop_bott_demo.add_population_split(time=1.5e4, derived=[\"A\", \"B\"], ancestral=\"C\")\n",
    "# View the demographic history.\n",
    "print(two_pop_bott_demo.debug())"
   ]
  },
  {
   "cell_type": "markdown",
   "metadata": {},
   "source": [
    "Let's simulate a 1Mb segment, sampling two lineages per population under each of these demographic models.\n"
   ]
  },
  {
   "cell_type": "code",
   "execution_count": 17,
   "metadata": {},
   "outputs": [
    {
     "name": "stdout",
     "output_type": "stream",
     "text": [
      "╔═══════════════════════════╗\n",
      "║TreeSequence               ║\n",
      "╠═══════════════╤═══════════╣\n",
      "║Trees          │        261║\n",
      "╟───────────────┼───────────╢\n",
      "║Sequence Length│    1000000║\n",
      "╟───────────────┼───────────╢\n",
      "║Time Units     │generations║\n",
      "╟───────────────┼───────────╢\n",
      "║Sample Nodes   │          2║\n",
      "╟───────────────┼───────────╢\n",
      "║Total Size     │   27.6 KiB║\n",
      "╚═══════════════╧═══════════╝\n",
      "╔═══════════╤════╤═════════╤════════════╗\n",
      "║Table      │Rows│Size     │Has Metadata║\n",
      "╠═══════════╪════╪═════════╪════════════╣\n",
      "║Edges      │ 522│ 16.3 KiB│          No║\n",
      "╟───────────┼────┼─────────┼────────────╢\n",
      "║Individuals│   2│ 80 Bytes│          No║\n",
      "╟───────────┼────┼─────────┼────────────╢\n",
      "║Migrations │   0│  8 Bytes│          No║\n",
      "╟───────────┼────┼─────────┼────────────╢\n",
      "║Mutations  │   0│ 16 Bytes│          No║\n",
      "╟───────────┼────┼─────────┼────────────╢\n",
      "║Nodes      │ 200│  5.5 KiB│          No║\n",
      "╟───────────┼────┼─────────┼────────────╢\n",
      "║Populations│   1│220 Bytes│         Yes║\n",
      "╟───────────┼────┼─────────┼────────────╢\n",
      "║Provenances│   1│  1.4 KiB│          No║\n",
      "╟───────────┼────┼─────────┼────────────╢\n",
      "║Sites      │   0│ 16 Bytes│          No║\n",
      "╚═══════════╧════╧═════════╧════════════╝\n",
      "\n"
     ]
    }
   ],
   "source": [
    "# Simulate a tree-sequence under the one population model.\n",
    "ts_one_pop_const_demo = msprime.sim_ancestry(\n",
    "    samples=[msprime.SampleSet(2, ploidy=1, population=\"A\")],  # Sample haploids.\n",
    "    demography=one_pop_const_demo,\n",
    "    recombination_rate=1e-8,\n",
    "    sequence_length=1e6,\n",
    "    random_seed=42,\n",
    ")\n",
    "# Show the tree-sequence.\n",
    "print(ts_one_pop_const_demo)"
   ]
  },
  {
   "cell_type": "code",
   "execution_count": 18,
   "metadata": {},
   "outputs": [
    {
     "name": "stdout",
     "output_type": "stream",
     "text": [
      "╔═══════════════════════════╗\n",
      "║TreeSequence               ║\n",
      "╠═══════════════╤═══════════╣\n",
      "║Trees          │        729║\n",
      "╟───────────────┼───────────╢\n",
      "║Sequence Length│    1000000║\n",
      "╟───────────────┼───────────╢\n",
      "║Time Units     │generations║\n",
      "╟───────────────┼───────────╢\n",
      "║Sample Nodes   │          4║\n",
      "╟───────────────┼───────────╢\n",
      "║Total Size     │   94.6 KiB║\n",
      "╚═══════════════╧═══════════╝\n",
      "╔═══════════╤═════╤═════════╤════════════╗\n",
      "║Table      │Rows │Size     │Has Metadata║\n",
      "╠═══════════╪═════╪═════════╪════════════╣\n",
      "║Edges      │2,017│ 63.0 KiB│          No║\n",
      "╟───────────┼─────┼─────────┼────────────╢\n",
      "║Individuals│    4│136 Bytes│          No║\n",
      "╟───────────┼─────┼─────────┼────────────╢\n",
      "║Migrations │    0│  8 Bytes│          No║\n",
      "╟───────────┼─────┼─────────┼────────────╢\n",
      "║Mutations  │    0│ 16 Bytes│          No║\n",
      "╟───────────┼─────┼─────────┼────────────╢\n",
      "║Nodes      │  489│ 13.4 KiB│          No║\n",
      "╟───────────┼─────┼─────────┼────────────╢\n",
      "║Populations│    3│294 Bytes│         Yes║\n",
      "╟───────────┼─────┼─────────┼────────────╢\n",
      "║Provenances│    1│  1.9 KiB│          No║\n",
      "╟───────────┼─────┼─────────┼────────────╢\n",
      "║Sites      │    0│ 16 Bytes│          No║\n",
      "╚═══════════╧═════╧═════════╧════════════╝\n",
      "\n"
     ]
    }
   ],
   "source": [
    "# Simulate a tree-sequence under the two population model.\n",
    "ts_two_pop_const_demo = msprime.sim_ancestry(\n",
    "    samples=[\n",
    "        msprime.SampleSet(2, ploidy=1, population=\"A\"),\n",
    "        msprime.SampleSet(2, ploidy=1, population=\"B\"),\n",
    "    ],  # Sample haploids.\n",
    "    demography=two_pop_const_demo,\n",
    "    recombination_rate=1e-8,\n",
    "    sequence_length=1e6,\n",
    "    random_seed=42,\n",
    ")\n",
    "# Show the tree-sequence.\n",
    "print(ts_two_pop_const_demo)"
   ]
  },
  {
   "cell_type": "code",
   "execution_count": 19,
   "metadata": {},
   "outputs": [
    {
     "name": "stdout",
     "output_type": "stream",
     "text": [
      "╔═══════════════════════════╗\n",
      "║TreeSequence               ║\n",
      "╠═══════════════╤═══════════╣\n",
      "║Trees          │        647║\n",
      "╟───────────────┼───────────╢\n",
      "║Sequence Length│    1000000║\n",
      "╟───────────────┼───────────╢\n",
      "║Time Units     │generations║\n",
      "╟───────────────┼───────────╢\n",
      "║Sample Nodes   │          4║\n",
      "╟───────────────┼───────────╢\n",
      "║Total Size     │   83.9 KiB║\n",
      "╚═══════════════╧═══════════╝\n",
      "╔═══════════╤═════╤═════════╤════════════╗\n",
      "║Table      │Rows │Size     │Has Metadata║\n",
      "╠═══════════╪═════╪═════════╪════════════╣\n",
      "║Edges      │1,765│ 55.2 KiB│          No║\n",
      "╟───────────┼─────┼─────────┼────────────╢\n",
      "║Individuals│    4│136 Bytes│          No║\n",
      "╟───────────┼─────┼─────────┼────────────╢\n",
      "║Migrations │    0│  8 Bytes│          No║\n",
      "╟───────────┼─────┼─────────┼────────────╢\n",
      "║Mutations  │    0│ 16 Bytes│          No║\n",
      "╟───────────┼─────┼─────────┼────────────╢\n",
      "║Nodes      │  455│ 12.4 KiB│          No║\n",
      "╟───────────┼─────┼─────────┼────────────╢\n",
      "║Populations│    3│294 Bytes│         Yes║\n",
      "╟───────────┼─────┼─────────┼────────────╢\n",
      "║Provenances│    1│  2.0 KiB│          No║\n",
      "╟───────────┼─────┼─────────┼────────────╢\n",
      "║Sites      │    0│ 16 Bytes│          No║\n",
      "╚═══════════╧═════╧═════════╧════════════╝\n",
      "\n"
     ]
    }
   ],
   "source": [
    "# Simulate a tree-sequence under the two population model with a bottleneck event in population A.\n",
    "ts_two_pop_bott_demo = msprime.sim_ancestry(\n",
    "    samples=[\n",
    "        msprime.SampleSet(2, ploidy=1, population=\"A\"),\n",
    "        msprime.SampleSet(2, ploidy=1, population=\"B\"),\n",
    "    ],  # Sample haploids.\n",
    "    demography=two_pop_bott_demo,\n",
    "    recombination_rate=1e-8,\n",
    "    sequence_length=1e6,\n",
    "    random_seed=42,\n",
    ")\n",
    "# Show the tree-sequence.\n",
    "print(ts_two_pop_bott_demo)"
   ]
  },
  {
   "cell_type": "markdown",
   "metadata": {},
   "source": [
    "Now let's compute the pairwise TMRCA estimates for all samples within and between populations, per demographic model—**NOTE:** Population A's id is 0 and B's id is 1.\n"
   ]
  },
  {
   "cell_type": "code",
   "execution_count": 20,
   "metadata": {},
   "outputs": [
    {
     "name": "stdout",
     "output_type": "stream",
     "text": [
      "The TMRCA of the two samples in the one population model is 19043.508095066813.\n"
     ]
    }
   ],
   "source": [
    "# Initialize the sequence length.\n",
    "seq_len = 1e6\n",
    "# Extract the sample indices.\n",
    "idx_1, idx_2 = ts_one_pop_const_demo.samples(0)\n",
    "# Initialize the TMRCA.\n",
    "tmrca_one_pop_const_demo = 0\n",
    "# Iterate over the trees in the tree-sequence.\n",
    "for tree in ts_one_pop_const_demo.trees():\n",
    "    # Find the tree's genomic span.\n",
    "    span = tree.span\n",
    "    # Determine the tree's weight.\n",
    "    tree_weight = span / seq_len\n",
    "    # Find the TMRCA.\n",
    "    tmrca = tree.tmrca(idx_1, idx_2)\n",
    "    # Update the TMRCA.\n",
    "    tmrca_one_pop_const_demo += tmrca * tree_weight\n",
    "# Print a summary.\n",
    "print(\n",
    "    f\"The TMRCA of the two samples in the one population model is {tmrca_one_pop_const_demo}.\"\n",
    ")"
   ]
  },
  {
   "cell_type": "code",
   "execution_count": 21,
   "metadata": {},
   "outputs": [
    {
     "name": "stdout",
     "output_type": "stream",
     "text": [
      "The TMRCA of the two samples in population A is 21177.942974200236.\n",
      "The TMRCA of the two samples in population B is 19231.466887275474.\n",
      "The mean TMRCA between two samples in populations A and B is 35293.538128770604.\n"
     ]
    }
   ],
   "source": [
    "# Initialize the sequence length.\n",
    "seq_len = 1e6\n",
    "# Extract the sample indices.\n",
    "pop_a1, pop_a2 = ts_two_pop_const_demo.samples(0)\n",
    "pop_b1, pop_b2 = ts_two_pop_const_demo.samples(1)\n",
    "# Initialize the TMRCAs.\n",
    "tmrca_two_pop_const_demo = {\n",
    "    \"A\": {(pop_a1, pop_a2): 0},\n",
    "    \"B\": {(pop_b1, pop_b2): 0},\n",
    "    \"A-B\": {\n",
    "        (pop_a1, pop_b1): 0,\n",
    "        (pop_a1, pop_b2): 0,\n",
    "        (pop_a2, pop_b1): 0,\n",
    "        (pop_a2, pop_b2): 0,\n",
    "    },\n",
    "}\n",
    "# Iterate over the trees in the tree-sequence.\n",
    "for tree in ts_two_pop_const_demo.trees():\n",
    "    # Find the tree's genomic span.\n",
    "    span = tree.span\n",
    "    # Determine the tree's weight.\n",
    "    tree_weight = span / seq_len\n",
    "    # Find the TMRCAs.\n",
    "    tmrca_two_pop_const_demo[\"A\"][(pop_a1, pop_a2)] += (\n",
    "        tree.tmrca(pop_a1, pop_a2) * tree_weight\n",
    "    )\n",
    "    tmrca_two_pop_const_demo[\"B\"][(pop_b1, pop_b2)] += (\n",
    "        tree.tmrca(pop_b1, pop_b2) * tree_weight\n",
    "    )\n",
    "    tmrca_two_pop_const_demo[\"A-B\"][(pop_a1, pop_b1)] += (\n",
    "        tree.tmrca(pop_a1, pop_b1) * tree_weight\n",
    "    )\n",
    "    tmrca_two_pop_const_demo[\"A-B\"][(pop_a1, pop_b2)] += (\n",
    "        tree.tmrca(pop_a1, pop_b2) * tree_weight\n",
    "    )\n",
    "    tmrca_two_pop_const_demo[\"A-B\"][(pop_a2, pop_b1)] += (\n",
    "        tree.tmrca(pop_a2, pop_b1) * tree_weight\n",
    "    )\n",
    "    tmrca_two_pop_const_demo[\"A-B\"][(pop_a2, pop_b2)] += (\n",
    "        tree.tmrca(pop_a2, pop_b2) * tree_weight\n",
    "    )\n",
    "# Print a summary.\n",
    "print(\n",
    "    f\"The TMRCA of the two samples in population A is {tmrca_two_pop_const_demo['A'][(pop_a1, pop_a2)]}.\"\n",
    ")\n",
    "print(\n",
    "    f\"The TMRCA of the two samples in population B is {tmrca_two_pop_const_demo['B'][(pop_b1, pop_b2)]}.\"\n",
    ")\n",
    "print(\n",
    "    f\"The mean TMRCA between two samples in populations A and B is {sum([value for value in tmrca_two_pop_const_demo['A-B'].values()]) / 4}.\"\n",
    ")"
   ]
  },
  {
   "cell_type": "code",
   "execution_count": 22,
   "metadata": {},
   "outputs": [
    {
     "name": "stdout",
     "output_type": "stream",
     "text": [
      "The TMRCA of the two samples in population A is 10488.205749724497.\n",
      "The TMRCA of the two samples in population B is 19872.234884219277.\n",
      "The mean TMRCA between two samples in populations A and B is 35490.82504041501.\n"
     ]
    }
   ],
   "source": [
    "# Initialize the sequence length.\n",
    "seq_len = 1e6\n",
    "# Extract the sample indices.\n",
    "pop_a1, pop_a2 = ts_two_pop_bott_demo.samples(0)\n",
    "pop_b1, pop_b2 = ts_two_pop_bott_demo.samples(1)\n",
    "# Initialize the TMRCAs.\n",
    "tmrca_two_pop_bott_demo = {\n",
    "    \"A\": {(pop_a1, pop_a2): 0},\n",
    "    \"B\": {(pop_b1, pop_b2): 0},\n",
    "    \"A-B\": {\n",
    "        (pop_a1, pop_b1): 0,\n",
    "        (pop_a1, pop_b2): 0,\n",
    "        (pop_a2, pop_b1): 0,\n",
    "        (pop_a2, pop_b2): 0,\n",
    "    },\n",
    "}\n",
    "# Iterate over the trees in the tree-sequence.\n",
    "for tree in ts_two_pop_bott_demo.trees():\n",
    "    # Find the tree's genomic span.\n",
    "    span = tree.span\n",
    "    # Determine the tree's weight.\n",
    "    tree_weight = span / seq_len\n",
    "    # Find the TMRCAs.\n",
    "    tmrca_two_pop_bott_demo[\"A\"][(pop_a1, pop_a2)] += (\n",
    "        tree.tmrca(pop_a1, pop_a2) * tree_weight\n",
    "    )\n",
    "    tmrca_two_pop_bott_demo[\"B\"][(pop_b1, pop_b2)] += (\n",
    "        tree.tmrca(pop_b1, pop_b2) * tree_weight\n",
    "    )\n",
    "    tmrca_two_pop_bott_demo[\"A-B\"][(pop_a1, pop_b1)] += (\n",
    "        tree.tmrca(pop_a1, pop_b1) * tree_weight\n",
    "    )\n",
    "    tmrca_two_pop_bott_demo[\"A-B\"][(pop_a1, pop_b2)] += (\n",
    "        tree.tmrca(pop_a1, pop_b2) * tree_weight\n",
    "    )\n",
    "    tmrca_two_pop_bott_demo[\"A-B\"][(pop_a2, pop_b1)] += (\n",
    "        tree.tmrca(pop_a2, pop_b1) * tree_weight\n",
    "    )\n",
    "    tmrca_two_pop_bott_demo[\"A-B\"][(pop_a2, pop_b2)] += (\n",
    "        tree.tmrca(pop_a2, pop_b2) * tree_weight\n",
    "    )\n",
    "# Print a summary.\n",
    "print(\n",
    "    f\"The TMRCA of the two samples in population A is {tmrca_two_pop_bott_demo['A'][(pop_a1, pop_a2)]}.\"\n",
    ")\n",
    "print(\n",
    "    f\"The TMRCA of the two samples in population B is {tmrca_two_pop_bott_demo['B'][(pop_b1, pop_b2)]}.\"\n",
    ")\n",
    "print(\n",
    "    f\"The mean TMRCA between two samples in populations A and B is {sum([value for value in tmrca_two_pop_bott_demo['A-B'].values()]) / 4}.\"\n",
    ")"
   ]
  },
  {
   "cell_type": "markdown",
   "metadata": {},
   "source": [
    "How and why do the within and between population TMRCA estimates differ between demographic models?"
   ]
  }
 ],
 "metadata": {
  "kernelspec": {
   "display_name": "msprime-env",
   "language": "python",
   "name": "python3"
  },
  "language_info": {
   "codemirror_mode": {
    "name": "ipython",
    "version": 3
   },
   "file_extension": ".py",
   "mimetype": "text/x-python",
   "name": "python",
   "nbconvert_exporter": "python",
   "pygments_lexer": "ipython3",
   "version": "3.13.1"
  }
 },
 "nbformat": 4,
 "nbformat_minor": 2
}
