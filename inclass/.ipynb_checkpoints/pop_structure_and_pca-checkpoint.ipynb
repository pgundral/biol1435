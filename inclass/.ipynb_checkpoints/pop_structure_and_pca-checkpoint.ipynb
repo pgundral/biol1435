{
 "cells": [
  {
   "cell_type": "markdown",
   "id": "a69c2778",
   "metadata": {},
   "source": [
    "# Population Structure and PCA In Class Exercise\n",
    "Module: Population Differentiation & Demography \\\n",
    "Topic: Population structure."
   ]
  },
  {
   "cell_type": "code",
   "execution_count": null,
   "id": "bff00e1e",
   "metadata": {},
   "outputs": [],
   "source": [
    "# Import modules.\n",
    "import demes\n",
    "import demesdraw\n",
    "import numpy as np\n",
    "import stdpopsim\n",
    "import msprime\n",
    "from matplotlib import pyplot as plt\n",
    "from mpl_toolkits.axes_grid1 import make_axes_locatable\n",
    "# Print versions.\n",
    "print('demes', demes.__version__)\n",
    "print('demesdraw', demesdraw.__version__)\n",
    "print('msprime', msprime.__version__)\n",
    "print('numpy', np.__version__)\n",
    "print('stdpopsim', stdpopsim.__version__)"
   ]
  },
  {
   "cell_type": "markdown",
   "id": "0f091df0",
   "metadata": {},
   "source": [
    "## Simulations\n",
    "Here I am using the `stdpopsim` catalog of standardized demographic models to generate these simulations. You can read more about `stdpopsim` [here](https://popsim-consortium.github.io/stdpopsim-docs/stable/index.html), to learn more about this AWESOME package! First, I will extract and visualize the demographic model that describes the evolution of North American ducks from [Lavretsky et al., 2019](https://doi.org/10.1111/mec.15343)."
   ]
  },
  {
   "cell_type": "code",
   "execution_count": null,
   "id": "6dc53a84",
   "metadata": {},
   "outputs": [],
   "source": [
    "# Intialize the species information.\n",
    "species = stdpopsim.get_species('AnaPla')\n",
    "# Intialize the demographic model.\n",
    "duck_demo = species.get_demographic_model('MallardBlackDuck_2L19')\n",
    "# Convert the demographic model to a demes graph.\n",
    "duck_graph = msprime.Demography.to_demes(duck_demo.model)"
   ]
  },
  {
   "cell_type": "code",
   "execution_count": null,
   "id": "f92bc942",
   "metadata": {},
   "outputs": [],
   "source": [
    "# Intialize the figure.\n",
    "fig = plt.figure(\n",
    "    figsize=(6, 3),\n",
    "    constrained_layout=True,\n",
    "    dpi=300.0,\n",
    ")\n",
    "# Intialize the axes.\n",
    "ax = fig.add_subplot(111)\n",
    "# Plot the demes graph.\n",
    "demesdraw.tubes(\n",
    "    duck_graph,\n",
    "    ax=ax,\n",
    "    title='North American Duck Model (Lavretsky et al., 2020)',\n",
    "    seed=42,\n",
    ")\n",
    "# Show the plot.\n",
    "plt.show()"
   ]
  },
  {
   "cell_type": "markdown",
   "id": "c4eb2292",
   "metadata": {},
   "source": [
    "Everything looks like the [catalog](https://popsim-consortium.github.io/stdpopsim-docs/stable/catalog.html#sec_catalog_anapla_models_mallardblackduck_2l19) entry for this model! Next, I will simulate a 10 Mb segment and sample 20 diploid ducks per population using the recombination and mutation rates described in the [catalog](https://popsim-consortium.github.io/stdpopsim-docs/stable/catalog.html#sec_catalog_AnaPla)."
   ]
  },
  {
   "cell_type": "code",
   "execution_count": null,
   "id": "2ed93787",
   "metadata": {},
   "outputs": [],
   "source": [
    "# Simulate.\n",
    "ts = msprime.sim_ancestry(\n",
    "    samples=[\n",
    "        msprime.SampleSet(20, ploidy=2, population='Mallard'),\n",
    "        msprime.SampleSet(20, ploidy=2, population='Black_duck'),\n",
    "    ],\n",
    "    demography=duck_demo.model,\n",
    "    sequence_length=1e5,\n",
    "    recombination_rate=1.43e-08,\n",
    "    random_seed=42,\n",
    ")\n",
    "# Overlay mutations at a rate of 4.83e-09 per base pair per generation.\n",
    "mts = msprime.sim_mutations(\n",
    "    tree_sequence=ts,\n",
    "    rate=4.83e-09,\n",
    "    random_seed=42,\n",
    "    discrete_genome=False,\n",
    ")"
   ]
  },
  {
   "cell_type": "markdown",
   "id": "6a27e24c",
   "metadata": {},
   "source": [
    "Lastly, I will extract the genotype matrix to perform calculations on."
   ]
  },
  {
   "cell_type": "code",
   "execution_count": null,
   "id": "5b58b6fa",
   "metadata": {},
   "outputs": [],
   "source": [
    "# Extract the genotype matrix.\n",
    "geno_mat = mts.genotype_matrix()"
   ]
  },
  {
   "cell_type": "markdown",
   "id": "d88aea28",
   "metadata": {},
   "source": [
    "## PCA"
   ]
  },
  {
   "cell_type": "markdown",
   "id": "b75b504b",
   "metadata": {},
   "source": [
    "First thing we will need to do for the PCA is convert our genotype matrix to an allele count $C$ matrix."
   ]
  },
  {
   "cell_type": "code",
   "execution_count": null,
   "id": "5f846c60",
   "metadata": {},
   "outputs": [],
   "source": [
    "# Intialize an empty C matrix.\n",
    "C_mat = np.empty((geno_mat.shape[1] // 2, geno_mat.shape[0]))\n",
    "# Intialize a column counter.\n",
    "c_idx = 0\n",
    "# For every individual...\n",
    "for ind in np.arange(0, geno_mat.shape[1], 2):\n",
    "    # Extract the two homologous chromosomes.\n",
    "    chrom_1 = geno_mat[:, ind]\n",
    "    chrom_2 = geno_mat[:, ind+1]\n",
    "    # Convert the diploid genotypes to derived allele counts.\n",
    "    C_mat[c_idx, :] = chrom_1 + chrom_2\n",
    "    # Move the counter forward.\n",
    "    c_idx += 1"
   ]
  },
  {
   "cell_type": "markdown",
   "id": "17271a2b",
   "metadata": {},
   "source": [
    "Next, we need to subtract each column in our $C$ matrix by the column mean $\\mu(j)$ and then divide by the standard deviation to create our zero centered $M$ matrix. Note that we will use the standard deviation of the binomial distribution (i. e. $\\sqrt{p(j)(1-p(j))}$ ) where $p(j) = \\frac{\\mu(j)}{2}$ is the allele frequency of the derived/alternative allele. We use $\\sqrt{p(j)(1-p(j))}$ because is is proportional to the change in allele frequency due to genetic drift per generation."
   ]
  },
  {
   "cell_type": "code",
   "execution_count": null,
   "id": "604a74ad",
   "metadata": {},
   "outputs": [],
   "source": [
    "# Calculate the column mean vector.\n",
    "mu_vec = np.mean(C_mat, axis=0)\n",
    "# Calculate the column allele frequency vector.\n",
    "p_vec = mu_vec / 2\n",
    "# Calculate the standard deviation vector.\n",
    "std_vec = np.sqrt(((C_mat.shape[0] * 2) * p_vec * (1 - p_vec)))\n",
    "# Convert the C matrix to a zero centered M matrix.\n",
    "M_mat = (C_mat - mu_vec) / std_vec"
   ]
  },
  {
   "cell_type": "markdown",
   "id": "3c0189bc",
   "metadata": {},
   "source": [
    "Next, we need to compute the covariance matrix $X$, which can be done by computing the inner product between the zero centered $M$ matrix and its tranpose matrix (ie $M^{T}$) and then dividing by the the sample size minus one (ie $n - 1$)."
   ]
  },
  {
   "cell_type": "code",
   "execution_count": null,
   "id": "1d42b21c",
   "metadata": {},
   "outputs": [],
   "source": [
    "# Compute the covariance matrix.\n",
    "X_mat = np.dot(M_mat, M_mat.T) / (M_mat.shape[0] - 1)"
   ]
  },
  {
   "cell_type": "markdown",
   "id": "03616f0a",
   "metadata": {},
   "source": [
    "Now, we will let `numpy` take over to perform the eigendecomposition to compute the eigenvalues and eigenvectors from the covariance matrix."
   ]
  },
  {
   "cell_type": "code",
   "execution_count": null,
   "id": "44c785fd",
   "metadata": {},
   "outputs": [],
   "source": [
    "# Compute the eigen -values and -vectors.\n",
    "eig_vals, eig_vecs = np.linalg.eig(X_mat)\n",
    "# Sort the -values and -vectors.\n",
    "eig_idx = np.argsort(eig_vals)[::-1]\n",
    "eig_vals = eig_vals[eig_idx]\n",
    "eig_vecs = eig_vecs[:, eig_idx]"
   ]
  },
  {
   "cell_type": "code",
   "execution_count": null,
   "id": "dd11007d",
   "metadata": {},
   "outputs": [],
   "source": [
    "# Intialize the figure.\n",
    "fig = plt.figure(figsize=(8, 4), constrained_layout=True, dpi=300)\n",
    "# Intialize the axes.\n",
    "ax = fig.add_subplot(111)\n",
    "# Plot the simulated results.\n",
    "ax.scatter(\n",
    "    eig_vecs[:20, 0], eig_vecs[:20, 1],\n",
    "    color='tab:green', label='Mallards',\n",
    ")\n",
    "# Plot the analytical solutions.\n",
    "ax.scatter(\n",
    "    eig_vecs[20:, 0], eig_vecs[20:, 1],\n",
    "    color='black', label='Black Ducks',\n",
    ")\n",
    "# Despine the axes.\n",
    "ax.spines['top'].set_visible(False)\n",
    "ax.spines['right'].set_visible(False)\n",
    "# Plot the legend.\n",
    "ax.legend(loc='center left', bbox_to_anchor=(1.0, 0.5), frameon=False)\n",
    "# Label the axes.\n",
    "plt.xlabel('PC1')\n",
    "plt.ylabel('PC2', rotation=0)\n",
    "# Show!\n",
    "plt.show()"
   ]
  },
  {
   "cell_type": "markdown",
   "id": "d2cf478f",
   "metadata": {},
   "source": [
    "Think back to the North American Duck demographic model, from earlier in the notebook. Does this PCA make sense, why or why not? Now let's write a generalized function."
   ]
  },
  {
   "cell_type": "code",
   "execution_count": null,
   "id": "3fdf9dac",
   "metadata": {},
   "outputs": [],
   "source": [
    "# Define a PCA function.\n",
    "def pca(genotype_matrix):\n",
    "    # Intialize an empty C matrix.\n",
    "    C_mat = np.empty((int(genotype_matrix.shape[1] / 2), genotype_matrix.shape[0]))\n",
    "    # Intialize a column counter.\n",
    "    c_idx = 0\n",
    "    # For every individual...\n",
    "    for ind in np.arange(0, genotype_matrix.shape[1], 2):\n",
    "        # Extract the two homologous chromosomes.\n",
    "        chrom_1 = genotype_matrix[:, ind]\n",
    "        chrom_2 = genotype_matrix[:, ind+1]\n",
    "        # Convert the diploid genotypes to derived allele counts.\n",
    "        C_mat[c_idx, :] = chrom_1 + chrom_2\n",
    "        # Move the counter forward.\n",
    "        c_idx += 1\n",
    "    # Calculate the column mean vector.\n",
    "    mu_vec = np.mean(C_mat, axis=0)\n",
    "    # Calculate the column allele frequency vector.\n",
    "    p_vec = mu_vec / 2\n",
    "    # Determine the indicies of sites with more than one mutation is observed.\n",
    "    good_idx = np.where(~((p_vec <= 1 / (C_mat.shape[0] * 2)) | (p_vec == 1)))[0]\n",
    "    # Calculate the standard deviation vector.\n",
    "    std_vec = np.sqrt(((C_mat.shape[0] * 2) * p_vec[good_idx] * (1 - p_vec[good_idx])))\n",
    "    # Convert the C matrix to a zero centered M matrix.\n",
    "    M_mat = (C_mat[:, good_idx] - mu_vec[good_idx]) / std_vec\n",
    "    # Compute the covariance matrix.\n",
    "    X_mat = np.dot(M_mat, M_mat.T) / (M_mat.shape[0] - 1)\n",
    "    # Compute the eigen -values and -vectors.\n",
    "    eig_vals, eig_vecs = np.linalg.eig(X_mat)\n",
    "    # Sort the -values and -vectors.\n",
    "    eig_idx = np.argsort(eig_vals)[::-1]\n",
    "    eig_vals = eig_vals[eig_idx]\n",
    "    eig_vecs = eig_vecs[:, eig_idx]\n",
    "    return eig_vals, eig_vecs"
   ]
  },
  {
   "cell_type": "markdown",
   "id": "a51b3ea3",
   "metadata": {},
   "source": [
    "## $F_{ST}$\n",
    "\n",
    "The fixation index ($F_{ST}$) is a measure of how differentiated two populations are as a value between 0 and 1. A value of 0 indicates that the two populations are interbreeding freely and are not differentiable based on genetic variation. A value of 1 indicates that the two populations do not share any genetic diversity.\n",
    "\n",
    "For these exercises we will be using Hudson's estimator of $F_{ST}$. This is because in order to estimate $F_{ST}$ this way, we only need the genotype matrices for the two populations. This is useful because other definitions for $F_{ST}$ make use of metrics that can't be easily obtained in practice.\n",
    "\n",
    "Hudson's estimator of $F_{ST}$ is defined as follows: $F_{ST} = 1 - \\frac{H_{w}}{H_{b}}$ where $H_{w} = p_1 \\left(1 - p_1\\right) + p_2 \\left(1 - p_2\\right)$ and $H_{b} = p_1 \\left(1 - p_2 \\right) + p_2 \\left(1 - p_1 \\right)$. $H_{w}$ is the average number of differences within populations, and $H_{b}$ is the average number of differences between populations. $p_1$ is the derived allele frequencies for population 1, and $p_2$ is the derived allele frequencies for population 2.\n",
    "\n",
    "Note that this definition is for a per-site $F_{ST}$. We can then average the $F_{ST}$ values for all sites to find the average $F_{ST}$ between two populations."
   ]
  },
  {
   "cell_type": "code",
   "execution_count": null,
   "id": "41b509f4",
   "metadata": {},
   "outputs": [],
   "source": [
    "# Simulate.\n",
    "ts = msprime.sim_ancestry(\n",
    "    samples=[\n",
    "        msprime.SampleSet(20, ploidy=2, population='Mallard'),\n",
    "        msprime.SampleSet(20, ploidy=2, population='Black_duck'),\n",
    "    ],\n",
    "    demography=duck_demo.model,\n",
    "    sequence_length=1e5,\n",
    "    recombination_rate=1.43e-08,\n",
    "    random_seed=42,\n",
    ")\n",
    "\n",
    "# Alternative model\n",
    "'''\n",
    "split_model = msprime.Demography()\n",
    "split_model.add_population(name='A',    initial_size=10_000)\n",
    "split_model.add_population(name='B',    initial_size=10_000)\n",
    "split_model.add_population(name='JOIN', initial_size=10_000)\n",
    "split_model.add_population_split(time=50, derived=['A', 'B'], ancestral='JOIN')\n",
    "\n",
    "ts = msprime.sim_ancestry(\n",
    "    samples=[\n",
    "        msprime.SampleSet(20, ploidy=2, population='A'),\n",
    "        msprime.SampleSet(20, ploidy=2, population='B'),\n",
    "    ],\n",
    "    demography=split_model,\n",
    "    sequence_length=1e5,\n",
    "    recombination_rate=1.43e-08\n",
    ")\n",
    "'''\n",
    "\n",
    "# Overlay mutations at a rate of 4.83e-09 per base pair per generation.\n",
    "mts = msprime.sim_mutations(\n",
    "    tree_sequence=ts,\n",
    "    rate=4.83e-09,\n",
    "    random_seed=42,\n",
    "    discrete_genome=False,\n",
    ")\n",
    "geno_mat = mts.genotype_matrix()\n",
    "\n",
    "# Calculate derived allele frequencies.\n",
    "md_freqs = geno_mat[:, :40].sum(axis=1) / geno_mat[:, :40].shape[1] # Mallard ducks.\n",
    "bd_freqs = geno_mat[:, 40:].sum(axis=1) / geno_mat[:, 40:].shape[1] # Black ducks.\n",
    "# Calculate the average gene diversity within the populations.\n",
    "H_w = ((md_freqs * (1 - md_freqs)) + (bd_freqs * (1 - bd_freqs)))\n",
    "# Calculate the average gene diversity between populations.\n",
    "H_b = ((md_freqs * (1 - bd_freqs)) + (bd_freqs * (1 - md_freqs)))\n",
    "# Calculatae the numerator and denominator of Fst.\n",
    "fst_num = H_b - H_w\n",
    "fst_den = H_b\n",
    "# Calculate the per site Fst.\n",
    "per_site_fst = fst_num / fst_den\n",
    "# Calculate the average Fst for this locus.\n",
    "avg_fst = np.sum(fst_num) / np.sum(fst_den)"
   ]
  },
  {
   "cell_type": "code",
   "execution_count": null,
   "id": "aebd1c19",
   "metadata": {},
   "outputs": [],
   "source": [
    "# Print a summary.\n",
    "print('F_ST: {0}'.format(round(avg_fst, 3)))"
   ]
  },
  {
   "cell_type": "markdown",
   "id": "76b885a7",
   "metadata": {},
   "source": [
    "How would you broadly intepret this result? Do they make sense? What would the $F_{ST}$ tell us if we only looked at ducks from the same population? Would you expect this estimate to be higher or lower if there was no on-going migration between duck populations? After you are convinced of what is going on let's write a generalized function based on derived allele frequencies. "
   ]
  },
  {
   "cell_type": "code",
   "execution_count": null,
   "id": "e59e0f01",
   "metadata": {},
   "outputs": [],
   "source": [
    "# Define a function to calculate the Fst for a given locus.\n",
    "def avg_fst(pop_a_freqs, pop_b_freqs):\n",
    "    # Calculate the average gene diversity within the populations.\n",
    "    H_w = ((pop_a_freqs * (1 - pop_a_freqs)) + (pop_b_freqs * (1 - pop_b_freqs)))\n",
    "    # Calculate the average gene diversity between populations.\n",
    "    H_b = ((pop_a_freqs * (1 - pop_b_freqs)) + (pop_b_freqs * (1 - pop_a_freqs)))\n",
    "    # Calculatae the numerator and denominator of Fst.\n",
    "    fst_num = H_b - H_w\n",
    "    fst_den = H_b\n",
    "    # Calculate the per site Fst.\n",
    "    per_site_fst = fst_num / fst_den\n",
    "    # Calculate the average Fst for this locus.\n",
    "    fst = np.sum(fst_num) / np.sum(fst_den)\n",
    "    return fst"
   ]
  },
  {
   "cell_type": "markdown",
   "id": "9c9ce790",
   "metadata": {},
   "source": [
    "## Challenge\n",
    "\n",
    "Now, let's do a challenge by looking at a multi-population human demographic model. This demographic model consists of an Admixed American population, which is a population that has arisen due to gene flow events—this is juxtaposed to introgression which involves the permant incoporation of genetic material between isolated populations. Using `stdpopsim` let's load and visualize the demographic model."
   ]
  },
  {
   "cell_type": "code",
   "execution_count": null,
   "id": "59399381",
   "metadata": {},
   "outputs": [],
   "source": [
    "# Intialize the species information.\n",
    "species = stdpopsim.get_species('HomSap')\n",
    "# Intialize the demographic model.\n",
    "human_demo = species.get_demographic_model('AmericanAdmixture_4B11')\n",
    "# Convert the demographic model to a demes graph.\n",
    "human_graph = msprime.Demography.to_demes(human_demo.model)"
   ]
  },
  {
   "cell_type": "code",
   "execution_count": null,
   "id": "1fd926df",
   "metadata": {},
   "outputs": [],
   "source": [
    "# Intialize the figure.\n",
    "fig = plt.figure(\n",
    "    figsize=(6, 3),\n",
    "    constrained_layout=True,\n",
    "    dpi=300.0,\n",
    ")\n",
    "# Intialize the axes.\n",
    "ax = fig.add_subplot(111)\n",
    "# Plot the demes graph.\n",
    "demesdraw.tubes(\n",
    "    human_graph,\n",
    "    log_time=demesdraw.utils.log_time_heuristic(human_graph),\n",
    "    ax=ax,\n",
    "    title='American Admixture Model (Browning et al., 2011)',\n",
    "    seed=42,\n",
    ")\n",
    "# Show the plot.\n",
    "plt.show()"
   ]
  },
  {
   "cell_type": "markdown",
   "id": "9d4c57a0",
   "metadata": {},
   "source": [
    "Now, let's simulate a 1 Mb sequence using the above demographic model and sample 100 diploid individuals per contemporary population."
   ]
  },
  {
   "cell_type": "code",
   "execution_count": null,
   "id": "2c98359e",
   "metadata": {},
   "outputs": [],
   "source": [
    "# Simulate.\n",
    "ts = msprime.sim_ancestry(\n",
    "    samples=[\n",
    "        msprime.SampleSet(100, ploidy=2, population='AFR'),\n",
    "        msprime.SampleSet(100, ploidy=2, population='EUR'),\n",
    "        msprime.SampleSet(100, ploidy=2, population='ASIA'),\n",
    "        msprime.SampleSet(100, ploidy=2, population='ADMIX'),\n",
    "    ],\n",
    "    demography=human_demo.model,\n",
    "    sequence_length=1e6,\n",
    "    recombination_rate=1e-8,\n",
    "    random_seed=42,\n",
    ")\n",
    "# Overlay mutations at a rate of 2.36e-8 per base pair per generation.\n",
    "mts = msprime.sim_mutations(\n",
    "    tree_sequence=ts,\n",
    "    rate=2.36e-8,\n",
    "    random_seed=42,\n",
    "    discrete_genome=False,\n",
    ")"
   ]
  },
  {
   "cell_type": "markdown",
   "id": "17f5e040",
   "metadata": {},
   "source": [
    "Now, let's extract the genotype matrices and the derived allele frequency arrays from the mutated tree-sequence"
   ]
  },
  {
   "cell_type": "code",
   "execution_count": null,
   "id": "51d23dca",
   "metadata": {},
   "outputs": [],
   "source": [
    "# Extract the genotype matrix.\n",
    "geno_mat = mts.genotype_matrix()\n",
    "# Define the number of simulated chromosomes.\n",
    "n_chroms = 200\n",
    "# Extract derived allele frequency arrays.\n",
    "afr_freqs = geno_mat[:, :200].sum(axis=1) / n_chroms\n",
    "eur_freqs = geno_mat[:, 200:400].sum(axis=1) / n_chroms\n",
    "asn_freqs = geno_mat[:, 400:600].sum(axis=1) / n_chroms\n",
    "adx_freqs = geno_mat[:, 600:].sum(axis=1) / n_chroms"
   ]
  },
  {
   "cell_type": "markdown",
   "id": "9aca47a4",
   "metadata": {},
   "source": [
    "Now it is clear to see that the Admixed American population is derived of African, European, and Asian ancestry. What do you think the PCA should look like? Write a description below before running the next two cells, which will run the PCA analysis."
   ]
  },
  {
   "cell_type": "code",
   "execution_count": null,
   "id": "c681097e",
   "metadata": {},
   "outputs": [],
   "source": [
    "# Compute the eigen -values and -vectors.\n",
    "e_vals, e_vecs = pca(geno_mat)"
   ]
  },
  {
   "cell_type": "code",
   "execution_count": null,
   "id": "29da1f9e",
   "metadata": {},
   "outputs": [],
   "source": [
    "# Intialize the figure.\n",
    "fig = plt.figure(figsize=(8, 4), constrained_layout=True, dpi=300)\n",
    "# Intialize the axes.\n",
    "ax = fig.add_subplot(111)\n",
    "# Plot the simulated results.\n",
    "# AFR.\n",
    "ax.scatter(\n",
    "    e_vecs[:100, 0], e_vecs[:100, 1],\n",
    "    color='tab:blue', label='AFR',\n",
    ")\n",
    "# EUR.\n",
    "ax.scatter(\n",
    "    e_vecs[100:200, 0], e_vecs[100:200, 1],\n",
    "    color='tab:orange', label='EUR',\n",
    ")\n",
    "# ASIA.\n",
    "ax.scatter(\n",
    "    e_vecs[200:300, 0], e_vecs[200:300, 1],\n",
    "    color='tab:green', label='ASIA',\n",
    ")\n",
    "# ADMIX.\n",
    "ax.scatter(\n",
    "    e_vecs[300:, 0], e_vecs[300:, 1],\n",
    "    color='tab:purple', label='ADMIX',\n",
    ")\n",
    "# Despine the axes.\n",
    "ax.spines['top'].set_visible(False)\n",
    "ax.spines['right'].set_visible(False)\n",
    "# Plot the legend.\n",
    "ax.legend(loc='center left', bbox_to_anchor=(1.0, 0.5), frameon=False)\n",
    "# Label the axes.\n",
    "plt.xlabel('PC1')\n",
    "plt.ylabel('PC2', rotation=0)\n",
    "# Show!\n",
    "plt.show()"
   ]
  },
  {
   "cell_type": "markdown",
   "id": "ec11416a",
   "metadata": {},
   "source": [
    "Does this PCA make sense? If not look back over the demographic model. If you are still stuck, ask the instructor for help! Next, lets compare the pairwise estimate of $F_{ST}$ between all populations."
   ]
  },
  {
   "cell_type": "code",
   "execution_count": null,
   "id": "976b6576",
   "metadata": {},
   "outputs": [],
   "source": [
    "# Intialize the matrix\n",
    "fst_mat = np.empty((4, 4))\n",
    "# Intialize a list of derived frequency arrays.\n",
    "freq_list = [\n",
    "    afr_freqs, eur_freqs,\n",
    "    asn_freqs, adx_freqs,\n",
    "]\n",
    "for row in range(4):\n",
    "    for col in range(4):\n",
    "        # Extract the populations.\n",
    "        pop_1 = freq_list[row]\n",
    "        pop_2 = freq_list[col]\n",
    "        # Fill the matricies.\n",
    "        fst_mat[row, col] = avg_fst(pop_1, pop_2)"
   ]
  },
  {
   "cell_type": "markdown",
   "id": "806358b7",
   "metadata": {},
   "source": [
    "Now, lets plot the two paiwrise divergence matricies. What are the overall trends among the populations? Do they make sense? Take a look at the diagnols, are they the same? Should they be the same? If you are not able to confidently answer all of those questions converse with a neighbor and then ask the instructor!"
   ]
  },
  {
   "cell_type": "code",
   "execution_count": null,
   "id": "b585ddf9",
   "metadata": {},
   "outputs": [],
   "source": [
    "# Intialize the figure.\n",
    "fig = plt.figure(figsize=(2.5, 2.5), constrained_layout=True, dpi=300)\n",
    "# Intialize the axes.\n",
    "ax = fig.add_subplot(111)\n",
    "# Plot pairwise Fst estimates.\n",
    "im = ax.imshow(fst_mat)\n",
    "# Intialize the positions for the colobar.\n",
    "divider = make_axes_locatable(ax)\n",
    "cax = divider.append_axes('right', size='5%', pad=0.05)\n",
    "# Plot the color bar.\n",
    "cbar = fig.colorbar(im, cax=cax)\n",
    "# Set and label the y-axis ticks.\n",
    "ax.set_yticks(\n",
    "    np.arange(4), \n",
    "    labels=['AFR', 'EUR', 'ASN', 'ADMX'],\n",
    ")\n",
    "# Set and label the x-axis ticks.\n",
    "ax.set_xticks(\n",
    "    np.arange(4),\n",
    "    labels=['AFR', 'EUR', 'ASN', 'ADMX'],\n",
    ")\n",
    "# Annotate the colobar.\n",
    "cbar.set_label(r'        $F_{ST}$', rotation=0)\n",
    "# Show the plot!\n",
    "plt.show()"
   ]
  }
 ],
 "metadata": {
  "kernelspec": {
   "display_name": "Python 3",
   "language": "python",
   "name": "biol1435"
  },
  "language_info": {
   "codemirror_mode": {
    "name": "ipython",
    "version": 3
   },
   "file_extension": ".py",
   "mimetype": "text/x-python",
   "name": "python",
   "nbconvert_exporter": "python",
   "pygments_lexer": "ipython3",
   "version": "3.10.13"
  }
 },
 "nbformat": 4,
 "nbformat_minor": 5
}
