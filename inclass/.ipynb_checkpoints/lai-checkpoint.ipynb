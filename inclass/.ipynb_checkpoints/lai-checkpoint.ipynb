{
 "cells": [
  {
   "cell_type": "markdown",
   "id": "1b2164b8-4c82-4fd0-8c87-76eb35f03f7e",
   "metadata": {},
   "source": [
    "# Building a small LAI model\n",
    "\n",
    "For today's exercise we'll be building a small classifier that can infer the ancestries of query haplotypes after being trained on many haplotype - ancestry pairs. Put another way, this model will learn to classify haplotypes as belonging to different populations. We will only be using simulated data for this exercise, so let's start by defining some functions to simulate our data. We will begin with a simple 3 population model with no migration:"
   ]
  },
  {
   "cell_type": "code",
   "execution_count": 2,
   "id": "8fb8dd36-0023-46de-91dd-408a0c7e051a",
   "metadata": {},
   "outputs": [],
   "source": [
    "import msprime\n",
    "import numpy   as np\n",
    "import seaborn as sn # Plotting\n",
    "import matplotlib.pyplot as plt # Plotting\n",
    "\n",
    "from sklearn.metrics import confusion_matrix # Plotting\n",
    "\n",
    "\n",
    "#################\n",
    "# VISUALIZATION #\n",
    "#################\n",
    "\n",
    "\n",
    "def plot_confusion(predictions, labels, num_pops):\n",
    "    # Create confusion matrix\n",
    "    conf_matrix = confusion_matrix(labels, predictions)\n",
    "    conf_matrix = conf_matrix / conf_matrix.sum(axis=1)\n",
    "\n",
    "    # Plot confusion matrix\n",
    "    classes = ['ABCDEFG'[x] for x in range(num_pops)]\n",
    "    plt.figure(figsize=(12, 7))\n",
    "    sn.set(font_scale=1.9)\n",
    "    sn.heatmap(conf_matrix, annot=True, fmt='.2f', xticklabels=classes, yticklabels=classes, vmin=0, vmax=1)\n",
    "    plt.show();\n",
    "\n",
    "\n",
    "##############\n",
    "# DEMOGRAPHY #\n",
    "##############\n",
    "\n",
    "\n",
    "def simple_divergence(n, l, ab_split=1_000, abc_split=4_000):\n",
    "    '''\n",
    "    Simulation of n * 2 diploid samples for each population, we consider three populations \"A\", \"B\", and \"C\" such that:\n",
    "        - Each has N_e = 10,000 in the present.\n",
    "        - \"A\" and \"B\"  become a single population \"AB\"  :ab_split  generations in the past.\n",
    "        - \"C\" and \"AB\" become a single population \"ABC\" :abc_split generations in the past.\n",
    "\n",
    "    Parameters:\n",
    "        n - Number of samples to simulate (per population).\n",
    "        l - Length of the region to simulate.\n",
    "        ab_split  - Generations in the past when \"AB\"  split into \"A\"  and \"B\"\n",
    "        abc_split - Generatiosn in the past when \"ABC\" split into \"AB\" and \"C\"\n",
    "\n",
    "    Output value:\n",
    "        Tree sequence for the simulated and mutated samples.\n",
    "\n",
    "    Relevant Documentation:\n",
    "        msprime.Demography\n",
    "        msprime.SampleSet\n",
    "        msprime.sim_ancestry()\n",
    "    '''\n",
    "\n",
    "    pass"
   ]
  },
  {
   "cell_type": "markdown",
   "id": "1bd1319b-2423-43d9-a97c-b63bbf60267b",
   "metadata": {},
   "source": [
    "Now that we have some functions to simulate data, we want to:\n",
    "\n",
    "  1. Simulate a large enough dataset for training + testing\n",
    "  2. Split the simulated data into training and testing sets\n",
    "  3. Label our data, since this is supervised machine learning\n",
    "  4. Fit our model to the training data\n",
    "  5. Predict and measure the model error on the testing data "
   ]
  },
  {
   "cell_type": "code",
   "execution_count": 3,
   "id": "bcbc8290-f438-46bb-a92d-f793353de236",
   "metadata": {},
   "outputs": [],
   "source": [
    "import numpy as np\n",
    "\n",
    "from sklearn.tree            import DecisionTreeClassifier\n",
    "from sklearn.model_selection import train_test_split\n",
    "\n",
    "\n",
    "# Generate data matrix\n",
    "n_samples = 300\n",
    "max_snp   = 1024\n",
    "ts        = simple_divergence(n_samples, 1_000_000, 200, 400)\n",
    "\n",
    "# Extract genotype matrix, rows as individuals and columns as SNPs\n",
    "pass\n",
    "\n",
    "# Generate labels\n",
    "n_pops = 3\n",
    "labels = []\n",
    "for pop in range(n_pops):\n",
    "    labels.extend([pop] * n_samples * 2)\n",
    "\n",
    "# Split into training and testing datasets\n",
    "pass\n",
    "\n",
    "# Train model\n",
    "pass\n",
    "\n",
    "# Make predictions\n",
    "pass\n",
    "\n",
    "# Show results\n",
    "pass"
   ]
  },
  {
   "cell_type": "markdown",
   "id": "270180d8-583b-417f-9ad8-c7cae8c2d2a4",
   "metadata": {},
   "source": [
    "What are some limitations for this approach of classifying sequences?\n",
    "\n",
    "Consider the way most real world datasets are structured. How could we train on existing datasets but make inferences on unlabeled data? How will our model behave for admixed individuals?"
   ]
  },
  {
   "cell_type": "code",
   "execution_count": null,
   "id": "5c419519-c97d-44a3-a74d-d56f1500add1",
   "metadata": {},
   "outputs": [],
   "source": []
  }
 ],
 "metadata": {
  "kernelspec": {
   "display_name": "Python 3",
   "language": "python",
   "name": "biol1435"
  },
  "language_info": {
   "codemirror_mode": {
    "name": "ipython",
    "version": 3
   },
   "file_extension": ".py",
   "mimetype": "text/x-python",
   "name": "python",
   "nbconvert_exporter": "python",
   "pygments_lexer": "ipython3",
   "version": "3.9.21"
  }
 },
 "nbformat": 4,
 "nbformat_minor": 5
}
